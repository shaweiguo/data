{
 "cells": [
  {
   "cell_type": "code",
   "execution_count": 1,
   "metadata": {},
   "outputs": [],
   "source": [
    "import matplotlib.pyplot as plt\n",
    "%matplotlib inline\n",
    "\n",
    "import numpy as np\n",
    "import tensorflow as tf\n",
    "from sklearn import datasets\n",
    "sess = tf.Session()"
   ]
  },
  {
   "cell_type": "code",
   "execution_count": 10,
   "metadata": {},
   "outputs": [
    {
     "name": "stdout",
     "output_type": "stream",
     "text": [
      "Step #250: A=[[0.52943575]\n",
      " [0.715475  ]\n",
      " [0.5525618 ]], b=[[0.51004326]], Loss=[2.2688437]\n",
      "Step #500: A=[[0.80337733]\n",
      " [0.5596448 ]\n",
      " [0.33825868]], b=[[0.6506025]], Loss=[1.2864405]\n",
      "Step #750: A=[[0.8826924 ]\n",
      " [0.5218454 ]\n",
      " [0.21104309]], b=[[0.7493222]], Loss=[1.1075016]\n",
      "Step #1000: A=[[0.89392686]\n",
      " [0.52567786]\n",
      " [0.12597138]], b=[[0.83154476]], Loss=[1.0990325]\n"
     ]
    }
   ],
   "source": [
    "iris = datasets.load_iris()\n",
    "x_vals = np.array([[x[1], x[2], x[3]] for x in iris.data])\n",
    "y_vals = np.array([y[0] for y in iris.data])\n",
    "\n",
    "batch_size = 50\n",
    "learning_rate = 0.001\n",
    "x_data = tf.placeholder(shape=[None, 3], dtype=tf.float32)\n",
    "y_target = tf.placeholder(shape=[None, 1], dtype=tf.float32)\n",
    "A = tf.Variable(tf.random_normal(shape=[3,1]))\n",
    "b = tf.Variable(tf.random_normal(shape=[1,1]))\n",
    "model_output = tf.add(tf.matmul(x_data, A), b)\n",
    "\n",
    "elastic_param1 = tf.constant(1.)\n",
    "elastic_param2 = tf.constant(1.)\n",
    "l1_a_loss = tf.reduce_mean(tf.abs(A))\n",
    "l2_a_loss = tf.reduce_mean(tf.square(A))\n",
    "e1_term = tf.multiply(elastic_param1, l1_a_loss)\n",
    "e2_term = tf.multiply(elastic_param2, l2_a_loss)\n",
    "loss = tf.expand_dims(tf.add(tf.add(tf.reduce_mean(tf.square(y_target - model_output)), e1_term), e2_term), 0)\n",
    "\n",
    "init = tf.global_variables_initializer()\n",
    "sess.run(init)\n",
    "opt = tf.train.GradientDescentOptimizer(learning_rate)\n",
    "train_step = opt.minimize(loss)\n",
    "\n",
    "loss_vec = []\n",
    "for i in range(1000):\n",
    "    rand_index = np.random.choice(len(x_vals), size=batch_size)\n",
    "    rand_x = x_vals[rand_index]\n",
    "    rand_y = np.transpose([y_vals[rand_index]])\n",
    "    sess.run(train_step, feed_dict={x_data: rand_x, y_target: rand_y})\n",
    "    temp_loss = sess.run(loss, feed_dict={x_data: rand_x, y_target: rand_y})\n",
    "    loss_vec.append(temp_loss[0])\n",
    "    if (i+1) % 250 == 0:\n",
    "        print('Step #{}: A={}, b={}, Loss={}'.format(str(i+1), str(sess.run(A)), str(sess.run(b)), str(temp_loss)))"
   ]
  },
  {
   "cell_type": "code",
   "execution_count": 11,
   "metadata": {},
   "outputs": [
    {
     "data": {
      "image/png": "[encoded data removed]",
      "text/plain": [
       "<Figure size 432x288 with 1 Axes>"
      ]
     },
     "metadata": {
      "needs_background": "light"
     },
     "output_type": "display_data"
    }
   ],
   "source": [
    "plt.plot(loss_vec, 'k-')\n",
    "plt.title('Loss per Generator')\n",
    "plt.xlabel('Generation')\n",
    "plt.ylabel('Loss')\n",
    "plt.show()"
   ]
  },
  {
   "cell_type": "code",
   "execution_count": null,
   "metadata": {},
   "outputs": [],
   "source": []
  }
 ],
 "metadata": {
  "kernelspec": {
   "display_name": "Python 3",
   "language": "python",
   "name": "python3"
  },
  "language_info": {
   "codemirror_mode": {
    "name": "ipython",
    "version": 3
   },
   "file_extension": ".py",
   "mimetype": "text/x-python",
   "name": "python",
   "nbconvert_exporter": "python",
   "pygments_lexer": "ipython3",
   "version": "3.6.7"
  }
 },
 "nbformat": 4,
 "nbformat_minor": 2
}
