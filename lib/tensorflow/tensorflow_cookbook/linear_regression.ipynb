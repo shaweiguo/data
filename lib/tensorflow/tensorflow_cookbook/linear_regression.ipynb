{
 "cells": [
  {
   "cell_type": "code",
   "execution_count": 1,
   "metadata": {},
   "outputs": [],
   "source": [
    "import numpy as np\n",
    "import matplotlib.pyplot as plt\n",
    "import tensorflow as tf\n",
    "\n",
    "%matplotlib inline"
   ]
  },
  {
   "cell_type": "code",
   "execution_count": 2,
   "metadata": {},
   "outputs": [],
   "source": [
    "sess = tf.Session()"
   ]
  },
  {
   "cell_type": "code",
   "execution_count": 3,
   "metadata": {},
   "outputs": [],
   "source": [
    "x_vals = np.linspace(0, 10, 100)\n",
    "y_vals = x_vals + np.random.normal(0, 1, 100)"
   ]
  },
  {
   "cell_type": "code",
   "execution_count": 4,
   "metadata": {},
   "outputs": [],
   "source": [
    "x_vals_column = np.transpose(np.matrix(x_vals))\n",
    "ones_column = np.transpose(np.matrix(np.repeat(1, 100)))\n",
    "A = np.column_stack((x_vals_column, ones_column))\n",
    "b = np.transpose(np.matrix(y_vals))"
   ]
  },
  {
   "cell_type": "code",
   "execution_count": 8,
   "metadata": {},
   "outputs": [],
   "source": [
    "A_tensor = tf.constant(A)\n",
    "b_tensor = tf.constant(b)"
   ]
  },
  {
   "cell_type": "code",
   "execution_count": 9,
   "metadata": {},
   "outputs": [],
   "source": [
    "tA_A = tf.matmul(tf.transpose(A_tensor), A_tensor)\n",
    "tA_A_inv = tf.matrix_inverse(tA_A)\n",
    "product = tf.matmul(tA_A_inv, tf.transpose(A_tensor))\n",
    "solution = tf.matmul(product, b_tensor)\n",
    "solution_eval = sess.run(solution)"
   ]
  },
  {
   "cell_type": "code",
   "execution_count": 10,
   "metadata": {},
   "outputs": [
    {
     "name": "stdout",
     "output_type": "stream",
     "text": [
      "slope: 1.0466393552032864\n",
      "y_intercept: -0.18635004240231456\n"
     ]
    },
    {
     "data": {
      "image/png": "[encoded data removed]",
      "text/plain": [
       "<Figure size 432x288 with 1 Axes>"
      ]
     },
     "metadata": {
      "needs_background": "light"
     },
     "output_type": "display_data"
    }
   ],
   "source": [
    "slope = solution_eval[0][0]\n",
    "y_intercept = solution_eval[1][0]\n",
    "print('slope: ' + str(slope))\n",
    "print('y_intercept: ' + str(y_intercept))\n",
    "\n",
    "best_fit = []\n",
    "for i in x_vals:\n",
    "    best_fit.append(slope * i + y_intercept)\n",
    "plt.plot(x_vals, y_vals, 'o', label='Data')\n",
    "plt.plot(x_vals, best_fit, 'r-', label='Best fit line', linewidth=3)\n",
    "plt.legend(loc='upper left')\n",
    "plt.show()"
   ]
  },
  {
   "cell_type": "code",
   "execution_count": null,
   "metadata": {},
   "outputs": [],
   "source": []
  }
 ],
 "metadata": {
  "kernelspec": {
   "display_name": "Python 3",
   "language": "python",
   "name": "python3"
  },
  "language_info": {
   "codemirror_mode": {
    "name": "ipython",
    "version": 3
   },
   "file_extension": ".py",
   "mimetype": "text/x-python",
   "name": "python",
   "nbconvert_exporter": "python",
   "pygments_lexer": "ipython3",
   "version": "3.6.7"
  }
 },
 "nbformat": 4,
 "nbformat_minor": 2
}
