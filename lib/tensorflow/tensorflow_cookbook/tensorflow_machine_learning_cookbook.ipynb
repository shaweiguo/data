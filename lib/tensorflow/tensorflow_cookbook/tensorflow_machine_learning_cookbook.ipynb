{
 "cells": [
  {
   "cell_type": "code",
   "execution_count": 1,
   "metadata": {},
   "outputs": [],
   "source": [
    "import numpy as np\n",
    "import matplotlib.pyplot as plt\n",
    "import tensorflow as tf\n",
    "\n",
    "%matplotlib inline"
   ]
  },
  {
   "cell_type": "code",
   "execution_count": 2,
   "metadata": {},
   "outputs": [],
   "source": [
    "arr1 = np.array([[1., 3., 5., 7, 9.],\n",
    "                [-2., 0., 2., 4., 6.],\n",
    "                [-6., -3., 0., 3., 6.]])\n",
    "x_vals = np.array([arr1, arr1 + 1])"
   ]
  },
  {
   "cell_type": "code",
   "execution_count": 3,
   "metadata": {},
   "outputs": [
    {
     "data": {
      "text/plain": [
       "array([[[ 1.,  3.,  5.,  7.,  9.],\n",
       "        [-2.,  0.,  2.,  4.,  6.],\n",
       "        [-6., -3.,  0.,  3.,  6.]],\n",
       "\n",
       "       [[ 2.,  4.,  6.,  8., 10.],\n",
       "        [-1.,  1.,  3.,  5.,  7.],\n",
       "        [-5., -2.,  1.,  4.,  7.]]])"
      ]
     },
     "execution_count": 3,
     "metadata": {},
     "output_type": "execute_result"
    }
   ],
   "source": [
    "x_vals"
   ]
  },
  {
   "cell_type": "code",
   "execution_count": 4,
   "metadata": {},
   "outputs": [
    {
     "data": {
      "text/plain": [
       "(2, 3, 5)"
      ]
     },
     "execution_count": 4,
     "metadata": {},
     "output_type": "execute_result"
    }
   ],
   "source": [
    "x_vals.shape"
   ]
  },
  {
   "cell_type": "code",
   "execution_count": 5,
   "metadata": {},
   "outputs": [],
   "source": [
    "x_data = tf.placeholder(tf.float32, shape=(3, 5))"
   ]
  },
  {
   "cell_type": "code",
   "execution_count": 6,
   "metadata": {},
   "outputs": [],
   "source": [
    "m1 = tf.constant([[1.], [0.], [-1], [2.], [4.]])\n",
    "m2 = tf.constant([[2.]])\n",
    "a1 = tf.constant([[10.]])"
   ]
  },
  {
   "cell_type": "code",
   "execution_count": 7,
   "metadata": {},
   "outputs": [
    {
     "data": {
      "text/plain": [
       "TensorShape([Dimension(1), Dimension(1)])"
      ]
     },
     "execution_count": 7,
     "metadata": {},
     "output_type": "execute_result"
    }
   ],
   "source": [
    "a1.shape"
   ]
  },
  {
   "cell_type": "code",
   "execution_count": 8,
   "metadata": {},
   "outputs": [
    {
     "data": {
      "text/plain": [
       "TensorShape([Dimension(5), Dimension(1)])"
      ]
     },
     "execution_count": 8,
     "metadata": {},
     "output_type": "execute_result"
    }
   ],
   "source": [
    "m1.shape"
   ]
  },
  {
   "cell_type": "code",
   "execution_count": 9,
   "metadata": {},
   "outputs": [],
   "source": [
    "prod1 = tf.matmul(x_data, m1)\n",
    "prod2 = tf.matmul(prod1, m2)\n",
    "add1 = tf.add(prod2, a1)"
   ]
  },
  {
   "cell_type": "code",
   "execution_count": 10,
   "metadata": {},
   "outputs": [
    {
     "name": "stdout",
     "output_type": "stream",
     "text": [
      "[[102.]\n",
      " [ 66.]\n",
      " [ 58.]]\n",
      "[[114.]\n",
      " [ 78.]\n",
      " [ 70.]]\n"
     ]
    }
   ],
   "source": [
    "with tf.Session() as sess:\n",
    "    for x_val in x_vals:\n",
    "        print(sess.run(add1, feed_dict={x_data: x_val}))"
   ]
  },
  {
   "cell_type": "code",
   "execution_count": 11,
   "metadata": {},
   "outputs": [],
   "source": [
    "x_shape = [1, 4, 4, 1]\n",
    "x_val = np.random.uniform(size=x_shape)"
   ]
  },
  {
   "cell_type": "code",
   "execution_count": 12,
   "metadata": {},
   "outputs": [
    {
     "data": {
      "text/plain": [
       "array([[[[0.79219292],\n",
       "         [0.3444613 ],\n",
       "         [0.31058717],\n",
       "         [0.5382745 ]],\n",
       "\n",
       "        [[0.78270856],\n",
       "         [0.15797005],\n",
       "         [0.24566869],\n",
       "         [0.91045344]],\n",
       "\n",
       "        [[0.76732513],\n",
       "         [0.89895559],\n",
       "         [0.93127118],\n",
       "         [0.56263588]],\n",
       "\n",
       "        [[0.36466346],\n",
       "         [0.5603983 ],\n",
       "         [0.44948312],\n",
       "         [0.58293637]]]])"
      ]
     },
     "execution_count": 12,
     "metadata": {},
     "output_type": "execute_result"
    }
   ],
   "source": [
    "x_val"
   ]
  },
  {
   "cell_type": "code",
   "execution_count": 13,
   "metadata": {},
   "outputs": [],
   "source": [
    "x_data = tf.placeholder(tf.float32, shape=x_shape)"
   ]
  },
  {
   "cell_type": "code",
   "execution_count": 14,
   "metadata": {},
   "outputs": [
    {
     "data": {
      "text/plain": [
       "<tf.Tensor 'Placeholder_1:0' shape=(1, 4, 4, 1) dtype=float32>"
      ]
     },
     "execution_count": 14,
     "metadata": {},
     "output_type": "execute_result"
    }
   ],
   "source": [
    "x_data"
   ]
  },
  {
   "cell_type": "code",
   "execution_count": 15,
   "metadata": {},
   "outputs": [],
   "source": [
    "filter1 = tf.constant(0.25, shape=[2, 2, 1, 1])\n",
    "stride1 = [1, 2, 2, 1]\n",
    "mov_avg_layer = tf.nn.conv2d(x_data, filter1, stride1, padding='SAME', name='Moving_Avg_Window')"
   ]
  },
  {
   "cell_type": "code",
   "execution_count": 16,
   "metadata": {},
   "outputs": [],
   "source": [
    "def custom_layer(input_matrix):\n",
    "    input_matrix_squeezed = tf.squeeze(input_matrix)\n",
    "    A = tf.constant([[1., 2.], [-1., 3.]])\n",
    "    b = tf.constant(1., shape=[2, 2])\n",
    "    temp1 = tf.matmul(A, input_matrix_squeezed)\n",
    "    temp = tf.add(temp1, b) # Ax + b\n",
    "    return tf.sigmoid(temp)"
   ]
  },
  {
   "cell_type": "code",
   "execution_count": 17,
   "metadata": {},
   "outputs": [],
   "source": [
    "with tf.name_scope('Custom_Layer') as scope:\n",
    "    custom_layer1 = custom_layer(mov_avg_layer)"
   ]
  },
  {
   "cell_type": "code",
   "execution_count": 18,
   "metadata": {},
   "outputs": [
    {
     "name": "stdout",
     "output_type": "stream",
     "text": [
      "[[0.94348127 0.940722  ]\n",
      " [0.9186522  0.9163302 ]]\n"
     ]
    }
   ],
   "source": [
    "with tf.Session() as sess:\n",
    "    print(sess.run(custom_layer1, feed_dict={x_data: x_val}))"
   ]
  },
  {
   "cell_type": "code",
   "execution_count": 33,
   "metadata": {},
   "outputs": [
    {
     "data": {
      "image/png": "[encoded data removed]",
      "text/plain": [
       "<Figure size 432x288 with 1 Axes>"
      ]
     },
     "metadata": {
      "needs_background": "light"
     },
     "output_type": "display_data"
    }
   ],
   "source": [
    "# Loss function for regression\n",
    "\n",
    "x_vals = tf.linspace(-1., 1., 500)\n",
    "target = tf.constant(0.)\n",
    "\n",
    "with tf.Session() as sess:\n",
    "    l2_y_vals = tf.square(target - x_vals)\n",
    "    l2_y_out = sess.run(l2_y_vals)\n",
    "    \n",
    "    l1_y_vals = tf.abs(target - x_vals)\n",
    "    l1_y_out = sess.run(l1_y_vals)\n",
    "\n",
    "    delta1 = tf.constant(0.25)\n",
    "    phuber1_y_vals = tf.multiply(tf.square(delta1), tf.sqrt(1. + tf.square((target - x_vals)/delta1)) - 1.)\n",
    "\n",
    "    phuber1_y_out = sess.run(phuber1_y_vals)\n",
    "    delta2 = tf.constant(5.)\n",
    "    phuber2_y_vals = tf.multiply(tf.square(delta2), tf.sqrt(1. + tf.square((target - x_vals)/delta2)) - 1.)\n",
    "    phuber2_y_out = sess.run(phuber2_y_vals)\n",
    "    \n",
    "    x_array = sess.run(x_vals)\n",
    "    plt.plot(x_array, l2_y_out, 'b-', label='L2 Loss')\n",
    "    plt.plot(x_array, l1_y_out, 'r--', label='L1 Loss')\n",
    "    plt.plot(x_array, phuber1_y_out, 'k-.', label='P-Huber Loss (0.25)')\n",
    "    plt.plot(x_array, phuber2_y_out, 'g:', label='P-Huber Loss (5.0)')\n",
    "    plt.ylim(-0.2, 0.4)\n",
    "    plt.legend(loc='lower right', prop={'size': 11})\n",
    "    plt.show()"
   ]
  },
  {
   "cell_type": "code",
   "execution_count": 35,
   "metadata": {},
   "outputs": [
    {
     "name": "stdout",
     "output_type": "stream",
     "text": [
      "[1.1601256]\n",
      "[0.00012564]\n"
     ]
    },
    {
     "data": {
      "image/png": "[encoded data removed]",
      "text/plain": [
       "<Figure size 432x288 with 1 Axes>"
      ]
     },
     "metadata": {
      "needs_background": "light"
     },
     "output_type": "display_data"
    }
   ],
   "source": [
    "# Loss function for categorical outputs\n",
    "\n",
    "x_vals = tf.linspace(-3., 5., 500)\n",
    "target = tf.constant(1.)\n",
    "targets = tf.fill([500,], 1.)\n",
    "\n",
    "with tf.Session() as sess:\n",
    "    hinge_y_vals = tf.maximum(0., 1. - tf.multiply(target, x_vals))\n",
    "    hinge_y_out = sess.run(hinge_y_vals)\n",
    "    \n",
    "    xentropy_y_vals = - tf.multiply(target, tf.log(x_vals)) - tf.multiply((1. - target), tf.log(1. - x_vals))\n",
    "    xentropy_y_out = sess.run(xentropy_y_vals)\n",
    "    \n",
    "    xentropy_sigmoid_y_vals = tf.nn.sigmoid_cross_entropy_with_logits(logits=x_vals, labels= targets)\n",
    "    xentropy_sigmoid_y_out = sess.run(xentropy_sigmoid_y_vals)\n",
    "    \n",
    "    weight = tf.constant(0.5)\n",
    "    xentropy_weighted_y_vals = tf.nn.weighted_cross_entropy_with_logits(logits=x_vals, targets=targets, pos_weight=weight)\n",
    "    xentropy_weighted_y_out = sess.run(xentropy_weighted_y_vals)\n",
    "    \n",
    "    unscaled_logits = tf.constant([[1., -3., 10.]])\n",
    "    target_dist = tf.constant([[0.1, 0.02, 0.88]])\n",
    "    softmax_xentropy = tf.nn.softmax_cross_entropy_with_logits_v2(logits=unscaled_logits, labels=target_dist)\n",
    "    print(sess.run(softmax_xentropy))\n",
    "    \n",
    "    unscaled_logits = tf.constant([[1., -3., 10.]])\n",
    "    sparse_target_dist = tf.constant([2])\n",
    "    sparse_xentropy = tf.nn.sparse_softmax_cross_entropy_with_logits(logits=unscaled_logits, labels=sparse_target_dist)\n",
    "    print(sess.run(sparse_xentropy))\n",
    "    \n",
    "    x_array = sess.run(x_vals)\n",
    "    plt.plot(x_array, hinge_y_out, 'b-', label='Hinge Loss')\n",
    "    plt.plot(x_array, xentropy_y_out, 'r--', label='Cross Entropy Loss')\n",
    "    plt.plot(x_array, xentropy_sigmoid_y_out, 'k-.', label='Cross Entropy Sigmoid Loss')\n",
    "    plt.plot(x_array, xentropy_weighted_y_out, 'g:', label='Weighted Cross Entropy Loss (x0.5)')\n",
    "    plt.ylim(-1.5, 3)\n",
    "    plt.legend(loc='lower right', prop={'size': 11})\n",
    "    plt.show()\n"
   ]
  },
  {
   "cell_type": "code",
   "execution_count": 37,
   "metadata": {},
   "outputs": [],
   "source": [
    "x_vals = np.random.normal(1, 0.1, 100)\n",
    "y_vals = np.repeat(10., 100)\n",
    "x_data = tf.placeholder(shape=[1], dtype=tf.float32)\n",
    "y_target = tf.placeholder(shape=[1], dtype=tf.float32)\n",
    "A = tf.Variable(tf.random_normal(shape=[1]))"
   ]
  },
  {
   "cell_type": "code",
   "execution_count": 42,
   "metadata": {},
   "outputs": [],
   "source": [
    "xa = tf.multiply(x_data, A)\n",
    "loss = tf.square(xa - y_target)\n",
    "optimizer = tf.train.GradientDescentOptimizer(learning_rate=0.02)\n",
    "train_step = optimizer.minimize(loss)"
   ]
  },
  {
   "cell_type": "code",
   "execution_count": 46,
   "metadata": {},
   "outputs": [
    {
     "name": "stdout",
     "output_type": "stream",
     "text": [
      "Step #0 A = [1.1232152]\n",
      "Loss = [78.68309]\n",
      "Step #25 A = [6.788255]\n",
      "Loss = [11.893176]\n",
      "Step #50 A = [8.781639]\n",
      "Loss = [2.893736]\n",
      "Step #75 A = [9.431318]\n",
      "Loss = [0.507865]\n"
     ]
    }
   ],
   "source": [
    "init = tf.global_variables_initializer()\n",
    "with tf.Session() as sess:\n",
    "    sess.run(init)\n",
    "    for i in range(100):\n",
    "        rand_index = np.random.choice(100)\n",
    "        rand_x = [x_vals[rand_index]]\n",
    "        rand_y = [y_vals[rand_index]]\n",
    "        sess.run(train_step, feed_dict={x_data: rand_x, y_target: rand_y})\n",
    "        if (i) % 25 == 0:\n",
    "            print('Step #' + str(i) + ' A = ' + str(sess.run(A)))\n",
    "            print('Loss = ' + str(sess.run(loss, feed_dict={x_data: rand_x, y_target: rand_y})))"
   ]
  },
  {
   "cell_type": "code",
   "execution_count": 49,
   "metadata": {},
   "outputs": [],
   "source": [
    "from tensorflow.python.framework import ops"
   ]
  },
  {
   "cell_type": "code",
   "execution_count": 50,
   "metadata": {},
   "outputs": [],
   "source": [
    "ops.reset_default_graph()"
   ]
  },
  {
   "cell_type": "code",
   "execution_count": 51,
   "metadata": {},
   "outputs": [],
   "source": [
    "x_vals = np.concatenate((np.random.normal(-1, 1, 50), np.random.normal(3, 1, 50)))\n",
    "y_vals = np.concatenate((np.repeat(0., 50), np.repeat(1., 50)))\n",
    "x_data = tf.placeholder(shape=[1], dtype=tf.float32)\n",
    "y_target = tf.placeholder(shape=[1], dtype=tf.float32)\n",
    "A = tf.Variable(tf.random_normal(mean=10, shape=[1]))"
   ]
  },
  {
   "cell_type": "code",
   "execution_count": 62,
   "metadata": {},
   "outputs": [
    {
     "name": "stdout",
     "output_type": "stream",
     "text": [
      "Step 200 : A = [5.241229] Loss = [[0.00076018]]\n",
      "Step 400 : A = [1.3012258] Loss = [[0.04348132]]\n",
      "Step 600 : A = [-0.03157805] Loss = [[0.03126411]]\n",
      "Step 800 : A = [-0.56993186] Loss = [[0.05941249]]\n",
      "Step 1000 : A = [-0.9323486] Loss = [[0.04874627]]\n",
      "Step 1200 : A = [-1.045586] Loss = [[0.10765417]]\n",
      "Step 1400 : A = [-0.9526823] Loss = [[0.08289881]]\n"
     ]
    }
   ],
   "source": [
    "x_plus_A = tf.add(x_data, A)\n",
    "x_plus_A_expanded = tf.expand_dims(x_plus_A, 0)\n",
    "y_target_expanded = tf.expand_dims(y_target, 0)\n",
    "\n",
    "init = tf.global_variables_initializer()\n",
    "\n",
    "with tf.Session() as sess:\n",
    "    sess.run(init)\n",
    "    xentropy = tf.nn.sigmoid_cross_entropy_with_logits(logits=x_plus_A_expanded, labels=y_target_expanded)\n",
    "    optimizer = tf.train.GradientDescentOptimizer(0.05)\n",
    "    train_step = optimizer.minimize(xentropy)\n",
    "    \n",
    "    for i in range(1400):\n",
    "        rand_index = np.random.choice(100)\n",
    "        rand_x = [x_vals[rand_index]]\n",
    "        rand_y = [y_vals[rand_index]]\n",
    "        sess.run(train_step, feed_dict={x_data: rand_x, y_target: rand_y})\n",
    "        \n",
    "        if (i + 1) % 200 == 0:\n",
    "            print('Step {} : A = {} Loss = {}'.format(str(i + 1), str(sess.run(A)), str(sess.run(xentropy, feed_dict={x_data: rand_x, y_target: rand_y}))))"
   ]
  },
  {
   "cell_type": "code",
   "execution_count": 74,
   "metadata": {
    "scrolled": true
   },
   "outputs": [
    {
     "name": "stdout",
     "output_type": "stream",
     "text": [
      "Step #5 A=[[1.6868321]] Loss=69.48467\n",
      "Step #10 A=[[3.197256]] Loss=44.886986\n",
      "Step #15 A=[[4.4451375]] Loss=31.330578\n",
      "Step #20 A=[[5.4604263]] Loss=19.647453\n",
      "Step #25 A=[[6.2853556]] Loss=14.835106\n",
      "Step #30 A=[[6.9573355]] Loss=9.059441\n",
      "Step #35 A=[[7.50761]] Loss=7.1818323\n",
      "Step #40 A=[[7.947893]] Loss=4.7146735\n",
      "Step #45 A=[[8.327005]] Loss=4.5007296\n",
      "Step #50 A=[[8.648283]] Loss=2.5298424\n",
      "Step #55 A=[[8.920421]] Loss=2.8724148\n",
      "Step #60 A=[[9.0983095]] Loss=1.1029843\n",
      "Step #65 A=[[9.261156]] Loss=0.966575\n",
      "Step #70 A=[[9.372545]] Loss=0.85695946\n",
      "Step #75 A=[[9.460138]] Loss=1.1086748\n",
      "Step #80 A=[[9.526162]] Loss=0.95534074\n",
      "Step #85 A=[[9.559305]] Loss=1.5808744\n",
      "Step #90 A=[[9.591623]] Loss=1.3620714\n",
      "Step #95 A=[[9.650698]] Loss=1.6623055\n",
      "Step #100 A=[[9.715717]] Loss=0.97018635\n",
      "Step #5 A=[1.5738015] Loss=70.397705\n",
      "Step #10 A=[3.0562875] Loss=49.717243\n",
      "Step #15 A=[4.3174515] Loss=28.403404\n",
      "Step #20 A=[5.3625774] Loss=21.768604\n",
      "Step #25 A=[6.2301555] Loss=21.431387\n",
      "Step #30 A=[6.9074435] Loss=9.244386\n",
      "Step #35 A=[7.518201] Loss=6.955017\n",
      "Step #40 A=[8.038362] Loss=12.941206\n",
      "Step #45 A=[8.331284] Loss=0.9020268\n",
      "Step #50 A=[8.557023] Loss=4.902213\n",
      "Step #55 A=[8.81959] Loss=0.3410957\n",
      "Step #60 A=[8.933086] Loss=0.796328\n",
      "Step #65 A=[9.110732] Loss=0.5046039\n",
      "Step #70 A=[9.342721] Loss=0.2670871\n",
      "Step #75 A=[9.315391] Loss=0.14646438\n",
      "Step #80 A=[9.585289] Loss=1.0889239\n",
      "Step #85 A=[9.673468] Loss=0.43824613\n",
      "Step #90 A=[9.685346] Loss=0.034478623\n",
      "Step #95 A=[9.684388] Loss=0.3286405\n",
      "Step #100 A=[9.922698] Loss=1.878196\n"
     ]
    },
    {
     "data": {
      "image/png": "[encoded data removed]",
      "text/plain": [
       "<Figure size 432x288 with 1 Axes>"
      ]
     },
     "metadata": {
      "needs_background": "light"
     },
     "output_type": "display_data"
    }
   ],
   "source": [
    "ops.reset_default_graph()\n",
    "\n",
    "batch_size = 20\n",
    "\n",
    "x_vals = np.random.normal(1, 0.1, 100)\n",
    "y_vals = np.repeat(10., 100)\n",
    "x_data = tf.placeholder(shape=[None, 1], dtype=tf.float32)\n",
    "y_target = tf.placeholder(shape=[None, 1], dtype=tf.float32)\n",
    "A = tf.Variable(tf.random_normal(shape=[1, 1]))\n",
    "\n",
    "x_matmul_A = tf.matmul(x_data, A)\n",
    "loss = tf.reduce_mean(tf.square(x_matmul_A - y_target))\n",
    "optimizer = tf.train.GradientDescentOptimizer(0.02)\n",
    "train_step = optimizer.minimize(loss)\n",
    "init = tf.global_variables_initializer()\n",
    "\n",
    "with tf.Session() as sess:\n",
    "    sess.run(init)  \n",
    "    loss_batch = []\n",
    "    for i in range(100):\n",
    "        rand_index = np.random.choice(100, size=batch_size)\n",
    "        rand_x = np.transpose([x_vals[rand_index]])\n",
    "        rand_y = np.transpose([y_vals[rand_index]])\n",
    "        sess.run(train_step, feed_dict={x_data: rand_x, y_target: rand_y})\n",
    "        if (i + 1) % 5 == 0:\n",
    "#             print('rand_x: {}, rand_y: {}'.format(str(rand_x), str(rand_y)))\n",
    "            temp_loss = sess.run(loss, feed_dict={x_data: rand_x, y_target: rand_y})\n",
    "            loss_batch.append(temp_loss)\n",
    "            print('Step #{} A={} Loss={}'.format(str(i+1), str(sess.run(A)), str(temp_loss)))\n",
    "\n",
    "ops.reset_default_graph()\n",
    "x_vals = np.random.normal(1, 0.1, 100)\n",
    "y_vals = np.repeat(10., 100)\n",
    "x_data = tf.placeholder(shape=[1], dtype=tf.float32)\n",
    "y_target = tf.placeholder(shape=[1], dtype=tf.float32)\n",
    "A = tf.Variable(tf.random_normal(shape=[1]))\n",
    "\n",
    "x_matmul_A = tf.multiply(x_data, A)\n",
    "loss = tf.reduce_mean(tf.square(x_matmul_A - y_target))\n",
    "optimizer = tf.train.GradientDescentOptimizer(0.02)\n",
    "train_step = optimizer.minimize(loss)\n",
    "init = tf.global_variables_initializer()\n",
    "\n",
    "with tf.Session() as sess:\n",
    "    sess.run(init)  \n",
    "    loss_stochastic = []\n",
    "    for i in range(100):\n",
    "        rand_index = np.random.choice(100)\n",
    "        rand_x = [x_vals[rand_index]]\n",
    "        rand_y = [y_vals[rand_index]]\n",
    "        sess.run(train_step, feed_dict={x_data: rand_x, y_target: rand_y})\n",
    "        if (i + 1) % 5 == 0:\n",
    "            temp_loss = sess.run(loss, feed_dict={x_data: rand_x, y_target: rand_y})\n",
    "            loss_stochastic.append(temp_loss)\n",
    "            print('Step #{} A={} Loss={}'.format(str(i+1), str(sess.run(A)), str(temp_loss)))\n",
    "    \n",
    "    plt.plot(range(0, 100, 5), loss_stochastic, 'b-', label='Stochastic Loss')\n",
    "    plt.plot(range(0, 100, 5), loss_batch, 'r--', label='Batch Loss, size=20')\n",
    "    plt.legend(loc='upper right', prop={'size': 11})\n",
    "    plt.show()"
   ]
  },
  {
   "cell_type": "code",
   "execution_count": null,
   "metadata": {},
   "outputs": [],
   "source": []
  }
 ],
 "metadata": {
  "kernelspec": {
   "display_name": "Python 3",
   "language": "python",
   "name": "python3"
  },
  "language_info": {
   "codemirror_mode": {
    "name": "ipython",
    "version": 3
   },
   "file_extension": ".py",
   "mimetype": "text/x-python",
   "name": "python",
   "nbconvert_exporter": "python",
   "pygments_lexer": "ipython3",
   "version": "3.6.7"
  }
 },
 "nbformat": 4,
 "nbformat_minor": 2
}
