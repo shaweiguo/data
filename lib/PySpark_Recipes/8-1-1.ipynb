{
 "cells": [
  {
   "cell_type": "code",
   "execution_count": 1,
   "metadata": {},
   "outputs": [],
   "source": [
    "filamentData = [['filamentA','100W',605],\n",
    "['filamentB','100W',683],\n",
    "['filamentB','100W',691],\n",
    "['filamentB','200W',561],\n",
    "['filamentA','200W',530],\n",
    "['filamentA','100W',619],\n",
    "['filamentB','100W',686],\n",
    "['filamentB','200W',600],\n",
    "['filamentB','100W',696],\n",
    "['filamentA','200W',579],\n",
    "['filamentA','200W',520],\n",
    "['filamentA','100W',622],\n",
    "['filamentA','100W',668],\n",
    "['filamentB','200W',569],\n",
    "['filamentB','200W',555],\n",
    "['filamentA','200W',541]]"
   ]
  },
  {
   "cell_type": "code",
   "execution_count": 2,
   "metadata": {},
   "outputs": [],
   "source": [
    "rddFilament = sc.parallelize(filamentData, 4)"
   ]
  },
  {
   "cell_type": "code",
   "execution_count": 3,
   "metadata": {},
   "outputs": [
    {
     "data": {
      "text/plain": [
       "[['filamentA', '100W', 605],\n",
       " ['filamentB', '100W', 683],\n",
       " ['filamentB', '100W', 691],\n",
       " ['filamentB', '200W', 561],\n",
       " ['filamentA', '200W', 530],\n",
       " ['filamentA', '100W', 619],\n",
       " ['filamentB', '100W', 686],\n",
       " ['filamentB', '200W', 600],\n",
       " ['filamentB', '100W', 696],\n",
       " ['filamentA', '200W', 579],\n",
       " ['filamentA', '200W', 520],\n",
       " ['filamentA', '100W', 622],\n",
       " ['filamentA', '100W', 668],\n",
       " ['filamentB', '200W', 569],\n",
       " ['filamentB', '200W', 555],\n",
       " ['filamentA', '200W', 541]]"
      ]
     },
     "execution_count": 3,
     "metadata": {},
     "output_type": "execute_result"
    }
   ],
   "source": [
    "rddFilament.collect()"
   ]
  },
  {
   "cell_type": "code",
   "execution_count": 4,
   "metadata": {},
   "outputs": [],
   "source": [
    "from pyspark.sql.types import *"
   ]
  },
  {
   "cell_type": "code",
   "execution_count": 5,
   "metadata": {},
   "outputs": [],
   "source": [
    "FilamentTypeColumn = StructField('FilamentType', StringType(), True)"
   ]
  },
  {
   "cell_type": "code",
   "execution_count": 6,
   "metadata": {},
   "outputs": [],
   "source": [
    "BulbPowerColumn = StructField('BulbPower', StringType(), True)"
   ]
  },
  {
   "cell_type": "code",
   "execution_count": 7,
   "metadata": {},
   "outputs": [],
   "source": [
    "LifeInHoursColumn = StructField('LifeInHours', StringType(), True)"
   ]
  },
  {
   "cell_type": "code",
   "execution_count": 8,
   "metadata": {},
   "outputs": [],
   "source": [
    "FilamentDataFrameSchema = StructType([FilamentTypeColumn, BulbPowerColumn, LifeInHoursColumn])"
   ]
  },
  {
   "cell_type": "code",
   "execution_count": 9,
   "metadata": {},
   "outputs": [
    {
     "data": {
      "text/plain": [
       "StructType(List(StructField(FilamentType,StringType,true),StructField(BulbPower,StringType,true),StructField(LifeInHours,StringType,true)))"
      ]
     },
     "execution_count": 9,
     "metadata": {},
     "output_type": "execute_result"
    }
   ],
   "source": [
    "FilamentDataFrameSchema"
   ]
  },
  {
   "cell_type": "code",
   "execution_count": 10,
   "metadata": {},
   "outputs": [],
   "source": [
    "from pyspark.sql import Row"
   ]
  },
  {
   "cell_type": "code",
   "execution_count": 11,
   "metadata": {},
   "outputs": [],
   "source": [
    "rowsFilamentRdd = rddFilament.map(lambda x: Row(str(x[0]), str(x[1]), str(x[2])))"
   ]
  },
  {
   "cell_type": "code",
   "execution_count": 12,
   "metadata": {},
   "outputs": [
    {
     "data": {
      "text/plain": [
       "[<Row(filamentA, 100W, 605)>,\n",
       " <Row(filamentB, 100W, 683)>,\n",
       " <Row(filamentB, 100W, 691)>,\n",
       " <Row(filamentB, 200W, 561)>,\n",
       " <Row(filamentA, 200W, 530)>,\n",
       " <Row(filamentA, 100W, 619)>,\n",
       " <Row(filamentB, 100W, 686)>,\n",
       " <Row(filamentB, 200W, 600)>,\n",
       " <Row(filamentB, 100W, 696)>,\n",
       " <Row(filamentA, 200W, 579)>,\n",
       " <Row(filamentA, 200W, 520)>,\n",
       " <Row(filamentA, 100W, 622)>,\n",
       " <Row(filamentA, 100W, 668)>,\n",
       " <Row(filamentB, 200W, 569)>,\n",
       " <Row(filamentB, 200W, 555)>,\n",
       " <Row(filamentA, 200W, 541)>]"
      ]
     },
     "execution_count": 12,
     "metadata": {},
     "output_type": "execute_result"
    }
   ],
   "source": [
    "rowsFilamentRdd.collect()"
   ]
  },
  {
   "cell_type": "code",
   "execution_count": 13,
   "metadata": {},
   "outputs": [],
   "source": [
    "from pyspark.sql import SQLContext"
   ]
  },
  {
   "cell_type": "code",
   "execution_count": 14,
   "metadata": {},
   "outputs": [],
   "source": [
    "sqlContext = SQLContext(sc)"
   ]
  },
  {
   "cell_type": "code",
   "execution_count": 15,
   "metadata": {},
   "outputs": [],
   "source": [
    "dfFilament = sqlContext.createDataFrame(rowsFilamentRdd, FilamentDataFrameSchema)"
   ]
  },
  {
   "cell_type": "code",
   "execution_count": 16,
   "metadata": {},
   "outputs": [
    {
     "data": {
      "text/plain": [
       "[Row(FilamentType='filamentA', BulbPower='100W', LifeInHours='605'),\n",
       " Row(FilamentType='filamentB', BulbPower='100W', LifeInHours='683'),\n",
       " Row(FilamentType='filamentB', BulbPower='100W', LifeInHours='691'),\n",
       " Row(FilamentType='filamentB', BulbPower='200W', LifeInHours='561'),\n",
       " Row(FilamentType='filamentA', BulbPower='200W', LifeInHours='530'),\n",
       " Row(FilamentType='filamentA', BulbPower='100W', LifeInHours='619'),\n",
       " Row(FilamentType='filamentB', BulbPower='100W', LifeInHours='686'),\n",
       " Row(FilamentType='filamentB', BulbPower='200W', LifeInHours='600'),\n",
       " Row(FilamentType='filamentB', BulbPower='100W', LifeInHours='696'),\n",
       " Row(FilamentType='filamentA', BulbPower='200W', LifeInHours='579'),\n",
       " Row(FilamentType='filamentA', BulbPower='200W', LifeInHours='520'),\n",
       " Row(FilamentType='filamentA', BulbPower='100W', LifeInHours='622'),\n",
       " Row(FilamentType='filamentA', BulbPower='100W', LifeInHours='668'),\n",
       " Row(FilamentType='filamentB', BulbPower='200W', LifeInHours='569'),\n",
       " Row(FilamentType='filamentB', BulbPower='200W', LifeInHours='555'),\n",
       " Row(FilamentType='filamentA', BulbPower='200W', LifeInHours='541')]"
      ]
     },
     "execution_count": 16,
     "metadata": {},
     "output_type": "execute_result"
    }
   ],
   "source": [
    "dfFilament.collect()"
   ]
  },
  {
   "cell_type": "code",
   "execution_count": 17,
   "metadata": {},
   "outputs": [
    {
     "name": "stdout",
     "output_type": "stream",
     "text": [
      "root\n",
      " |-- FilamentType: string (nullable = true)\n",
      " |-- BulbPower: string (nullable = true)\n",
      " |-- LifeInHours: string (nullable = true)\n",
      "\n"
     ]
    }
   ],
   "source": [
    "dfFilament.printSchema()"
   ]
  },
  {
   "cell_type": "code",
   "execution_count": 18,
   "metadata": {},
   "outputs": [],
   "source": [
    "dfFilament1 = dfFilament.withColumn('LifeInHours', dfFilament.LifeInHours.cast(FloatType()))"
   ]
  },
  {
   "cell_type": "code",
   "execution_count": 19,
   "metadata": {},
   "outputs": [
    {
     "name": "stdout",
     "output_type": "stream",
     "text": [
      "root\n",
      " |-- FilamentType: string (nullable = true)\n",
      " |-- BulbPower: string (nullable = true)\n",
      " |-- LifeInHours: float (nullable = true)\n",
      "\n"
     ]
    }
   ],
   "source": [
    "dfFilament1.printSchema()"
   ]
  },
  {
   "cell_type": "code",
   "execution_count": 20,
   "metadata": {},
   "outputs": [
    {
     "data": {
      "text/plain": [
       "[Row(FilamentType='filamentA', BulbPower='100W', LifeInHours=605.0),\n",
       " Row(FilamentType='filamentB', BulbPower='100W', LifeInHours=683.0),\n",
       " Row(FilamentType='filamentB', BulbPower='100W', LifeInHours=691.0),\n",
       " Row(FilamentType='filamentB', BulbPower='200W', LifeInHours=561.0),\n",
       " Row(FilamentType='filamentA', BulbPower='200W', LifeInHours=530.0),\n",
       " Row(FilamentType='filamentA', BulbPower='100W', LifeInHours=619.0),\n",
       " Row(FilamentType='filamentB', BulbPower='100W', LifeInHours=686.0),\n",
       " Row(FilamentType='filamentB', BulbPower='200W', LifeInHours=600.0),\n",
       " Row(FilamentType='filamentB', BulbPower='100W', LifeInHours=696.0),\n",
       " Row(FilamentType='filamentA', BulbPower='200W', LifeInHours=579.0),\n",
       " Row(FilamentType='filamentA', BulbPower='200W', LifeInHours=520.0),\n",
       " Row(FilamentType='filamentA', BulbPower='100W', LifeInHours=622.0),\n",
       " Row(FilamentType='filamentA', BulbPower='100W', LifeInHours=668.0),\n",
       " Row(FilamentType='filamentB', BulbPower='200W', LifeInHours=569.0),\n",
       " Row(FilamentType='filamentB', BulbPower='200W', LifeInHours=555.0),\n",
       " Row(FilamentType='filamentA', BulbPower='200W', LifeInHours=541.0)]"
      ]
     },
     "execution_count": 20,
     "metadata": {},
     "output_type": "execute_result"
    }
   ],
   "source": [
    "dfFilament1.collect()"
   ]
  },
  {
   "cell_type": "code",
   "execution_count": 21,
   "metadata": {},
   "outputs": [
    {
     "data": {
      "text/plain": [
       "['FilamentType', 'BulbPower', 'LifeInHours']"
      ]
     },
     "execution_count": 21,
     "metadata": {},
     "output_type": "execute_result"
    }
   ],
   "source": [
    "dfFilament1.columns"
   ]
  },
  {
   "cell_type": "code",
   "execution_count": 22,
   "metadata": {},
   "outputs": [],
   "source": [
    "df100W = dfFilament1.filter(dfFilament1.BulbPower == '100W')"
   ]
  },
  {
   "cell_type": "code",
   "execution_count": 23,
   "metadata": {},
   "outputs": [
    {
     "data": {
      "text/plain": [
       "[Row(FilamentType='filamentA', BulbPower='100W', LifeInHours=605.0),\n",
       " Row(FilamentType='filamentB', BulbPower='100W', LifeInHours=683.0),\n",
       " Row(FilamentType='filamentB', BulbPower='100W', LifeInHours=691.0),\n",
       " Row(FilamentType='filamentA', BulbPower='100W', LifeInHours=619.0),\n",
       " Row(FilamentType='filamentB', BulbPower='100W', LifeInHours=686.0),\n",
       " Row(FilamentType='filamentB', BulbPower='100W', LifeInHours=696.0),\n",
       " Row(FilamentType='filamentA', BulbPower='100W', LifeInHours=622.0),\n",
       " Row(FilamentType='filamentA', BulbPower='100W', LifeInHours=668.0)]"
      ]
     },
     "execution_count": 23,
     "metadata": {},
     "output_type": "execute_result"
    }
   ],
   "source": [
    "df100W.collect()"
   ]
  },
  {
   "cell_type": "code",
   "execution_count": 24,
   "metadata": {},
   "outputs": [],
   "source": [
    "df100WGreater650Hours = dfFilament1.filter((dfFilament1.BulbPower == '100W') & (dfFilament.LifeInHours > 650.0))"
   ]
  },
  {
   "cell_type": "code",
   "execution_count": 25,
   "metadata": {},
   "outputs": [
    {
     "data": {
      "text/plain": [
       "[Row(FilamentType='filamentB', BulbPower='100W', LifeInHours=683.0),\n",
       " Row(FilamentType='filamentB', BulbPower='100W', LifeInHours=691.0),\n",
       " Row(FilamentType='filamentB', BulbPower='100W', LifeInHours=686.0),\n",
       " Row(FilamentType='filamentB', BulbPower='100W', LifeInHours=696.0),\n",
       " Row(FilamentType='filamentA', BulbPower='100W', LifeInHours=668.0)]"
      ]
     },
     "execution_count": 25,
     "metadata": {},
     "output_type": "execute_result"
    }
   ],
   "source": [
    "df100WGreater650Hours.collect()"
   ]
  },
  {
   "cell_type": "code",
   "execution_count": null,
   "metadata": {},
   "outputs": [],
   "source": []
  }
 ],
 "metadata": {
  "kernelspec": {
   "display_name": "Python 3",
   "language": "python",
   "name": "python3"
  },
  "language_info": {
   "codemirror_mode": {
    "name": "ipython",
    "version": 3
   },
   "file_extension": ".py",
   "mimetype": "text/x-python",
   "name": "python",
   "nbconvert_exporter": "python",
   "pygments_lexer": "ipython3",
   "version": "3.6.7"
  }
 },
 "nbformat": 4,
 "nbformat_minor": 2
}
