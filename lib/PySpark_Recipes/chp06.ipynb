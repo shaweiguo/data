{
 "cells": [
  {
   "cell_type": "code",
   "execution_count": 1,
   "metadata": {},
   "outputs": [],
   "source": [
    "plays = sc.textFile('file:///opt/data/txt/shakespearPlays.txt', 2)"
   ]
  },
  {
   "cell_type": "code",
   "execution_count": 2,
   "metadata": {},
   "outputs": [
    {
     "data": {
      "text/plain": [
       "file:///opt/data/txt/shakespearPlays.txt MapPartitionsRDD[1] at textFile at NativeMethodAccessorImpl.java:0"
      ]
     },
     "execution_count": 2,
     "metadata": {},
     "output_type": "execute_result"
    }
   ],
   "source": [
    "plays"
   ]
  },
  {
   "cell_type": "code",
   "execution_count": 3,
   "metadata": {},
   "outputs": [
    {
     "data": {
      "text/plain": [
       "4"
      ]
     },
     "execution_count": 3,
     "metadata": {},
     "output_type": "execute_result"
    }
   ],
   "source": [
    "plays.count()"
   ]
  },
  {
   "cell_type": "code",
   "execution_count": 4,
   "metadata": {},
   "outputs": [
    {
     "data": {
      "text/plain": [
       "list"
      ]
     },
     "execution_count": 4,
     "metadata": {},
     "output_type": "execute_result"
    }
   ],
   "source": [
    "playList = plays.collect()\n",
    "type(playList)"
   ]
  },
  {
   "cell_type": "code",
   "execution_count": 5,
   "metadata": {},
   "outputs": [
    {
     "data": {
      "text/plain": [
       "['Love’s Labour’s Lost',\n",
       " 'A Midsummer Night’s Dream',\n",
       " 'Much Ado About Nothing',\n",
       " 'As You Like It']"
      ]
     },
     "execution_count": 5,
     "metadata": {},
     "output_type": "execute_result"
    }
   ],
   "source": [
    "playList[0:4]"
   ]
  },
  {
   "cell_type": "code",
   "execution_count": 7,
   "metadata": {},
   "outputs": [],
   "source": [
    "plays1 = sc.wholeTextFiles('file:///opt/data/txt/shakespearPlays.txt', 2)"
   ]
  },
  {
   "cell_type": "code",
   "execution_count": 8,
   "metadata": {},
   "outputs": [
    {
     "data": {
      "text/plain": [
       "['file:/opt/data/txt/shakespearPlays.txt']"
      ]
     },
     "execution_count": 8,
     "metadata": {},
     "output_type": "execute_result"
    }
   ],
   "source": [
    "plays1.keys().collect()"
   ]
  },
  {
   "cell_type": "code",
   "execution_count": 10,
   "metadata": {},
   "outputs": [
    {
     "data": {
      "text/plain": [
       "['Love’s Labour’s Lost\\nA Midsummer Night’s Dream\\nMuch Ado About Nothing\\nAs You Like It\\n']"
      ]
     },
     "execution_count": 10,
     "metadata": {},
     "output_type": "execute_result"
    }
   ],
   "source": [
    "plays1.values().collect()"
   ]
  },
  {
   "cell_type": "code",
   "execution_count": 11,
   "metadata": {},
   "outputs": [
    {
     "data": {
      "text/plain": [
       "1"
      ]
     },
     "execution_count": 11,
     "metadata": {},
     "output_type": "execute_result"
    }
   ],
   "source": [
    "plays1.count()"
   ]
  },
  {
   "cell_type": "code",
   "execution_count": 12,
   "metadata": {},
   "outputs": [
    {
     "data": {
      "text/plain": [
       "4"
      ]
     },
     "execution_count": 12,
     "metadata": {},
     "output_type": "execute_result"
    }
   ],
   "source": [
    "plays.count()"
   ]
  },
  {
   "cell_type": "code",
   "execution_count": 13,
   "metadata": {},
   "outputs": [],
   "source": [
    "playsLineLength = plays.map(lambda x: len(x))"
   ]
  },
  {
   "cell_type": "code",
   "execution_count": 14,
   "metadata": {},
   "outputs": [
    {
     "data": {
      "text/plain": [
       "[20, 25, 22, 14]"
      ]
     },
     "execution_count": 14,
     "metadata": {},
     "output_type": "execute_result"
    }
   ],
   "source": [
    "playsLineLength.collect()"
   ]
  },
  {
   "cell_type": "code",
   "execution_count": 15,
   "metadata": {},
   "outputs": [
    {
     "data": {
      "text/plain": [
       "81"
      ]
     },
     "execution_count": 15,
     "metadata": {},
     "output_type": "execute_result"
    }
   ],
   "source": [
    "playsLineLength.sum()"
   ]
  },
  {
   "cell_type": "code",
   "execution_count": 2,
   "metadata": {},
   "outputs": [],
   "source": [
    "import csv\n",
    "from io import StringIO"
   ]
  },
  {
   "cell_type": "code",
   "execution_count": 7,
   "metadata": {},
   "outputs": [],
   "source": [
    "def parseCSV(csvRow):\n",
    "    data = StringIO(csvRow)\n",
    "    dataReader = csv.reader(data)\n",
    "    for row in dataReader:\n",
    "        return row"
   ]
  },
  {
   "cell_type": "code",
   "execution_count": 8,
   "metadata": {},
   "outputs": [
    {
     "data": {
      "text/plain": [
       "['p', 's', 'r', ' p']"
      ]
     },
     "execution_count": 8,
     "metadata": {},
     "output_type": "execute_result"
    }
   ],
   "source": [
    "csvRow = 'p,s,r, p'\n",
    "parseCSV(csvRow)"
   ]
  },
  {
   "cell_type": "code",
   "execution_count": 9,
   "metadata": {},
   "outputs": [],
   "source": [
    "rddFilaments = sc.textFile('file:///opt/data/txt/filament.csv', 4)"
   ]
  },
  {
   "cell_type": "code",
   "execution_count": 10,
   "metadata": {},
   "outputs": [],
   "source": [
    "rddCsvFilaments = rddFilaments.map(parseCSV)"
   ]
  },
  {
   "cell_type": "code",
   "execution_count": 11,
   "metadata": {},
   "outputs": [
    {
     "data": {
      "text/plain": [
       "[['filamentA', '100W', '605'],\n",
       " ['filamentB', '100W', '683'],\n",
       " ['filamentB', '100W', '691'],\n",
       " ['filamentB', '200W', '561'],\n",
       " ['filamentA', '200W', '530']]"
      ]
     },
     "execution_count": 11,
     "metadata": {},
     "output_type": "execute_result"
    }
   ],
   "source": [
    "rddCsvFilaments.collect()"
   ]
  },
  {
   "cell_type": "code",
   "execution_count": 12,
   "metadata": {},
   "outputs": [],
   "source": [
    "def createCSV(dataList):\n",
    "    data = StringIO()\n",
    "    dataWriter = csv.writer(data, lineterminator='')\n",
    "    dataWriter.writerow(dataList)\n",
    "    return data.getvalue()"
   ]
  },
  {
   "cell_type": "code",
   "execution_count": 13,
   "metadata": {},
   "outputs": [],
   "source": [
    "listData = ['p', 'q', 's', 'r']"
   ]
  },
  {
   "cell_type": "code",
   "execution_count": 14,
   "metadata": {},
   "outputs": [
    {
     "data": {
      "text/plain": [
       "'p,q,s,r'"
      ]
     },
     "execution_count": 14,
     "metadata": {},
     "output_type": "execute_result"
    }
   ],
   "source": [
    "createCSV(listData)"
   ]
  },
  {
   "cell_type": "code",
   "execution_count": 15,
   "metadata": {},
   "outputs": [],
   "source": [
    "simpleData = [['p', 20],\n",
    "              ['q', 30],\n",
    "              ['r', 20],\n",
    "              ['m', 25]\n",
    "             ]"
   ]
  },
  {
   "cell_type": "code",
   "execution_count": 16,
   "metadata": {},
   "outputs": [
    {
     "data": {
      "text/plain": [
       "[['p', 20], ['q', 30], ['r', 20], ['m', 25]]"
      ]
     },
     "execution_count": 16,
     "metadata": {},
     "output_type": "execute_result"
    }
   ],
   "source": [
    "rddSimple = sc.parallelize(simpleData, 4)\n",
    "rddSimple.collect()"
   ]
  },
  {
   "cell_type": "code",
   "execution_count": 17,
   "metadata": {},
   "outputs": [],
   "source": [
    "rddSimpleLines = rddSimple.map(createCSV)"
   ]
  },
  {
   "cell_type": "code",
   "execution_count": 18,
   "metadata": {},
   "outputs": [
    {
     "data": {
      "text/plain": [
       "['p,20', 'q,30', 'r,20', 'm,25']"
      ]
     },
     "execution_count": 18,
     "metadata": {},
     "output_type": "execute_result"
    }
   ],
   "source": [
    "rddSimpleLines.collect()"
   ]
  },
  {
   "cell_type": "code",
   "execution_count": 23,
   "metadata": {},
   "outputs": [],
   "source": [
    "rddSimpleLines.saveAsTextFile('./csvData1/')"
   ]
  },
  {
   "cell_type": "code",
   "execution_count": 34,
   "metadata": {},
   "outputs": [],
   "source": [
    "import json\n",
    "def jsonParse(dataLine):\n",
    "    parsedDict = json.loads(dataLine)\n",
    "    return list(parsedDict.values())"
   ]
  },
  {
   "cell_type": "code",
   "execution_count": 35,
   "metadata": {},
   "outputs": [],
   "source": [
    "jsonData = '{\"Time\": \"64M\", \"Temperature\": 15}'"
   ]
  },
  {
   "cell_type": "code",
   "execution_count": 36,
   "metadata": {},
   "outputs": [
    {
     "name": "stdout",
     "output_type": "stream",
     "text": [
      "['64M', 15]\n"
     ]
    }
   ],
   "source": [
    "jsonParsedData = jsonParse(jsonData)\n",
    "print(jsonParsedData)"
   ]
  },
  {
   "cell_type": "code",
   "execution_count": 37,
   "metadata": {},
   "outputs": [],
   "source": [
    "tempData = sc.textFile('file:///opt/data/txt/tempData.json')"
   ]
  },
  {
   "cell_type": "code",
   "execution_count": 38,
   "metadata": {},
   "outputs": [
    {
     "data": {
      "text/plain": [
       "['{\"Time\":\"6AM\", \"Temperature\":15}',\n",
       " '{\"Time\":\"8AM\", \"Temperature\":16}',\n",
       " '{\"Time\":\"10AM\", \"Temperature\":17}',\n",
       " '{\"Time\":\"12AM\", \"Temperature\":17}',\n",
       " '{\"Time\":\"2PM\", \"Temperature\":18}',\n",
       " '{\"Time\":\"4PM\", \"Temperature\":17}',\n",
       " '{\"Time\":\"6PM\", \"Temperature\":16}',\n",
       " '{\"Time\":\"8PM\", \"Temperature\":14}']"
      ]
     },
     "execution_count": 38,
     "metadata": {},
     "output_type": "execute_result"
    }
   ],
   "source": [
    "tempData.collect()"
   ]
  },
  {
   "cell_type": "code",
   "execution_count": 39,
   "metadata": {},
   "outputs": [],
   "source": [
    "tempDataParsed = tempData.map(jsonParse)"
   ]
  },
  {
   "cell_type": "code",
   "execution_count": 40,
   "metadata": {},
   "outputs": [
    {
     "data": {
      "text/plain": [
       "[['6AM', 15],\n",
       " ['8AM', 16],\n",
       " ['10AM', 17],\n",
       " ['12AM', 17],\n",
       " ['2PM', 18],\n",
       " ['4PM', 17],\n",
       " ['6PM', 16],\n",
       " ['8PM', 14]]"
      ]
     },
     "execution_count": 40,
     "metadata": {},
     "output_type": "execute_result"
    }
   ],
   "source": [
    "tempDataParsed.collect()"
   ]
  },
  {
   "cell_type": "code",
   "execution_count": 41,
   "metadata": {},
   "outputs": [],
   "source": [
    "def createJSON(data):\n",
    "    dataDict = {}\n",
    "    dataDict['Name'] = data[0]\n",
    "    dataDict['Age'] = data[1]\n",
    "    return json.dumps(dataDict)"
   ]
  },
  {
   "cell_type": "code",
   "execution_count": 42,
   "metadata": {},
   "outputs": [],
   "source": [
    "lstNameAge = ['Arun', 22]"
   ]
  },
  {
   "cell_type": "code",
   "execution_count": 43,
   "metadata": {},
   "outputs": [
    {
     "data": {
      "text/plain": [
       "'{\"Name\": \"Arun\", \"Age\": 22}'"
      ]
     },
     "execution_count": 43,
     "metadata": {},
     "output_type": "execute_result"
    }
   ],
   "source": [
    "createJSON(lstNameAge)"
   ]
  },
  {
   "cell_type": "code",
   "execution_count": 44,
   "metadata": {},
   "outputs": [],
   "source": [
    "nameAgeData = [['Arun',22],\n",
    "['Bony',35],\n",
    "['Juna',29]]"
   ]
  },
  {
   "cell_type": "code",
   "execution_count": 45,
   "metadata": {},
   "outputs": [],
   "source": [
    "rddNameAge = sc.parallelize(nameAgeData, 3)"
   ]
  },
  {
   "cell_type": "code",
   "execution_count": 46,
   "metadata": {},
   "outputs": [
    {
     "data": {
      "text/plain": [
       "[['Arun', 22], ['Bony', 35], ['Juna', 29]]"
      ]
     },
     "execution_count": 46,
     "metadata": {},
     "output_type": "execute_result"
    }
   ],
   "source": [
    "rddNameAge.collect()"
   ]
  },
  {
   "cell_type": "code",
   "execution_count": 47,
   "metadata": {},
   "outputs": [],
   "source": [
    "jsonNameAge = rddNameAge.map(createJSON)"
   ]
  },
  {
   "cell_type": "code",
   "execution_count": 48,
   "metadata": {},
   "outputs": [
    {
     "data": {
      "text/plain": [
       "['{\"Name\": \"Arun\", \"Age\": 22}',\n",
       " '{\"Name\": \"Bony\", \"Age\": 35}',\n",
       " '{\"Name\": \"Juna\", \"Age\": 29}']"
      ]
     },
     "execution_count": 48,
     "metadata": {},
     "output_type": "execute_result"
    }
   ],
   "source": [
    "jsonNameAge.collect()"
   ]
  },
  {
   "cell_type": "code",
   "execution_count": 49,
   "metadata": {},
   "outputs": [],
   "source": [
    "jsonNameAge.saveAsTextFile('file:///opt/data/tmp/jsonDir/')"
   ]
  },
  {
   "cell_type": "code",
   "execution_count": 1,
   "metadata": {},
   "outputs": [],
   "source": [
    "hostName = 'localhost'"
   ]
  },
  {
   "cell_type": "code",
   "execution_count": 2,
   "metadata": {},
   "outputs": [],
   "source": [
    "tableName = 'pysparkTable'"
   ]
  },
  {
   "cell_type": "code",
   "execution_count": 3,
   "metadata": {},
   "outputs": [],
   "source": [
    "ourInputFormatClass='org.apache.hadoop.hbase.mapreduce.TableInputFormat'\n",
    "ourKeyClass='org.apache.hadoop.hbase.io.ImmutableBytesWritable'\n",
    "ourValueClass='org.apache.hadoop.hbase.client.Result'\n",
    "ourKeyConverter='org.apache.spark.examples.pythonconverters.ImmutableBytesWritableToStringConverter'\n",
    "ourValueConverter='org.apache.spark.examples.pythonconverters.HBaseResultToStringConverter'\n",
    "configuration = {}\n",
    "configuration['hbase.mapreduce.inputtable'] = tableName\n",
    "configuration['hbase.zookeeper.quorum'] = hostName"
   ]
  },
  {
   "cell_type": "code",
   "execution_count": 4,
   "metadata": {},
   "outputs": [],
   "source": [
    "tableRDDfromHBase = sc.newAPIHadoopRDD(inputFormatClass=ourInputFormatClass,\n",
    "                                      keyClass=ourKeyClass,\n",
    "                                      valueClass=ourValueClass,\n",
    "                                      keyConverter=ourKeyConverter,\n",
    "                                      valueConverter=ourValueConverter,\n",
    "                                      conf=configuration)"
   ]
  },
  {
   "cell_type": "code",
   "execution_count": 5,
   "metadata": {},
   "outputs": [
    {
     "data": {
      "text/plain": [
       "[('00001',\n",
       "  '{\"qualifier\" : \"btc1,btcf2\", \"timestamp\" : \"1541598307681\", \"columnFamily\" : \"btcf1\", \"row\" : \"00001\", \"type\" : \"Put\", \"value\" : \"c11,c21\"}'),\n",
       " ('00002',\n",
       "  '{\"qualifier\" : \"btc1,btcf2\", \"timestamp\" : \"1541598373284\", \"columnFamily\" : \"btcf1\", \"row\" : \"00002\", \"type\" : \"Put\", \"value\" : \"c12,c22\"}'),\n",
       " ('00003',\n",
       "  '{\"qualifier\" : \"btc1,btcf2\", \"timestamp\" : \"1541598388615\", \"columnFamily\" : \"btcf1\", \"row\" : \"00003\", \"type\" : \"Put\", \"value\" : \"c13,c23\"}'),\n",
       " ('00004',\n",
       "  '{\"qualifier\" : \"btc1,btcf2\", \"timestamp\" : \"1541598400137\", \"columnFamily\" : \"btcf1\", \"row\" : \"00004\", \"type\" : \"Put\", \"value\" : \"c14,c24\"}')]"
      ]
     },
     "execution_count": 5,
     "metadata": {},
     "output_type": "execute_result"
    }
   ],
   "source": [
    "tableRDDfromHBase.collect()"
   ]
  },
  {
   "cell_type": "code",
   "execution_count": null,
   "metadata": {},
   "outputs": [],
   "source": []
  }
 ],
 "metadata": {
  "kernelspec": {
   "display_name": "Python 3",
   "language": "python",
   "name": "python3"
  },
  "language_info": {
   "codemirror_mode": {
    "name": "ipython",
    "version": 3
   },
   "file_extension": ".py",
   "mimetype": "text/x-python",
   "name": "python",
   "nbconvert_exporter": "python",
   "pygments_lexer": "ipython3",
   "version": "3.6.7"
  }
 },
 "nbformat": 4,
 "nbformat_minor": 2
}
