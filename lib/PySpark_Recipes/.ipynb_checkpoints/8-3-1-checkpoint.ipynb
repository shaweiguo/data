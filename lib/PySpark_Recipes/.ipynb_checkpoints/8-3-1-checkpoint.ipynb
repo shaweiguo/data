{
 "cells": [
  {
   "cell_type": "code",
   "execution_count": 36,
   "metadata": {},
   "outputs": [],
   "source": [
    "df = spark.read.csv('file:///opt/data/txt/adult/adult.data', header=True, inferSchema=True)"
   ]
  },
  {
   "cell_type": "code",
   "execution_count": 37,
   "metadata": {},
   "outputs": [
    {
     "name": "stdout",
     "output_type": "stream",
     "text": [
      "root\n",
      " |-- age: integer (nullable = true)\n",
      " |-- workclass: string (nullable = true)\n",
      " |-- fn1wgt: double (nullable = true)\n",
      " |-- education: string (nullable = true)\n",
      " |-- education-num: double (nullable = true)\n",
      " |-- martial-status: string (nullable = true)\n",
      " |-- occupation: string (nullable = true)\n",
      " |-- relationship: string (nullable = true)\n",
      " |-- race: string (nullable = true)\n",
      " |-- sex: string (nullable = true)\n",
      " |-- capital-gain: double (nullable = true)\n",
      " |-- capital-loss: double (nullable = true)\n",
      " |-- hours-per-week: double (nullable = true)\n",
      " |-- native-country: string (nullable = true)\n",
      " |-- income: string (nullable = true)\n",
      "\n"
     ]
    }
   ],
   "source": [
    "df.printSchema()"
   ]
  },
  {
   "cell_type": "code",
   "execution_count": 38,
   "metadata": {},
   "outputs": [
    {
     "data": {
      "text/plain": [
       "32561"
      ]
     },
     "execution_count": 38,
     "metadata": {},
     "output_type": "execute_result"
    }
   ],
   "source": [
    "df.count()"
   ]
  },
  {
   "cell_type": "code",
   "execution_count": 39,
   "metadata": {},
   "outputs": [],
   "source": [
    "grpByIncome = df.groupBy('income').count()"
   ]
  },
  {
   "cell_type": "code",
   "execution_count": 40,
   "metadata": {},
   "outputs": [
    {
     "name": "stdout",
     "output_type": "stream",
     "text": [
      "+------+-----+\n",
      "|income|count|\n",
      "+------+-----+\n",
      "|  >50K| 7841|\n",
      "| <=50K|24720|\n",
      "+------+-----+\n",
      "\n"
     ]
    }
   ],
   "source": [
    "grpByIncome.show()"
   ]
  },
  {
   "cell_type": "code",
   "execution_count": 41,
   "metadata": {},
   "outputs": [
    {
     "name": "stdout",
     "output_type": "stream",
     "text": [
      "+-------+------------------+\n",
      "|summary|               age|\n",
      "+-------+------------------+\n",
      "|  count|             32561|\n",
      "|   mean| 38.58164675532078|\n",
      "| stddev|13.640432553581356|\n",
      "|    min|                17|\n",
      "|    max|                90|\n",
      "+-------+------------------+\n",
      "\n"
     ]
    }
   ],
   "source": [
    "df.describe('age').show()"
   ]
  },
  {
   "cell_type": "code",
   "execution_count": 42,
   "metadata": {},
   "outputs": [
    {
     "name": "stdout",
     "output_type": "stream",
     "text": [
      "+-------+------------------+\n",
      "|summary|      capital-gain|\n",
      "+-------+------------------+\n",
      "|  count|             32561|\n",
      "|   mean|1077.6488437087312|\n",
      "| stddev| 7385.292084840354|\n",
      "|    min|               0.0|\n",
      "|    max|           99999.0|\n",
      "+-------+------------------+\n",
      "\n"
     ]
    }
   ],
   "source": [
    "df.describe('capital-gain').show()"
   ]
  },
  {
   "cell_type": "code",
   "execution_count": 43,
   "metadata": {},
   "outputs": [
    {
     "name": "stdout",
     "output_type": "stream",
     "text": [
      "+-------+------------------+\n",
      "|summary|    hours-per-week|\n",
      "+-------+------------------+\n",
      "|  count|             32561|\n",
      "|   mean|40.437455852092995|\n",
      "| stddev|12.347428681731838|\n",
      "|    min|               1.0|\n",
      "|    max|              99.0|\n",
      "+-------+------------------+\n",
      "\n"
     ]
    }
   ],
   "source": [
    "df.describe('hours-per-week').show()"
   ]
  },
  {
   "cell_type": "code",
   "execution_count": 44,
   "metadata": {},
   "outputs": [],
   "source": [
    "grpByGender = df.groupBy('sex')"
   ]
  },
  {
   "cell_type": "code",
   "execution_count": 45,
   "metadata": {},
   "outputs": [
    {
     "data": {
      "text/plain": [
       "pyspark.sql.group.GroupedData"
      ]
     },
     "execution_count": 45,
     "metadata": {},
     "output_type": "execute_result"
    }
   ],
   "source": [
    "type(grpByGender)"
   ]
  },
  {
   "cell_type": "code",
   "execution_count": 46,
   "metadata": {},
   "outputs": [
    {
     "name": "stdout",
     "output_type": "stream",
     "text": [
      "+-------+-----------------+\n",
      "|    sex|         avg(age)|\n",
      "+-------+-----------------+\n",
      "|   Male|39.43354749885268|\n",
      "| Female|36.85823043357163|\n",
      "+-------+-----------------+\n",
      "\n"
     ]
    }
   ],
   "source": [
    "grpByGender.mean('age').show()"
   ]
  },
  {
   "cell_type": "code",
   "execution_count": 47,
   "metadata": {},
   "outputs": [
    {
     "name": "stdout",
     "output_type": "stream",
     "text": [
      "+-------+-------------------+\n",
      "|    sex|avg(hours-per-week)|\n",
      "+-------+-------------------+\n",
      "|   Male|  42.42808627810923|\n",
      "| Female| 36.410361154953115|\n",
      "+-------+-------------------+\n",
      "\n"
     ]
    }
   ],
   "source": [
    "grpByGender.mean('hours-per-week').show()"
   ]
  },
  {
   "cell_type": "code",
   "execution_count": 48,
   "metadata": {},
   "outputs": [],
   "source": [
    "grpByGenderIncome = df.groupBy(['income', 'sex'])"
   ]
  },
  {
   "cell_type": "code",
   "execution_count": 49,
   "metadata": {},
   "outputs": [
    {
     "name": "stdout",
     "output_type": "stream",
     "text": [
      "+------+-------+-----+\n",
      "|income|    sex|count|\n",
      "+------+-------+-----+\n",
      "|  >50K|   Male| 6662|\n",
      "|  >50K| Female| 1179|\n",
      "| <=50K| Female| 9592|\n",
      "| <=50K|   Male|15128|\n",
      "+------+-------+-----+\n",
      "\n"
     ]
    }
   ],
   "source": [
    "grpByGenderIncome.count().show()"
   ]
  },
  {
   "cell_type": "code",
   "execution_count": 50,
   "metadata": {},
   "outputs": [],
   "source": [
    "grpByOccupationIncome = df.groupBy(['occupation', 'income'])"
   ]
  },
  {
   "cell_type": "code",
   "execution_count": 51,
   "metadata": {},
   "outputs": [
    {
     "name": "stdout",
     "output_type": "stream",
     "text": [
      "+------------------+------+-----+\n",
      "|        occupation|income|count|\n",
      "+------------------+------+-----+\n",
      "|   Exec-managerial|  >50K| 1968|\n",
      "|    Prof-specialty|  >50K| 1859|\n",
      "|             Sales|  >50K|  983|\n",
      "|      Craft-repair|  >50K|  929|\n",
      "|      Adm-clerical|  >50K|  507|\n",
      "|  Transport-moving|  >50K|  320|\n",
      "|      Tech-support|  >50K|  283|\n",
      "| Machine-op-inspct|  >50K|  250|\n",
      "|   Protective-serv|  >50K|  211|\n",
      "|                 ?|  >50K|  191|\n",
      "|     Other-service|  >50K|  137|\n",
      "|   Farming-fishing|  >50K|  115|\n",
      "| Handlers-cleaners|  >50K|   86|\n",
      "|      Armed-Forces|  >50K|    1|\n",
      "|   Priv-house-serv|  >50K|    1|\n",
      "|      Adm-clerical| <=50K| 3263|\n",
      "|      Craft-repair| <=50K| 3170|\n",
      "|     Other-service| <=50K| 3158|\n",
      "|             Sales| <=50K| 2667|\n",
      "|    Prof-specialty| <=50K| 2281|\n",
      "+------------------+------+-----+\n",
      "only showing top 20 rows\n",
      "\n"
     ]
    }
   ],
   "source": [
    "grpByOccupationIncome.count().sort(['income', 'count'], ascending=0).show()"
   ]
  },
  {
   "cell_type": "code",
   "execution_count": 52,
   "metadata": {},
   "outputs": [],
   "source": [
    "df.createOrReplaceTempView('census')"
   ]
  },
  {
   "cell_type": "code",
   "execution_count": 54,
   "metadata": {},
   "outputs": [],
   "source": [
    "dfAgeIncome = spark.sql('select age, income from census limit 10')"
   ]
  },
  {
   "cell_type": "code",
   "execution_count": 55,
   "metadata": {},
   "outputs": [
    {
     "name": "stdout",
     "output_type": "stream",
     "text": [
      "+---+------+\n",
      "|age|income|\n",
      "+---+------+\n",
      "| 39| <=50K|\n",
      "| 50| <=50K|\n",
      "| 38| <=50K|\n",
      "| 53| <=50K|\n",
      "| 28| <=50K|\n",
      "| 37| <=50K|\n",
      "| 49| <=50K|\n",
      "| 52|  >50K|\n",
      "| 31|  >50K|\n",
      "| 42|  >50K|\n",
      "+---+------+\n",
      "\n"
     ]
    }
   ],
   "source": [
    "dfAgeIncome.show()"
   ]
  },
  {
   "cell_type": "code",
   "execution_count": 56,
   "metadata": {},
   "outputs": [
    {
     "data": {
      "text/plain": [
       "pyspark.sql.dataframe.DataFrame"
      ]
     },
     "execution_count": 56,
     "metadata": {},
     "output_type": "execute_result"
    }
   ],
   "source": [
    "type(dfAgeIncome)"
   ]
  },
  {
   "cell_type": "code",
   "execution_count": 61,
   "metadata": {},
   "outputs": [],
   "source": [
    "avgHoursPerWeekByEducation = spark.sql('select education, round(avg(`hours-per-week`), 2) as avgHoursPerWeek from census group by education order by avgHoursPerWeek')"
   ]
  },
  {
   "cell_type": "code",
   "execution_count": 62,
   "metadata": {},
   "outputs": [
    {
     "name": "stdout",
     "output_type": "stream",
     "text": [
      "+-------------+---------------+\n",
      "|    education|avgHoursPerWeek|\n",
      "+-------------+---------------+\n",
      "|         11th|          33.93|\n",
      "|         12th|          35.78|\n",
      "|    Preschool|          36.65|\n",
      "|         10th|          37.05|\n",
      "|          9th|          38.04|\n",
      "|      1st-4th|          38.26|\n",
      "| Some-college|          38.85|\n",
      "|      5th-6th|           38.9|\n",
      "|      7th-8th|          39.37|\n",
      "|   Assoc-acdm|           40.5|\n",
      "|      HS-grad|          40.58|\n",
      "|    Assoc-voc|          41.61|\n",
      "|    Bachelors|          42.61|\n",
      "|      Masters|          43.84|\n",
      "|    Doctorate|          46.97|\n",
      "|  Prof-school|          47.43|\n",
      "+-------------+---------------+\n",
      "\n"
     ]
    }
   ],
   "source": [
    "avgHoursPerWeekByEducation.show()"
   ]
  },
  {
   "cell_type": "code",
   "execution_count": 92,
   "metadata": {},
   "outputs": [],
   "source": [
    "urlPG9=\"jdbc:postgresql://us/pysparkbookdb?user=postgres&password=Passw0rd\""
   ]
  },
  {
   "cell_type": "code",
   "execution_count": 93,
   "metadata": {},
   "outputs": [],
   "source": [
    "dfStudents = spark.read.format('jdbc').options(url=urlPG9, database='pysparkbookdb', dbtable='studenttable').load()"
   ]
  },
  {
   "cell_type": "code",
   "execution_count": 94,
   "metadata": {},
   "outputs": [
    {
     "name": "stdout",
     "output_type": "stream",
     "text": [
      "+--------------------+--------------------+------+\n",
      "|           studentid|                name|gender|\n",
      "+--------------------+--------------------+------+\n",
      "|si1              ...|Robin            ...| M    |\n",
      "|si2              ...|Maria            ...| F    |\n",
      "|si3              ...|Julie            ...| F    |\n",
      "|si4              ...|Bob              ...| M    |\n",
      "|si6              ...|William          ...| M    |\n",
      "+--------------------+--------------------+------+\n",
      "\n"
     ]
    }
   ],
   "source": [
    "dfStudents.show()"
   ]
  },
  {
   "cell_type": "code",
   "execution_count": 95,
   "metadata": {},
   "outputs": [],
   "source": [
    "from pyspark.sql.functions import trim"
   ]
  },
  {
   "cell_type": "code",
   "execution_count": 96,
   "metadata": {},
   "outputs": [],
   "source": [
    "dfStudents = dfStudents.select(trim(dfStudents.studentid), trim(dfStudents.name), dfStudents.gender)"
   ]
  },
  {
   "cell_type": "code",
   "execution_count": 97,
   "metadata": {},
   "outputs": [
    {
     "name": "stdout",
     "output_type": "stream",
     "text": [
      "+---------------+----------+------+\n",
      "|trim(studentid)|trim(name)|gender|\n",
      "+---------------+----------+------+\n",
      "|            si1|     Robin| M    |\n",
      "|            si2|     Maria| F    |\n",
      "|            si3|     Julie| F    |\n",
      "|            si4|       Bob| M    |\n",
      "|            si6|   William| M    |\n",
      "+---------------+----------+------+\n",
      "\n"
     ]
    }
   ],
   "source": [
    "dfStudents.show()"
   ]
  },
  {
   "cell_type": "code",
   "execution_count": 98,
   "metadata": {},
   "outputs": [],
   "source": [
    "dfStudents = dfStudents.withColumnRenamed('trim(studentid)', 'studentID').withColumnRenamed('trim(name)', 'Name').withColumnRenamed('gender', 'Gender')"
   ]
  },
  {
   "cell_type": "code",
   "execution_count": 99,
   "metadata": {},
   "outputs": [
    {
     "name": "stdout",
     "output_type": "stream",
     "text": [
      "root\n",
      " |-- studentID: string (nullable = true)\n",
      " |-- Name: string (nullable = true)\n",
      " |-- Gender: string (nullable = true)\n",
      "\n"
     ]
    }
   ],
   "source": [
    "dfStudents.printSchema()"
   ]
  },
  {
   "cell_type": "code",
   "execution_count": 100,
   "metadata": {},
   "outputs": [
    {
     "name": "stdout",
     "output_type": "stream",
     "text": [
      "+---------+-------+------+\n",
      "|studentID|   Name|Gender|\n",
      "+---------+-------+------+\n",
      "|      si1|  Robin| M    |\n",
      "|      si2|  Maria| F    |\n",
      "|      si3|  Julie| F    |\n",
      "|      si4|    Bob| M    |\n",
      "|      si6|William| M    |\n",
      "+---------+-------+------+\n",
      "\n"
     ]
    }
   ],
   "source": [
    "dfStudents.show()"
   ]
  },
  {
   "cell_type": "code",
   "execution_count": 101,
   "metadata": {},
   "outputs": [],
   "source": [
    "dfSubjects = sqlContext.read.format('json').load('file:///opt/data/txt/pyspark_recipes/subjects.json')"
   ]
  },
  {
   "cell_type": "code",
   "execution_count": 102,
   "metadata": {},
   "outputs": [
    {
     "name": "stdout",
     "output_type": "stream",
     "text": [
      "+---------+-------+\n",
      "|studentID|subject|\n",
      "+---------+-------+\n",
      "|      si1| Python|\n",
      "|      si3|   Java|\n",
      "|      si1|   Java|\n",
      "|      si2| Python|\n",
      "|      si3|   Ruby|\n",
      "|      si4|    C++|\n",
      "|      si5|      C|\n",
      "|      si4| Python|\n",
      "|      si2|   Java|\n",
      "+---------+-------+\n",
      "\n"
     ]
    }
   ],
   "source": [
    "dfSubjects.show()"
   ]
  },
  {
   "cell_type": "code",
   "execution_count": 103,
   "metadata": {},
   "outputs": [],
   "source": [
    "dfJoined = dfSubjects.join(dfStudents, dfSubjects.studentID == dfStudents.studentID, how='inner')"
   ]
  },
  {
   "cell_type": "code",
   "execution_count": 104,
   "metadata": {},
   "outputs": [
    {
     "name": "stdout",
     "output_type": "stream",
     "text": [
      "+---------+-------+---------+-----+------+\n",
      "|studentID|subject|studentID| Name|Gender|\n",
      "+---------+-------+---------+-----+------+\n",
      "|      si1|   Java|      si1|Robin| M    |\n",
      "|      si1| Python|      si1|Robin| M    |\n",
      "|      si2|   Java|      si2|Maria| F    |\n",
      "|      si2| Python|      si2|Maria| F    |\n",
      "|      si3|   Ruby|      si3|Julie| F    |\n",
      "|      si3|   Java|      si3|Julie| F    |\n",
      "|      si4| Python|      si4|  Bob| M    |\n",
      "|      si4|    C++|      si4|  Bob| M    |\n",
      "+---------+-------+---------+-----+------+\n",
      "\n"
     ]
    }
   ],
   "source": [
    "dfJoined.show()"
   ]
  },
  {
   "cell_type": "code",
   "execution_count": 105,
   "metadata": {},
   "outputs": [],
   "source": [
    "dfJoined = dfJoined.select(dfSubjects.studentID, 'subject', 'Name', 'Gender')"
   ]
  },
  {
   "cell_type": "code",
   "execution_count": 106,
   "metadata": {},
   "outputs": [
    {
     "data": {
      "text/plain": [
       "['studentID', 'subject', 'Name', 'Gender']"
      ]
     },
     "execution_count": 106,
     "metadata": {},
     "output_type": "execute_result"
    }
   ],
   "source": [
    "dfJoined.columns"
   ]
  },
  {
   "cell_type": "code",
   "execution_count": 107,
   "metadata": {},
   "outputs": [],
   "source": [
    "dfJoined.write.format('json').save('file:///opt/data/tmp/dfJoined')"
   ]
  },
  {
   "cell_type": "code",
   "execution_count": 108,
   "metadata": {},
   "outputs": [],
   "source": [
    "dfLeftOuter = dfSubjects.join(dfStudents, dfSubjects.studentID==dfStudents.studentID, how='left_outer')"
   ]
  },
  {
   "cell_type": "code",
   "execution_count": 109,
   "metadata": {},
   "outputs": [
    {
     "name": "stdout",
     "output_type": "stream",
     "text": [
      "+---------+-------+---------+-----+------+\n",
      "|studentID|subject|studentID| Name|Gender|\n",
      "+---------+-------+---------+-----+------+\n",
      "|      si5|      C|     null| null|  null|\n",
      "|      si2| Python|      si2|Maria| F    |\n",
      "|      si2|   Java|      si2|Maria| F    |\n",
      "|      si4|    C++|      si4|  Bob| M    |\n",
      "|      si4| Python|      si4|  Bob| M    |\n",
      "|      si3|   Java|      si3|Julie| F    |\n",
      "|      si3|   Ruby|      si3|Julie| F    |\n",
      "|      si1| Python|      si1|Robin| M    |\n",
      "|      si1|   Java|      si1|Robin| M    |\n",
      "+---------+-------+---------+-----+------+\n",
      "\n"
     ]
    }
   ],
   "source": [
    "dfLeftOuter.show()"
   ]
  },
  {
   "cell_type": "code",
   "execution_count": 110,
   "metadata": {},
   "outputs": [],
   "source": [
    "dfLeftOuter = dfLeftOuter.select(dfSubjects.studentID, 'subject', 'Name', 'Gender')"
   ]
  },
  {
   "cell_type": "code",
   "execution_count": 111,
   "metadata": {},
   "outputs": [],
   "source": [
    "props = {'user': 'postgres', 'password': 'Passw0rd'}"
   ]
  },
  {
   "cell_type": "code",
   "execution_count": 112,
   "metadata": {},
   "outputs": [],
   "source": [
    "dfLeftOuter.write.jdbc(url=urlPG9, table='left_outer', mode='overwrite', properties=props)"
   ]
  },
  {
   "cell_type": "code",
   "execution_count": null,
   "metadata": {},
   "outputs": [],
   "source": []
  }
 ],
 "metadata": {
  "kernelspec": {
   "display_name": "Python 3",
   "language": "python",
   "name": "python3"
  },
  "language_info": {
   "codemirror_mode": {
    "name": "ipython",
    "version": 3
   },
   "file_extension": ".py",
   "mimetype": "text/x-python",
   "name": "python",
   "nbconvert_exporter": "python",
   "pygments_lexer": "ipython3",
   "version": "3.6.7"
  }
 },
 "nbformat": 4,
 "nbformat_minor": 2
}
