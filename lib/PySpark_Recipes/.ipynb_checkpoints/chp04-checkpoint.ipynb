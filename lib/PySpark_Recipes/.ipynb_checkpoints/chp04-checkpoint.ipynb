{
 "cells": [
  {
   "cell_type": "code",
   "execution_count": 1,
   "metadata": {},
   "outputs": [],
   "source": [
    "pythonList = [2.3, 3.4, 4.3, 2.4, 2.3, 4.0]"
   ]
  },
  {
   "cell_type": "code",
   "execution_count": 2,
   "metadata": {},
   "outputs": [
    {
     "data": {
      "text/plain": [
       "list"
      ]
     },
     "execution_count": 2,
     "metadata": {},
     "output_type": "execute_result"
    }
   ],
   "source": [
    "type(pythonList)"
   ]
  },
  {
   "cell_type": "code",
   "execution_count": 3,
   "metadata": {},
   "outputs": [],
   "source": [
    "parPythonRDD = sc.parallelize(pythonList, 2)"
   ]
  },
  {
   "cell_type": "code",
   "execution_count": 4,
   "metadata": {},
   "outputs": [
    {
     "data": {
      "text/plain": [
       "[2.3, 3.4, 4.3, 2.4, 2.3, 4.0]"
      ]
     },
     "execution_count": 4,
     "metadata": {},
     "output_type": "execute_result"
    }
   ],
   "source": [
    "parPythonRDD.collect()"
   ]
  },
  {
   "cell_type": "code",
   "execution_count": 6,
   "metadata": {},
   "outputs": [
    {
     "data": {
      "text/plain": [
       "2.3"
      ]
     },
     "execution_count": 6,
     "metadata": {},
     "output_type": "execute_result"
    }
   ],
   "source": [
    "parPythonRDD.first()"
   ]
  },
  {
   "cell_type": "code",
   "execution_count": 7,
   "metadata": {},
   "outputs": [],
   "source": [
    "# Convert Temperature Data\n",
    "# o C = ( o F – 32) × 5/9"
   ]
  },
  {
   "cell_type": "code",
   "execution_count": 8,
   "metadata": {},
   "outputs": [],
   "source": [
    "temps = [59, 57.2, 53.6, 55.4, 51.8, 53.6, 55.4]"
   ]
  },
  {
   "cell_type": "code",
   "execution_count": 9,
   "metadata": {},
   "outputs": [],
   "source": [
    "parTempsRDD = sc.parallelize(temps, 2)"
   ]
  },
  {
   "cell_type": "code",
   "execution_count": 10,
   "metadata": {},
   "outputs": [
    {
     "data": {
      "text/plain": [
       "[59, 57.2, 53.6, 55.4, 51.8, 53.6, 55.4]"
      ]
     },
     "execution_count": 10,
     "metadata": {},
     "output_type": "execute_result"
    }
   ],
   "source": [
    "parTempsRDD.collect()"
   ]
  },
  {
   "cell_type": "code",
   "execution_count": 11,
   "metadata": {},
   "outputs": [],
   "source": [
    "def f2c(t):\n",
    "    return (t -32)*5/9"
   ]
  },
  {
   "cell_type": "code",
   "execution_count": 12,
   "metadata": {},
   "outputs": [
    {
     "data": {
      "text/plain": [
       "15.0"
      ]
     },
     "execution_count": 12,
     "metadata": {},
     "output_type": "execute_result"
    }
   ],
   "source": [
    "f2c(59)"
   ]
  },
  {
   "cell_type": "code",
   "execution_count": 13,
   "metadata": {},
   "outputs": [],
   "source": [
    "rddTempsCent = parTempsRDD.map(f2c)"
   ]
  },
  {
   "cell_type": "code",
   "execution_count": 14,
   "metadata": {},
   "outputs": [
    {
     "data": {
      "text/plain": [
       "[15.0, 14.000000000000002, 12.0, 13.0, 10.999999999999998, 12.0, 13.0]"
      ]
     },
     "execution_count": 14,
     "metadata": {},
     "output_type": "execute_result"
    }
   ],
   "source": [
    "rddTempsCent.collect()"
   ]
  },
  {
   "cell_type": "code",
   "execution_count": 15,
   "metadata": {},
   "outputs": [],
   "source": [
    "def morethan13(t):\n",
    "    return t >= 13"
   ]
  },
  {
   "cell_type": "code",
   "execution_count": 16,
   "metadata": {},
   "outputs": [],
   "source": [
    "filteredTemps = rddTempsCent.filter(morethan13)"
   ]
  },
  {
   "cell_type": "code",
   "execution_count": 17,
   "metadata": {},
   "outputs": [
    {
     "data": {
      "text/plain": [
       "[15.0, 14.000000000000002, 13.0, 13.0]"
      ]
     },
     "execution_count": 17,
     "metadata": {},
     "output_type": "execute_result"
    }
   ],
   "source": [
    "filteredTemps.collect()"
   ]
  },
  {
   "cell_type": "code",
   "execution_count": 18,
   "metadata": {},
   "outputs": [],
   "source": [
    "filteredTemps = rddTempsCent.filter(lambda x: x >= 13)"
   ]
  },
  {
   "cell_type": "code",
   "execution_count": 19,
   "metadata": {},
   "outputs": [
    {
     "data": {
      "text/plain": [
       "[15.0, 14.000000000000002, 13.0, 13.0]"
      ]
     },
     "execution_count": 19,
     "metadata": {},
     "output_type": "execute_result"
    }
   ],
   "source": [
    "filteredTemps.collect()"
   ]
  },
  {
   "cell_type": "code",
   "execution_count": 20,
   "metadata": {},
   "outputs": [],
   "source": [
    "studentMarksData = [[\"si1\",\"year1\",62.08,62.4],\n",
    "                    [\"si1\",\"year2\",75.94,76.75],\n",
    "                    [\"si2\",\"year1\",68.26,72.95],\n",
    "                    [\"si2\",\"year2\",85.49,75.8],\n",
    "                    [\"si3\",\"year1\",75.08,79.84],\n",
    "                    [\"si3\",\"year2\",54.98,87.72],\n",
    "                    [\"si4\",\"year1\",50.03,66.85],\n",
    "                    [\"si4\",\"year2\",71.26,69.77],\n",
    "                    [\"si5\",\"year1\",52.74,76.27],\n",
    "                    [\"si5\",\"year2\",50.39,68.58],\n",
    "                    [\"si6\",\"year1\",74.86,60.8],\n",
    "                    [\"si6\",\"year2\",58.29,62.38],\n",
    "                    [\"si7\",\"year1\",63.95,74.51],\n",
    "                    [\"si7\",\"year2\",66.69,56.92]]"
   ]
  },
  {
   "cell_type": "code",
   "execution_count": 21,
   "metadata": {},
   "outputs": [],
   "source": [
    "rddStudentMarks = sc.parallelize(studentMarksData, 4)"
   ]
  },
  {
   "cell_type": "code",
   "execution_count": 22,
   "metadata": {},
   "outputs": [],
   "source": [
    "studentMarksMean = rddStudentMarks.map(lambda x: [x[0], x[1], (x[2] + x[3])/2])"
   ]
  },
  {
   "cell_type": "code",
   "execution_count": 23,
   "metadata": {},
   "outputs": [
    {
     "data": {
      "text/plain": [
       "[['si1', 'year1', 62.239999999999995],\n",
       " ['si1', 'year2', 76.345],\n",
       " ['si2', 'year1', 70.605],\n",
       " ['si2', 'year2', 80.645],\n",
       " ['si3', 'year1', 77.46000000000001],\n",
       " ['si3', 'year2', 71.35],\n",
       " ['si4', 'year1', 58.44],\n",
       " ['si4', 'year2', 70.515],\n",
       " ['si5', 'year1', 64.505],\n",
       " ['si5', 'year2', 59.485],\n",
       " ['si6', 'year1', 67.83],\n",
       " ['si6', 'year2', 60.335],\n",
       " ['si7', 'year1', 69.23],\n",
       " ['si7', 'year2', 61.805]]"
      ]
     },
     "execution_count": 23,
     "metadata": {},
     "output_type": "execute_result"
    }
   ],
   "source": [
    "studentMarksMean.collect()"
   ]
  },
  {
   "cell_type": "code",
   "execution_count": 24,
   "metadata": {},
   "outputs": [],
   "source": [
    "secondYearMarks = studentMarksMean.filter(lambda x: 'year2' in x)"
   ]
  },
  {
   "cell_type": "code",
   "execution_count": 25,
   "metadata": {},
   "outputs": [
    {
     "data": {
      "text/plain": [
       "[['si1', 'year2', 76.345],\n",
       " ['si2', 'year2', 80.645],\n",
       " ['si3', 'year2', 71.35],\n",
       " ['si4', 'year2', 70.515],\n",
       " ['si5', 'year2', 59.485],\n",
       " ['si6', 'year2', 60.335],\n",
       " ['si7', 'year2', 61.805]]"
      ]
     },
     "execution_count": 25,
     "metadata": {},
     "output_type": "execute_result"
    }
   ],
   "source": [
    "secondYearMarks.collect()"
   ]
  },
  {
   "cell_type": "code",
   "execution_count": 26,
   "metadata": {},
   "outputs": [],
   "source": [
    "sortedSecondYearMarks = secondYearMarks.sortBy(keyfunc=lambda x: -x[2])"
   ]
  },
  {
   "cell_type": "code",
   "execution_count": 27,
   "metadata": {},
   "outputs": [
    {
     "data": {
      "text/plain": [
       "[['si2', 'year2', 80.645],\n",
       " ['si1', 'year2', 76.345],\n",
       " ['si3', 'year2', 71.35],\n",
       " ['si4', 'year2', 70.515],\n",
       " ['si7', 'year2', 61.805],\n",
       " ['si6', 'year2', 60.335],\n",
       " ['si5', 'year2', 59.485]]"
      ]
     },
     "execution_count": 27,
     "metadata": {},
     "output_type": "execute_result"
    }
   ],
   "source": [
    "sortedSecondYearMarks.collect()"
   ]
  },
  {
   "cell_type": "code",
   "execution_count": 29,
   "metadata": {},
   "outputs": [],
   "source": [
    "top3 = secondYearMarks.takeOrdered(num=3, key=lambda x: -x[2])"
   ]
  },
  {
   "cell_type": "code",
   "execution_count": 31,
   "metadata": {},
   "outputs": [
    {
     "data": {
      "text/plain": [
       "[['si2', 'year2', 80.645], ['si1', 'year2', 76.345], ['si3', 'year2', 71.35]]"
      ]
     },
     "execution_count": 31,
     "metadata": {},
     "output_type": "execute_result"
    }
   ],
   "source": [
    "top3"
   ]
  },
  {
   "cell_type": "code",
   "execution_count": 32,
   "metadata": {},
   "outputs": [],
   "source": [
    "bottom3 = secondYearMarks.takeOrdered(num=3, key=lambda x: x[2])"
   ]
  },
  {
   "cell_type": "code",
   "execution_count": 33,
   "metadata": {},
   "outputs": [
    {
     "data": {
      "text/plain": [
       "[['si5', 'year2', 59.485], ['si6', 'year2', 60.335], ['si7', 'year2', 61.805]]"
      ]
     },
     "execution_count": 33,
     "metadata": {},
     "output_type": "execute_result"
    }
   ],
   "source": [
    "bottom3"
   ]
  },
  {
   "cell_type": "code",
   "execution_count": 38,
   "metadata": {},
   "outputs": [],
   "source": [
    "moreThan80 = secondYearMarks.filter(lambda x: x[2] > 80)"
   ]
  },
  {
   "cell_type": "code",
   "execution_count": 39,
   "metadata": {},
   "outputs": [
    {
     "data": {
      "text/plain": [
       "[['si2', 'year2', 80.645]]"
      ]
     },
     "execution_count": 39,
     "metadata": {},
     "output_type": "execute_result"
    }
   ],
   "source": [
    "moreThan80.collect()"
   ]
  },
  {
   "cell_type": "code",
   "execution_count": 40,
   "metadata": {},
   "outputs": [],
   "source": [
    "data2001 = ['RIN1', 'RIN2', 'RIN3', 'RIN4', 'RIN5', 'RIN6', 'RIN7']"
   ]
  },
  {
   "cell_type": "code",
   "execution_count": 41,
   "metadata": {},
   "outputs": [],
   "source": [
    "data2002 = ['RIN3', 'RIN4', 'RIN7', 'RIN8', 'RIN9']"
   ]
  },
  {
   "cell_type": "code",
   "execution_count": 42,
   "metadata": {},
   "outputs": [],
   "source": [
    "data2003 = ['RIN4', 'RIN8', 'RIN10', 'RIN11', 'RIN12']"
   ]
  },
  {
   "cell_type": "code",
   "execution_count": 43,
   "metadata": {},
   "outputs": [],
   "source": [
    "rdd2001 = sc.parallelize(data2001, 2)"
   ]
  },
  {
   "cell_type": "code",
   "execution_count": 44,
   "metadata": {},
   "outputs": [],
   "source": [
    "rdd2002 = sc.parallelize(data2002, 2)"
   ]
  },
  {
   "cell_type": "code",
   "execution_count": 45,
   "metadata": {},
   "outputs": [],
   "source": [
    "rdd2003 = sc.parallelize(data2003, 2)"
   ]
  },
  {
   "cell_type": "code",
   "execution_count": 46,
   "metadata": {},
   "outputs": [],
   "source": [
    "u12 = rdd2001.union(rdd2002)"
   ]
  },
  {
   "cell_type": "code",
   "execution_count": 47,
   "metadata": {},
   "outputs": [
    {
     "data": {
      "text/plain": [
       "['RIN1',\n",
       " 'RIN2',\n",
       " 'RIN3',\n",
       " 'RIN4',\n",
       " 'RIN5',\n",
       " 'RIN6',\n",
       " 'RIN7',\n",
       " 'RIN3',\n",
       " 'RIN4',\n",
       " 'RIN7',\n",
       " 'RIN8',\n",
       " 'RIN9']"
      ]
     },
     "execution_count": 47,
     "metadata": {},
     "output_type": "execute_result"
    }
   ],
   "source": [
    "u12.collect()"
   ]
  },
  {
   "cell_type": "code",
   "execution_count": 48,
   "metadata": {},
   "outputs": [],
   "source": [
    "u123 = u12.union(rdd2003)"
   ]
  },
  {
   "cell_type": "code",
   "execution_count": 49,
   "metadata": {},
   "outputs": [
    {
     "data": {
      "text/plain": [
       "['RIN1',\n",
       " 'RIN2',\n",
       " 'RIN3',\n",
       " 'RIN4',\n",
       " 'RIN5',\n",
       " 'RIN6',\n",
       " 'RIN7',\n",
       " 'RIN3',\n",
       " 'RIN4',\n",
       " 'RIN7',\n",
       " 'RIN8',\n",
       " 'RIN9',\n",
       " 'RIN4',\n",
       " 'RIN8',\n",
       " 'RIN10',\n",
       " 'RIN11',\n",
       " 'RIN12']"
      ]
     },
     "execution_count": 49,
     "metadata": {},
     "output_type": "execute_result"
    }
   ],
   "source": [
    "u123.collect()"
   ]
  },
  {
   "cell_type": "code",
   "execution_count": 50,
   "metadata": {},
   "outputs": [],
   "source": [
    "uu123 = u123.distinct()"
   ]
  },
  {
   "cell_type": "code",
   "execution_count": 53,
   "metadata": {},
   "outputs": [
    {
     "data": {
      "text/plain": [
       "['RIN1',\n",
       " 'RIN10',\n",
       " 'RIN12',\n",
       " 'RIN2',\n",
       " 'RIN3',\n",
       " 'RIN5',\n",
       " 'RIN8',\n",
       " 'RIN4',\n",
       " 'RIN9',\n",
       " 'RIN11',\n",
       " 'RIN6',\n",
       " 'RIN7']"
      ]
     },
     "execution_count": 53,
     "metadata": {},
     "output_type": "execute_result"
    }
   ],
   "source": [
    "uu123.collect()"
   ]
  },
  {
   "cell_type": "code",
   "execution_count": 54,
   "metadata": {},
   "outputs": [
    {
     "data": {
      "text/plain": [
       "12"
      ]
     },
     "execution_count": 54,
     "metadata": {},
     "output_type": "execute_result"
    }
   ],
   "source": [
    "u123.distinct().count()"
   ]
  },
  {
   "cell_type": "code",
   "execution_count": 56,
   "metadata": {},
   "outputs": [],
   "source": [
    "c1 = rdd2001.subtract(rdd2002)"
   ]
  },
  {
   "cell_type": "code",
   "execution_count": 57,
   "metadata": {},
   "outputs": [
    {
     "data": {
      "text/plain": [
       "['RIN1', 'RIN2', 'RIN5', 'RIN6']"
      ]
     },
     "execution_count": 57,
     "metadata": {},
     "output_type": "execute_result"
    }
   ],
   "source": [
    "c1.collect()"
   ]
  },
  {
   "cell_type": "code",
   "execution_count": 58,
   "metadata": {},
   "outputs": [
    {
     "data": {
      "text/plain": [
       "['RIN1', 'RIN2', 'RIN3', 'RIN3', 'RIN5', 'RIN9', 'RIN6', 'RIN7', 'RIN7']"
      ]
     },
     "execution_count": 58,
     "metadata": {},
     "output_type": "execute_result"
    }
   ],
   "source": [
    "u12.subtract(rdd2003).collect()"
   ]
  },
  {
   "cell_type": "code",
   "execution_count": 59,
   "metadata": {},
   "outputs": [
    {
     "data": {
      "text/plain": [
       "['RIN1', 'RIN2', 'RIN3', 'RIN5', 'RIN9', 'RIN6', 'RIN7']"
      ]
     },
     "execution_count": 59,
     "metadata": {},
     "output_type": "execute_result"
    }
   ],
   "source": [
    "u12.subtract(rdd2003).distinct().collect()"
   ]
  },
  {
   "cell_type": "code",
   "execution_count": 60,
   "metadata": {},
   "outputs": [],
   "source": [
    "a12 = rdd2001.intersection(rdd2002)"
   ]
  },
  {
   "cell_type": "code",
   "execution_count": 61,
   "metadata": {},
   "outputs": [
    {
     "data": {
      "text/plain": [
       "['RIN3', 'RIN4', 'RIN7']"
      ]
     },
     "execution_count": 61,
     "metadata": {},
     "output_type": "execute_result"
    }
   ],
   "source": [
    "a12.collect()"
   ]
  },
  {
   "cell_type": "code",
   "execution_count": 62,
   "metadata": {},
   "outputs": [
    {
     "data": {
      "text/plain": [
       "['RIN3', 'RIN7']"
      ]
     },
     "execution_count": 62,
     "metadata": {},
     "output_type": "execute_result"
    }
   ],
   "source": [
    "a12.subtract(rdd2003).distinct().collect()"
   ]
  },
  {
   "cell_type": "code",
   "execution_count": 1,
   "metadata": {},
   "outputs": [],
   "source": [
    "# Calculate Summary Statistics"
   ]
  },
  {
   "cell_type": "code",
   "execution_count": 2,
   "metadata": {},
   "outputs": [],
   "source": [
    "va = [12,13,15,12,11,12,11]"
   ]
  },
  {
   "cell_type": "code",
   "execution_count": 3,
   "metadata": {},
   "outputs": [],
   "source": [
    "rdd_va = sc.parallelize(va, 2)"
   ]
  },
  {
   "cell_type": "code",
   "execution_count": 4,
   "metadata": {},
   "outputs": [],
   "source": [
    "nums = rdd_va.count()"
   ]
  },
  {
   "cell_type": "code",
   "execution_count": 5,
   "metadata": {},
   "outputs": [
    {
     "data": {
      "text/plain": [
       "7"
      ]
     },
     "execution_count": 5,
     "metadata": {},
     "output_type": "execute_result"
    }
   ],
   "source": [
    "nums"
   ]
  },
  {
   "cell_type": "code",
   "execution_count": 6,
   "metadata": {},
   "outputs": [],
   "source": [
    "sum_va = rdd_va.sum()"
   ]
  },
  {
   "cell_type": "code",
   "execution_count": 7,
   "metadata": {},
   "outputs": [
    {
     "data": {
      "text/plain": [
       "86"
      ]
     },
     "execution_count": 7,
     "metadata": {},
     "output_type": "execute_result"
    }
   ],
   "source": [
    "sum_va"
   ]
  },
  {
   "cell_type": "code",
   "execution_count": 8,
   "metadata": {},
   "outputs": [],
   "source": [
    "mean_va = rdd_va.mean()"
   ]
  },
  {
   "cell_type": "code",
   "execution_count": 9,
   "metadata": {},
   "outputs": [
    {
     "data": {
      "text/plain": [
       "12.285714285714286"
      ]
     },
     "execution_count": 9,
     "metadata": {},
     "output_type": "execute_result"
    }
   ],
   "source": [
    "mean_va"
   ]
  },
  {
   "cell_type": "code",
   "execution_count": 10,
   "metadata": {},
   "outputs": [],
   "source": [
    "var_va = rdd_va.variance()"
   ]
  },
  {
   "cell_type": "code",
   "execution_count": 11,
   "metadata": {},
   "outputs": [
    {
     "data": {
      "text/plain": [
       "1.63265306122449"
      ]
     },
     "execution_count": 11,
     "metadata": {},
     "output_type": "execute_result"
    }
   ],
   "source": [
    "var_va"
   ]
  },
  {
   "cell_type": "code",
   "execution_count": 12,
   "metadata": {},
   "outputs": [],
   "source": [
    "svar_va = rdd_va.sampleVariance()"
   ]
  },
  {
   "cell_type": "code",
   "execution_count": 13,
   "metadata": {},
   "outputs": [
    {
     "data": {
      "text/plain": [
       "1.904761904761905"
      ]
     },
     "execution_count": 13,
     "metadata": {},
     "output_type": "execute_result"
    }
   ],
   "source": [
    "svar_va"
   ]
  },
  {
   "cell_type": "code",
   "execution_count": 14,
   "metadata": {},
   "outputs": [],
   "source": [
    "import math"
   ]
  },
  {
   "cell_type": "code",
   "execution_count": 15,
   "metadata": {},
   "outputs": [
    {
     "data": {
      "text/plain": [
       "1.2777531299998799"
      ]
     },
     "execution_count": 15,
     "metadata": {},
     "output_type": "execute_result"
    }
   ],
   "source": [
    "math.sqrt(var_va)"
   ]
  },
  {
   "cell_type": "code",
   "execution_count": 16,
   "metadata": {},
   "outputs": [],
   "source": [
    "stdev_va = rdd_va.stdev()"
   ]
  },
  {
   "cell_type": "code",
   "execution_count": 17,
   "metadata": {},
   "outputs": [
    {
     "data": {
      "text/plain": [
       "1.2777531299998799"
      ]
     },
     "execution_count": 17,
     "metadata": {},
     "output_type": "execute_result"
    }
   ],
   "source": [
    "stdev_va"
   ]
  },
  {
   "cell_type": "code",
   "execution_count": 18,
   "metadata": {},
   "outputs": [
    {
     "data": {
      "text/plain": [
       "1.3801311186847085"
      ]
     },
     "execution_count": 18,
     "metadata": {},
     "output_type": "execute_result"
    }
   ],
   "source": [
    "math.sqrt(svar_va)"
   ]
  },
  {
   "cell_type": "code",
   "execution_count": 19,
   "metadata": {},
   "outputs": [],
   "source": [
    "sstdev_va = rdd_va.sampleStdev()"
   ]
  },
  {
   "cell_type": "code",
   "execution_count": 20,
   "metadata": {},
   "outputs": [
    {
     "data": {
      "text/plain": [
       "1.3801311186847085"
      ]
     },
     "execution_count": 20,
     "metadata": {},
     "output_type": "execute_result"
    }
   ],
   "source": [
    "sstdev_va"
   ]
  },
  {
   "cell_type": "code",
   "execution_count": 21,
   "metadata": {},
   "outputs": [
    {
     "data": {
      "text/plain": [
       "pyspark.statcounter.StatCounter"
      ]
     },
     "execution_count": 21,
     "metadata": {},
     "output_type": "execute_result"
    }
   ],
   "source": [
    "type(rdd_va.stats())"
   ]
  },
  {
   "cell_type": "code",
   "execution_count": 22,
   "metadata": {},
   "outputs": [
    {
     "data": {
      "text/plain": [
       "(count: 7, mean: 12.285714285714286, stdev: 1.2777531299998799, max: 15.0, min: 11.0)"
      ]
     },
     "execution_count": 22,
     "metadata": {},
     "output_type": "execute_result"
    }
   ],
   "source": [
    "rdd_va.stats()"
   ]
  },
  {
   "cell_type": "code",
   "execution_count": 23,
   "metadata": {},
   "outputs": [
    {
     "data": {
      "text/plain": [
       "{'count': 7,\n",
       " 'mean': 12.285714285714286,\n",
       " 'sum': 86.0,\n",
       " 'min': 11.0,\n",
       " 'max': 15.0,\n",
       " 'stdev': 1.3801311186847085,\n",
       " 'variance': 1.904761904761905}"
      ]
     },
     "execution_count": 23,
     "metadata": {},
     "output_type": "execute_result"
    }
   ],
   "source": [
    "rdd_va.stats().asDict()"
   ]
  },
  {
   "cell_type": "code",
   "execution_count": 24,
   "metadata": {},
   "outputs": [
    {
     "data": {
      "text/plain": [
       "12.285714285714286"
      ]
     },
     "execution_count": 24,
     "metadata": {},
     "output_type": "execute_result"
    }
   ],
   "source": [
    "rdd_va.stats().mean()"
   ]
  },
  {
   "cell_type": "code",
   "execution_count": 25,
   "metadata": {},
   "outputs": [
    {
     "data": {
      "text/plain": [
       "1.2777531299998799"
      ]
     },
     "execution_count": 25,
     "metadata": {},
     "output_type": "execute_result"
    }
   ],
   "source": [
    "rdd_va.stats().stdev()"
   ]
  },
  {
   "cell_type": "code",
   "execution_count": 1,
   "metadata": {},
   "outputs": [],
   "source": [
    "letters = ['b', 'd', 'm', 't', 'e', 'u']"
   ]
  },
  {
   "cell_type": "code",
   "execution_count": 2,
   "metadata": {},
   "outputs": [],
   "source": [
    "rdd1 = sc.parallelize(letters, 2)"
   ]
  },
  {
   "cell_type": "code",
   "execution_count": 3,
   "metadata": {},
   "outputs": [
    {
     "data": {
      "text/plain": [
       "['b', 'd', 'm', 't', 'e', 'u']"
      ]
     },
     "execution_count": 3,
     "metadata": {},
     "output_type": "execute_result"
    }
   ],
   "source": [
    "rdd1.collect()"
   ]
  },
  {
   "cell_type": "code",
   "execution_count": 4,
   "metadata": {},
   "outputs": [],
   "source": [
    "def vowelCheck(letter):\n",
    "    if letter in ['a', 'e', 'i', 'o', 'u']:\n",
    "        return 1\n",
    "    else:\n",
    "        return 0"
   ]
  },
  {
   "cell_type": "code",
   "execution_count": 5,
   "metadata": {},
   "outputs": [
    {
     "data": {
      "text/plain": [
       "1"
      ]
     },
     "execution_count": 5,
     "metadata": {},
     "output_type": "execute_result"
    }
   ],
   "source": [
    "vowelCheck('a')"
   ]
  },
  {
   "cell_type": "code",
   "execution_count": 6,
   "metadata": {},
   "outputs": [],
   "source": [
    "rdd2 = rdd1.map(lambda l: (l, vowelCheck(l)))"
   ]
  },
  {
   "cell_type": "code",
   "execution_count": 7,
   "metadata": {},
   "outputs": [
    {
     "data": {
      "text/plain": [
       "[('b', 0), ('d', 0), ('m', 0), ('t', 0), ('e', 1), ('u', 1)]"
      ]
     },
     "execution_count": 7,
     "metadata": {},
     "output_type": "execute_result"
    }
   ],
   "source": [
    "rdd2.collect()"
   ]
  },
  {
   "cell_type": "code",
   "execution_count": 8,
   "metadata": {},
   "outputs": [],
   "source": [
    "rdd2keys = rdd2.keys()"
   ]
  },
  {
   "cell_type": "code",
   "execution_count": 9,
   "metadata": {},
   "outputs": [
    {
     "data": {
      "text/plain": [
       "['b', 'd', 'm', 't', 'e', 'u']"
      ]
     },
     "execution_count": 9,
     "metadata": {},
     "output_type": "execute_result"
    }
   ],
   "source": [
    "rdd2keys.collect()"
   ]
  },
  {
   "cell_type": "code",
   "execution_count": 10,
   "metadata": {},
   "outputs": [],
   "source": [
    "rdd2values = rdd2.values()"
   ]
  },
  {
   "cell_type": "code",
   "execution_count": 11,
   "metadata": {},
   "outputs": [
    {
     "data": {
      "text/plain": [
       "[0, 0, 0, 0, 1, 1]"
      ]
     },
     "execution_count": 11,
     "metadata": {},
     "output_type": "execute_result"
    }
   ],
   "source": [
    "rdd2values.collect()"
   ]
  },
  {
   "cell_type": "code",
   "execution_count": 14,
   "metadata": {},
   "outputs": [],
   "source": [
    "bulbs = [['filamentA','100W',605],\n",
    "['filamentB','100W',683],\n",
    "['filamentB','100W',691],\n",
    "['filamentB','200W',561],\n",
    "['filamentA','200W',530],\n",
    "['filamentA','100W',619],\n",
    "['filamentB','100W',686],\n",
    "['filamentB','200W',600],\n",
    "['filamentB','100W',696],\n",
    "['filamentA','200W',579],\n",
    "['filamentA','200W',520],\n",
    "['filamentA','100W',622],\n",
    "['filamentA','100W',668],\n",
    "['filamentB','200W',569],\n",
    "['filamentB','200W',555],\n",
    "['filamentA','200W',541]]"
   ]
  },
  {
   "cell_type": "code",
   "execution_count": 15,
   "metadata": {},
   "outputs": [
    {
     "data": {
      "text/plain": [
       "[['filamentA', '100W', 605],\n",
       " ['filamentB', '100W', 683],\n",
       " ['filamentB', '100W', 691],\n",
       " ['filamentB', '200W', 561],\n",
       " ['filamentA', '200W', 530],\n",
       " ['filamentA', '100W', 619],\n",
       " ['filamentB', '100W', 686],\n",
       " ['filamentB', '200W', 600],\n",
       " ['filamentB', '100W', 696],\n",
       " ['filamentA', '200W', 579],\n",
       " ['filamentA', '200W', 520],\n",
       " ['filamentA', '100W', 622],\n",
       " ['filamentA', '100W', 668],\n",
       " ['filamentB', '200W', 569],\n",
       " ['filamentB', '200W', 555],\n",
       " ['filamentA', '200W', 541]]"
      ]
     },
     "execution_count": 15,
     "metadata": {},
     "output_type": "execute_result"
    }
   ],
   "source": [
    "bulbs"
   ]
  },
  {
   "cell_type": "code",
   "execution_count": 16,
   "metadata": {},
   "outputs": [],
   "source": [
    "rdd_bulbs = sc.parallelize(bulbs, 2)"
   ]
  },
  {
   "cell_type": "code",
   "execution_count": 17,
   "metadata": {},
   "outputs": [
    {
     "data": {
      "text/plain": [
       "[['filamentA', '100W', 605],\n",
       " ['filamentB', '100W', 683],\n",
       " ['filamentB', '100W', 691]]"
      ]
     },
     "execution_count": 17,
     "metadata": {},
     "output_type": "execute_result"
    }
   ],
   "source": [
    "rdd_bulbs.take(3)"
   ]
  },
  {
   "cell_type": "code",
   "execution_count": 18,
   "metadata": {},
   "outputs": [],
   "source": [
    "rddFilamentLife = rdd_bulbs.map(lambda l: (l[0], l[2]))"
   ]
  },
  {
   "cell_type": "code",
   "execution_count": 19,
   "metadata": {},
   "outputs": [
    {
     "data": {
      "text/plain": [
       "[('filamentA', 605), ('filamentB', 683), ('filamentB', 691)]"
      ]
     },
     "execution_count": 19,
     "metadata": {},
     "output_type": "execute_result"
    }
   ],
   "source": [
    "rddFilamentLife.take(3)"
   ]
  },
  {
   "cell_type": "code",
   "execution_count": 30,
   "metadata": {},
   "outputs": [],
   "source": [
    "rddFilamentLife1 = rddFilamentLife.map(lambda l: (l[0], [l[1], 1]))"
   ]
  },
  {
   "cell_type": "code",
   "execution_count": 31,
   "metadata": {},
   "outputs": [
    {
     "data": {
      "text/plain": [
       "[('filamentA', [605, 1]),\n",
       " ('filamentB', [683, 1]),\n",
       " ('filamentB', [691, 1]),\n",
       " ('filamentB', [561, 1])]"
      ]
     },
     "execution_count": 31,
     "metadata": {},
     "output_type": "execute_result"
    }
   ],
   "source": [
    "rddFilamentLife1.take(4)"
   ]
  },
  {
   "cell_type": "code",
   "execution_count": 32,
   "metadata": {},
   "outputs": [],
   "source": [
    "rddSumFilamentLife = rddFilamentLife1.reduceByKey(lambda l1, l2: [l1[0] + l2[0], l1[1] + l2[1]])"
   ]
  },
  {
   "cell_type": "code",
   "execution_count": 33,
   "metadata": {},
   "outputs": [
    {
     "data": {
      "text/plain": [
       "[('filamentB', [5041, 8]), ('filamentA', [4684, 8])]"
      ]
     },
     "execution_count": 33,
     "metadata": {},
     "output_type": "execute_result"
    }
   ],
   "source": [
    "rddSumFilamentLife.collect()"
   ]
  },
  {
   "cell_type": "code",
   "execution_count": 34,
   "metadata": {},
   "outputs": [
    {
     "data": {
      "text/plain": [
       "16"
      ]
     },
     "execution_count": 34,
     "metadata": {},
     "output_type": "execute_result"
    }
   ],
   "source": [
    "rddFilamentLife1.count()"
   ]
  },
  {
   "cell_type": "code",
   "execution_count": 35,
   "metadata": {},
   "outputs": [
    {
     "data": {
      "text/plain": [
       "2"
      ]
     },
     "execution_count": 35,
     "metadata": {},
     "output_type": "execute_result"
    }
   ],
   "source": [
    "rddFilamentLife1.getNumPartitions()"
   ]
  },
  {
   "cell_type": "code",
   "execution_count": 36,
   "metadata": {},
   "outputs": [],
   "source": [
    "rddMean = rddSumFilamentLife.map(lambda l: [l[0], float(l[1][0])/l[1][1], l[1][1]])"
   ]
  },
  {
   "cell_type": "code",
   "execution_count": 37,
   "metadata": {},
   "outputs": [
    {
     "data": {
      "text/plain": [
       "[['filamentB', 630.125, 8], ['filamentA', 585.5, 8]]"
      ]
     },
     "execution_count": 37,
     "metadata": {},
     "output_type": "execute_result"
    }
   ],
   "source": [
    "rddMean.collect()"
   ]
  },
  {
   "cell_type": "code",
   "execution_count": 38,
   "metadata": {},
   "outputs": [],
   "source": [
    "rddFilamentLife2 = rdd_bulbs.map(lambda l: (l[1], l[2]))"
   ]
  },
  {
   "cell_type": "code",
   "execution_count": 39,
   "metadata": {},
   "outputs": [
    {
     "data": {
      "text/plain": [
       "[('100W', 605), ('100W', 683), ('100W', 691), ('200W', 561)]"
      ]
     },
     "execution_count": 39,
     "metadata": {},
     "output_type": "execute_result"
    }
   ],
   "source": [
    "rddFilamentLife2.take(4)"
   ]
  },
  {
   "cell_type": "code",
   "execution_count": 40,
   "metadata": {},
   "outputs": [],
   "source": [
    "rddFilamentLife22 = rddFilamentLife2.map(lambda l: (l[0], [l[1], 1]))"
   ]
  },
  {
   "cell_type": "code",
   "execution_count": 41,
   "metadata": {},
   "outputs": [
    {
     "data": {
      "text/plain": [
       "[('100W', [605, 1]),\n",
       " ('100W', [683, 1]),\n",
       " ('100W', [691, 1]),\n",
       " ('200W', [561, 1])]"
      ]
     },
     "execution_count": 41,
     "metadata": {},
     "output_type": "execute_result"
    }
   ],
   "source": [
    "rddFilamentLife22.take(4)"
   ]
  },
  {
   "cell_type": "code",
   "execution_count": 42,
   "metadata": {},
   "outputs": [],
   "source": [
    "rddSumPowerLife = rddFilamentLife22.reduceByKey(lambda l1, l2: [l1[0] + l2[0], l1[1] + l2[1]])"
   ]
  },
  {
   "cell_type": "code",
   "execution_count": 43,
   "metadata": {},
   "outputs": [
    {
     "data": {
      "text/plain": [
       "[('100W', [5270, 8]), ('200W', [4455, 8])]"
      ]
     },
     "execution_count": 43,
     "metadata": {},
     "output_type": "execute_result"
    }
   ],
   "source": [
    "rddSumPowerLife.collect()"
   ]
  },
  {
   "cell_type": "code",
   "execution_count": 47,
   "metadata": {},
   "outputs": [],
   "source": [
    "rddMeanPowerLife = rddSumPowerLife.map(lambda l: [l[0], [float(l[1][0])/l[1][1], l[1][1]]])"
   ]
  },
  {
   "cell_type": "code",
   "execution_count": 48,
   "metadata": {},
   "outputs": [
    {
     "data": {
      "text/plain": [
       "[['100W', [658.75, 8]], ['200W', [556.875, 8]]]"
      ]
     },
     "execution_count": 48,
     "metadata": {},
     "output_type": "execute_result"
    }
   ],
   "source": [
    "rddMeanPowerLife.collect()"
   ]
  },
  {
   "cell_type": "code",
   "execution_count": 49,
   "metadata": {},
   "outputs": [
    {
     "data": {
      "text/plain": [
       "[['filamentA', '100W', 605],\n",
       " ['filamentB', '100W', 683],\n",
       " ['filamentB', '100W', 691],\n",
       " ['filamentB', '200W', 561]]"
      ]
     },
     "execution_count": 49,
     "metadata": {},
     "output_type": "execute_result"
    }
   ],
   "source": [
    "rdd_bulbs.take(4)"
   ]
  },
  {
   "cell_type": "code",
   "execution_count": 50,
   "metadata": {},
   "outputs": [],
   "source": [
    "rddFP = rdd_bulbs.map(lambda l: [(l[0], l[1]), l[2]])"
   ]
  },
  {
   "cell_type": "code",
   "execution_count": 51,
   "metadata": {},
   "outputs": [
    {
     "data": {
      "text/plain": [
       "[[('filamentA', '100W'), 605],\n",
       " [('filamentB', '100W'), 683],\n",
       " [('filamentB', '100W'), 691],\n",
       " [('filamentB', '200W'), 561],\n",
       " [('filamentA', '200W'), 530],\n",
       " [('filamentA', '100W'), 619],\n",
       " [('filamentB', '100W'), 686],\n",
       " [('filamentB', '200W'), 600],\n",
       " [('filamentB', '100W'), 696],\n",
       " [('filamentA', '200W'), 579],\n",
       " [('filamentA', '200W'), 520],\n",
       " [('filamentA', '100W'), 622],\n",
       " [('filamentA', '100W'), 668],\n",
       " [('filamentB', '200W'), 569],\n",
       " [('filamentB', '200W'), 555],\n",
       " [('filamentA', '200W'), 541]]"
      ]
     },
     "execution_count": 51,
     "metadata": {},
     "output_type": "execute_result"
    }
   ],
   "source": [
    "rddFP.collect()"
   ]
  },
  {
   "cell_type": "code",
   "execution_count": 52,
   "metadata": {},
   "outputs": [],
   "source": [
    "rddFP1 = rddFP.map(lambda l: [l[0], [l[1], 1]])"
   ]
  },
  {
   "cell_type": "code",
   "execution_count": 53,
   "metadata": {},
   "outputs": [
    {
     "data": {
      "text/plain": [
       "[[('filamentA', '100W'), [605, 1]],\n",
       " [('filamentB', '100W'), [683, 1]],\n",
       " [('filamentB', '100W'), [691, 1]],\n",
       " [('filamentB', '200W'), [561, 1]]]"
      ]
     },
     "execution_count": 53,
     "metadata": {},
     "output_type": "execute_result"
    }
   ],
   "source": [
    "rddFP1.take(4)"
   ]
  },
  {
   "cell_type": "code",
   "execution_count": 54,
   "metadata": {},
   "outputs": [],
   "source": [
    "rddSumFP = rddFP1.reduceByKey(lambda l1, l2: [l1[0] + l2[0], l1[1] + l2[1]])"
   ]
  },
  {
   "cell_type": "code",
   "execution_count": 55,
   "metadata": {},
   "outputs": [
    {
     "data": {
      "text/plain": [
       "[(('filamentB', '100W'), [2756, 4]),\n",
       " (('filamentA', '200W'), [2170, 4]),\n",
       " (('filamentA', '100W'), [2514, 4]),\n",
       " (('filamentB', '200W'), [2285, 4])]"
      ]
     },
     "execution_count": 55,
     "metadata": {},
     "output_type": "execute_result"
    }
   ],
   "source": [
    "rddSumFP.collect()"
   ]
  },
  {
   "cell_type": "code",
   "execution_count": 56,
   "metadata": {},
   "outputs": [],
   "source": [
    "rddMeanFP = rddSumFP.map(lambda l: [l[0], [float(l[1][0])/l[1][1], l[1][1]]])"
   ]
  },
  {
   "cell_type": "code",
   "execution_count": 57,
   "metadata": {},
   "outputs": [
    {
     "data": {
      "text/plain": [
       "[[('filamentB', '100W'), [689.0, 4]],\n",
       " [('filamentA', '200W'), [542.5, 4]],\n",
       " [('filamentA', '100W'), [628.5, 4]],\n",
       " [('filamentB', '200W'), [571.25, 4]]]"
      ]
     },
     "execution_count": 57,
     "metadata": {},
     "output_type": "execute_result"
    }
   ],
   "source": [
    "rddMeanFP.collect()"
   ]
  },
  {
   "cell_type": "code",
   "execution_count": 58,
   "metadata": {},
   "outputs": [],
   "source": [
    "students = [['si1','Robin','M'],\n",
    "['si2','Maria','F'],\n",
    "['si3','Julie','F'],\n",
    "['si4','Bob', 'M'],\n",
    "['si6','William','M']]"
   ]
  },
  {
   "cell_type": "code",
   "execution_count": 60,
   "metadata": {},
   "outputs": [],
   "source": [
    "subjects = [['si1','Python'],\n",
    "['si3','Java'],\n",
    "['si1','Java'],\n",
    "['si2','Python'],\n",
    "['si3','Ruby'],\n",
    "['si4','C++'],\n",
    "['si5','C'],\n",
    "['si4','Python'],\n",
    "['si2','Java']]"
   ]
  },
  {
   "cell_type": "code",
   "execution_count": 61,
   "metadata": {},
   "outputs": [],
   "source": [
    "rddStudents = sc.parallelize(students, 2)"
   ]
  },
  {
   "cell_type": "code",
   "execution_count": 62,
   "metadata": {},
   "outputs": [
    {
     "data": {
      "text/plain": [
       "[['si1', 'Robin', 'M'],\n",
       " ['si2', 'Maria', 'F'],\n",
       " ['si3', 'Julie', 'F'],\n",
       " ['si4', 'Bob', 'M']]"
      ]
     },
     "execution_count": 62,
     "metadata": {},
     "output_type": "execute_result"
    }
   ],
   "source": [
    "rddStudents.take(4)"
   ]
  },
  {
   "cell_type": "code",
   "execution_count": 63,
   "metadata": {},
   "outputs": [],
   "source": [
    "rddStudents1 = rddStudents.map(lambda s: (s[0], [s[1], s[2]]))"
   ]
  },
  {
   "cell_type": "code",
   "execution_count": 64,
   "metadata": {},
   "outputs": [
    {
     "data": {
      "text/plain": [
       "[('si1', ['Robin', 'M']),\n",
       " ('si2', ['Maria', 'F']),\n",
       " ('si3', ['Julie', 'F']),\n",
       " ('si4', ['Bob', 'M']),\n",
       " ('si6', ['William', 'M'])]"
      ]
     },
     "execution_count": 64,
     "metadata": {},
     "output_type": "execute_result"
    }
   ],
   "source": [
    "rddStudents1.take(5)"
   ]
  },
  {
   "cell_type": "code",
   "execution_count": 66,
   "metadata": {},
   "outputs": [],
   "source": [
    "rddSubjects = sc.parallelize(subjects, 2)"
   ]
  },
  {
   "cell_type": "code",
   "execution_count": 67,
   "metadata": {},
   "outputs": [
    {
     "data": {
      "text/plain": [
       "[['si1', 'Python'],\n",
       " ['si3', 'Java'],\n",
       " ['si1', 'Java'],\n",
       " ['si2', 'Python'],\n",
       " ['si3', 'Ruby'],\n",
       " ['si4', 'C++'],\n",
       " ['si5', 'C'],\n",
       " ['si4', 'Python'],\n",
       " ['si2', 'Java']]"
      ]
     },
     "execution_count": 67,
     "metadata": {},
     "output_type": "execute_result"
    }
   ],
   "source": [
    "rddSubjects.collect()"
   ]
  },
  {
   "cell_type": "code",
   "execution_count": 68,
   "metadata": {},
   "outputs": [],
   "source": [
    "rddStudentSubjects = rddStudents1.join(rddSubjects)"
   ]
  },
  {
   "cell_type": "code",
   "execution_count": 69,
   "metadata": {},
   "outputs": [
    {
     "data": {
      "text/plain": [
       "[('si4', (['Bob', 'M'], 'C++')),\n",
       " ('si4', (['Bob', 'M'], 'Python')),\n",
       " ('si3', (['Julie', 'F'], 'Java')),\n",
       " ('si3', (['Julie', 'F'], 'Ruby')),\n",
       " ('si1', (['Robin', 'M'], 'Python')),\n",
       " ('si1', (['Robin', 'M'], 'Java')),\n",
       " ('si2', (['Maria', 'F'], 'Python')),\n",
       " ('si2', (['Maria', 'F'], 'Java'))]"
      ]
     },
     "execution_count": 69,
     "metadata": {},
     "output_type": "execute_result"
    }
   ],
   "source": [
    "rddStudentSubjects.collect()"
   ]
  },
  {
   "cell_type": "code",
   "execution_count": 70,
   "metadata": {},
   "outputs": [],
   "source": [
    "rddL = rddStudents1.leftOuterJoin(rddSubjects)"
   ]
  },
  {
   "cell_type": "code",
   "execution_count": 71,
   "metadata": {},
   "outputs": [
    {
     "data": {
      "text/plain": [
       "[('si4', (['Bob', 'M'], 'C++')),\n",
       " ('si4', (['Bob', 'M'], 'Python')),\n",
       " ('si6', (['William', 'M'], None)),\n",
       " ('si3', (['Julie', 'F'], 'Java')),\n",
       " ('si3', (['Julie', 'F'], 'Ruby')),\n",
       " ('si1', (['Robin', 'M'], 'Python')),\n",
       " ('si1', (['Robin', 'M'], 'Java')),\n",
       " ('si2', (['Maria', 'F'], 'Python')),\n",
       " ('si2', (['Maria', 'F'], 'Java'))]"
      ]
     },
     "execution_count": 71,
     "metadata": {},
     "output_type": "execute_result"
    }
   ],
   "source": [
    "rddL.collect()"
   ]
  },
  {
   "cell_type": "code",
   "execution_count": 72,
   "metadata": {},
   "outputs": [],
   "source": [
    "rddR = rddStudents.rightOuterJoin(rddSubjects)"
   ]
  },
  {
   "cell_type": "code",
   "execution_count": 73,
   "metadata": {},
   "outputs": [
    {
     "data": {
      "text/plain": [
       "[('si4', ('Bob', 'C++')),\n",
       " ('si4', ('Bob', 'Python')),\n",
       " ('si3', ('Julie', 'Java')),\n",
       " ('si3', ('Julie', 'Ruby')),\n",
       " ('si5', (None, 'C')),\n",
       " ('si1', ('Robin', 'Python')),\n",
       " ('si1', ('Robin', 'Java')),\n",
       " ('si2', ('Maria', 'Python')),\n",
       " ('si2', ('Maria', 'Java'))]"
      ]
     },
     "execution_count": 73,
     "metadata": {},
     "output_type": "execute_result"
    }
   ],
   "source": [
    "rddR.collect()"
   ]
  },
  {
   "cell_type": "code",
   "execution_count": 74,
   "metadata": {},
   "outputs": [],
   "source": [
    "rddF = rddStudents1.fullOuterJoin(rddSubjects)"
   ]
  },
  {
   "cell_type": "code",
   "execution_count": 75,
   "metadata": {},
   "outputs": [
    {
     "data": {
      "text/plain": [
       "[('si4', (['Bob', 'M'], 'C++')),\n",
       " ('si4', (['Bob', 'M'], 'Python')),\n",
       " ('si6', (['William', 'M'], None)),\n",
       " ('si3', (['Julie', 'F'], 'Java')),\n",
       " ('si3', (['Julie', 'F'], 'Ruby')),\n",
       " ('si5', (None, 'C')),\n",
       " ('si1', (['Robin', 'M'], 'Python')),\n",
       " ('si1', (['Robin', 'M'], 'Java')),\n",
       " ('si2', (['Maria', 'F'], 'Python')),\n",
       " ('si2', (['Maria', 'F'], 'Java'))]"
      ]
     },
     "execution_count": 75,
     "metadata": {},
     "output_type": "execute_result"
    }
   ],
   "source": [
    "rddF.collect()"
   ]
  },
  {
   "cell_type": "code",
   "execution_count": 77,
   "metadata": {},
   "outputs": [],
   "source": [
    "links = [['a', ['b', 'c', 'd']],\n",
    "         ['c', ['b']],\n",
    "         ['b', ['c', 'd']],\n",
    "         ['d', ['a', 'c']]\n",
    "        ]"
   ]
  },
  {
   "cell_type": "code",
   "execution_count": 78,
   "metadata": {},
   "outputs": [
    {
     "data": {
      "text/plain": [
       "[['a', ['b', 'c', 'd']], ['c', ['b']], ['b', ['c', 'd']], ['d', ['a', 'c']]]"
      ]
     },
     "execution_count": 78,
     "metadata": {},
     "output_type": "execute_result"
    }
   ],
   "source": [
    "links"
   ]
  },
  {
   "cell_type": "code",
   "execution_count": 79,
   "metadata": {},
   "outputs": [],
   "source": [
    "ranks = [['a', 1],\n",
    "         ['b', 1],\n",
    "         ['c', 1],\n",
    "         ['d', 1]\n",
    "        ]"
   ]
  },
  {
   "cell_type": "code",
   "execution_count": 80,
   "metadata": {},
   "outputs": [],
   "source": [
    "def rankContribution(uris, rank):\n",
    "    numberOfUris = len(uris)\n",
    "    rankContribution = float(rank) / numberOfUris\n",
    "    newrank = []\n",
    "    for uri in uris:\n",
    "        newrank.append((uri, rankContribution))\n",
    "    return newrank"
   ]
  },
  {
   "cell_type": "code",
   "execution_count": 81,
   "metadata": {},
   "outputs": [],
   "source": [
    "rddLinks = sc.parallelize(links, 2)"
   ]
  },
  {
   "cell_type": "code",
   "execution_count": 82,
   "metadata": {},
   "outputs": [
    {
     "data": {
      "text/plain": [
       "[['a', ['b', 'c', 'd']], ['c', ['b']], ['b', ['c', 'd']], ['d', ['a', 'c']]]"
      ]
     },
     "execution_count": 82,
     "metadata": {},
     "output_type": "execute_result"
    }
   ],
   "source": [
    "rddLinks.collect()"
   ]
  },
  {
   "cell_type": "code",
   "execution_count": 83,
   "metadata": {},
   "outputs": [],
   "source": [
    "rddRanks = sc.parallelize(ranks, 2)"
   ]
  },
  {
   "cell_type": "code",
   "execution_count": 84,
   "metadata": {},
   "outputs": [
    {
     "data": {
      "text/plain": [
       "[['a', 1], ['b', 1], ['c', 1], ['d', 1]]"
      ]
     },
     "execution_count": 84,
     "metadata": {},
     "output_type": "execute_result"
    }
   ],
   "source": [
    "rddRanks.collect()"
   ]
  },
  {
   "cell_type": "code",
   "execution_count": 85,
   "metadata": {},
   "outputs": [],
   "source": [
    "numIter = 20\n",
    "s = 0.85"
   ]
  },
  {
   "cell_type": "code",
   "execution_count": 88,
   "metadata": {},
   "outputs": [
    {
     "name": "stdout",
     "output_type": "stream",
     "text": [
      "<<0\n",
      "[('b', (['c', 'd'], 1.357243795127982)), ('a', (['b', 'c', 'd'], 0.5217268024809147)), ('d', (['a', 'c'], 0.8746512999550939)), ('c', (['b'], 1.2463781024360086))]\n",
      "[('c', 0.678621897563991), ('d', 0.678621897563991), ('b', 0.17390893416030492), ('c', 0.17390893416030492), ('d', 0.17390893416030492), ('a', 0.43732564997754697), ('c', 0.43732564997754697), ('b', 1.2463781024360086)]\n",
      "[('b', 1.4202870365963134), ('a', 0.43732564997754697), ('d', 0.852530831724296), ('c', 1.289856481701843)]\n",
      "[('b', 1.3572439811068664), ('a', 0.521726802480915), ('d', 0.8746512069656516), ('c', 1.2463780094465666)]\n",
      "<<1\n",
      "[('c', (['b'], 1.2463780094465666)), ('a', (['b', 'c', 'd'], 0.521726802480915)), ('b', (['c', 'd'], 1.3572439811068664)), ('d', (['a', 'c'], 0.8746512069656516))]\n",
      "[('b', 1.2463780094465666), ('b', 0.17390893416030498), ('c', 0.17390893416030498), ('d', 0.17390893416030498), ('c', 0.6786219905534332), ('d', 0.6786219905534332), ('a', 0.4373256034828258), ('c', 0.4373256034828258)]\n",
      "[('c', 1.289856528196564), ('a', 0.4373256034828258), ('b', 1.4202869436068717), ('d', 0.8525309247137381)]\n",
      "[('c', 1.2463780489670793), ('a', 0.5217267629604019), ('b', 1.3572439020658411), ('d', 0.8746512860066774)]\n",
      "<<2\n",
      "[('b', (['c', 'd'], 1.3572439020658411)), ('c', (['b'], 1.2463780489670793)), ('d', (['a', 'c'], 0.8746512860066774)), ('a', (['b', 'c', 'd'], 0.5217267629604019))]\n",
      "[('c', 0.6786219510329206), ('d', 0.6786219510329206), ('b', 1.2463780489670793), ('a', 0.4373256430033387), ('c', 0.4373256430033387), ('b', 0.17390892098680064), ('c', 0.17390892098680064), ('d', 0.17390892098680064)]\n",
      "[('b', 1.4202869699538798), ('c', 1.2898565150230599), ('d', 0.8525308720197212), ('a', 0.4373256430033387)]\n",
      "[('b', 1.3572439244607977), ('c', 1.2463780377696008), ('d', 0.8746512412167631), ('a', 0.5217267965528379)]\n",
      "<<3\n",
      "[('c', (['b'], 1.2463780377696008)), ('b', (['c', 'd'], 1.3572439244607977)), ('d', (['a', 'c'], 0.8746512412167631)), ('a', (['b', 'c', 'd'], 0.5217267965528379))]\n",
      "[('b', 1.2463780377696008), ('c', 0.6786219622303988), ('d', 0.6786219622303988), ('a', 0.43732562060838154), ('c', 0.43732562060838154), ('b', 0.1739089321842793), ('c', 0.1739089321842793), ('d', 0.1739089321842793)]\n",
      "[('c', 1.2898565150230596), ('b', 1.42028696995388), ('d', 0.8525308944146781), ('a', 0.43732562060838154)]\n",
      "[('c', 1.2463780377696008), ('b', 1.3572439244607981), ('d', 0.8746512602524764), ('a', 0.5217267775171244)]\n",
      "<<4\n",
      "[('b', (['c', 'd'], 1.3572439244607981)), ('a', (['b', 'c', 'd'], 0.5217267775171244)), ('c', (['b'], 1.2463780377696008)), ('d', (['a', 'c'], 0.8746512602524764))]\n",
      "[('c', 0.6786219622303991), ('d', 0.6786219622303991), ('b', 0.17390892583904147), ('c', 0.17390892583904147), ('d', 0.17390892583904147), ('b', 1.2463780377696008), ('a', 0.4373256301262382), ('c', 0.4373256301262382)]\n",
      "[('b', 1.4202869636086422), ('a', 0.4373256301262382), ('c', 1.2898565181956787), ('d', 0.8525308880694406)]\n",
      "[('b', 1.3572439190673458), ('a', 0.5217267856073025), ('c', 1.2463780404663267), ('d', 0.8746512548590245)]\n",
      "<<5\n",
      "[('b', (['c', 'd'], 1.3572439190673458)), ('c', (['b'], 1.2463780404663267)), ('a', (['b', 'c', 'd'], 0.5217267856073025)), ('d', (['a', 'c'], 0.8746512548590245))]\n",
      "[('c', 0.6786219595336729), ('d', 0.6786219595336729), ('b', 1.2463780404663267), ('b', 0.17390892853576748), ('c', 0.17390892853576748), ('d', 0.17390892853576748), ('a', 0.43732562742951225), ('c', 0.43732562742951225)]\n",
      "[('b', 1.4202869690020943), ('c', 1.2898565154989525), ('a', 0.43732562742951225), ('d', 0.8525308880694403)]\n",
      "[('b', 1.35724392365178), ('c', 1.2463780381741096), ('a', 0.5217267833150854), ('d', 0.8746512548590243)]\n",
      "<<6\n",
      "[('c', (['b'], 1.2463780381741096)), ('d', (['a', 'c'], 0.8746512548590243)), ('a', (['b', 'c', 'd'], 0.5217267833150854)), ('b', (['c', 'd'], 1.35724392365178))]\n",
      "[('b', 1.2463780381741096), ('a', 0.43732562742951214), ('c', 0.43732562742951214), ('b', 0.17390892777169512), ('c', 0.17390892777169512), ('d', 0.17390892777169512), ('c', 0.67862196182589), ('d', 0.67862196182589)]\n",
      "[('c', 1.2898565170270972), ('d', 0.852530889597585), ('a', 0.43732562742951214), ('b', 1.4202869659458048)]\n",
      "[('c', 1.2463780394730328), ('d', 0.8746512561579473), ('a', 0.5217267833150854), ('b', 1.357243921053934)]\n",
      "<<7\n",
      "[('c', (['b'], 1.2463780394730328)), ('a', (['b', 'c', 'd'], 0.5217267833150854)), ('b', (['c', 'd'], 1.357243921053934)), ('d', (['a', 'c'], 0.8746512561579473))]\n",
      "[('b', 1.2463780394730328), ('b', 0.17390892777169512), ('c', 0.17390892777169512), ('d', 0.17390892777169512), ('c', 0.678621960526967), ('d', 0.678621960526967), ('a', 0.4373256280789736), ('c', 0.4373256280789736)]\n",
      "[('c', 1.2898565163776357), ('a', 0.4373256280789736), ('b', 1.420286967244728), ('d', 0.8525308882986621)]\n",
      "[('c', 1.2463780389209904), ('a', 0.5217267838671276), ('b', 1.3572439221580188), ('d', 0.8746512550538628)]\n",
      "<<8\n",
      "[('b', (['c', 'd'], 1.3572439221580188)), ('d', (['a', 'c'], 0.8746512550538628)), ('a', (['b', 'c', 'd'], 0.5217267838671276)), ('c', (['b'], 1.2463780389209904))]\n",
      "[('c', 0.6786219610790094), ('d', 0.6786219610790094), ('a', 0.4373256275269314), ('c', 0.4373256275269314), ('b', 0.1739089279557092), ('c', 0.1739089279557092), ('d', 0.1739089279557092), ('b', 1.2463780389209904)]\n",
      "[('b', 1.4202869668766995), ('d', 0.8525308890347186), ('a', 0.4373256275269314), ('c', 1.2898565165616498)]\n",
      "[('b', 1.3572439218451944), ('d', 0.8746512556795109), ('a', 0.5217267833978917), ('c', 1.2463780390774022)]\n",
      "<<9\n",
      "[('c', (['b'], 1.2463780390774022)), ('d', (['a', 'c'], 0.8746512556795109)), ('a', (['b', 'c', 'd'], 0.5217267833978917)), ('b', (['c', 'd'], 1.3572439218451944))]\n",
      "[('b', 1.2463780390774022), ('a', 0.4373256278397554), ('c', 0.4373256278397554), ('b', 0.17390892779929723), ('c', 0.17390892779929723), ('d', 0.17390892779929723), ('c', 0.6786219609225972), ('d', 0.6786219609225972)]\n",
      "[('c', 1.2898565165616498), ('d', 0.8525308887218944), ('a', 0.4373256278397554), ('b', 1.4202869668766995)]\n",
      "[('c', 1.2463780390774022), ('d', 0.8746512554136102), ('a', 0.5217267836637921), ('b', 1.3572439218451944)]\n",
      "<<10\n",
      "[('a', (['b', 'c', 'd'], 0.5217267836637921)), ('d', (['a', 'c'], 0.8746512554136102)), ('c', (['b'], 1.2463780390774022)), ('b', (['c', 'd'], 1.3572439218451944))]\n",
      "[('b', 0.1739089278879307), ('c', 0.1739089278879307), ('d', 0.1739089278879307), ('a', 0.4373256277068051), ('c', 0.4373256277068051), ('b', 1.2463780390774022), ('c', 0.6786219609225972), ('d', 0.6786219609225972)]\n",
      "[('a', 0.4373256277068051), ('d', 0.8525308888105279), ('c', 1.289856516517333), ('b', 1.4202869669653329)]\n",
      "[('a', 0.5217267835507844), ('d', 0.8746512554889487), ('c', 1.2463780390397332), ('b', 1.3572439219205328)]\n",
      "<<11\n",
      "[('b', (['c', 'd'], 1.3572439219205328)), ('a', (['b', 'c', 'd'], 0.5217267835507844)), ('d', (['a', 'c'], 0.8746512554889487)), ('c', (['b'], 1.2463780390397332))]\n",
      "[('c', 0.6786219609602664), ('d', 0.6786219609602664), ('b', 0.17390892785026146), ('c', 0.17390892785026146), ('d', 0.17390892785026146), ('a', 0.43732562774447437), ('c', 0.43732562774447437), ('b', 1.2463780390397332)]\n",
      "[('b', 1.4202869668899947), ('a', 0.43732562774447437), ('d', 0.8525308888105279), ('c', 1.2898565165550022)]\n",
      "[('b', 1.3572439218564956), ('a', 0.5217267835828032), ('d', 0.8746512554889487), ('c', 1.246378039071752)]\n",
      "<<12\n",
      "[('c', (['b'], 1.246378039071752)), ('d', (['a', 'c'], 0.8746512554889487)), ('b', (['c', 'd'], 1.3572439218564956)), ('a', (['b', 'c', 'd'], 0.5217267835828032))]\n",
      "[('b', 1.246378039071752), ('a', 0.43732562774447437), ('c', 0.43732562774447437), ('c', 0.6786219609282478), ('d', 0.6786219609282478), ('b', 0.1739089278609344), ('c', 0.1739089278609344), ('d', 0.1739089278609344)]\n",
      "[('c', 1.2898565165336566), ('d', 0.8525308887891822), ('b', 1.4202869669326865), ('a', 0.43732562774447437)]\n",
      "[('c', 1.2463780390536083), ('d', 0.8746512554708048), ('b', 1.3572439218927834), ('a', 0.5217267835828032)]\n",
      "<<13\n",
      "[('d', (['a', 'c'], 0.8746512554708048)), ('a', (['b', 'c', 'd'], 0.5217267835828032)), ('c', (['b'], 1.2463780390536083)), ('b', (['c', 'd'], 1.3572439218927834))]\n",
      "[('a', 0.4373256277354024), ('c', 0.4373256277354024), ('b', 0.1739089278609344), ('c', 0.1739089278609344), ('d', 0.1739089278609344), ('b', 1.2463780390536083), ('c', 0.6786219609463917), ('d', 0.6786219609463917)]\n"
     ]
    },
    {
     "name": "stdout",
     "output_type": "stream",
     "text": [
      "[('d', 0.8525308888073261), ('a', 0.4373256277354024), ('c', 1.2898565165427285), ('b', 1.4202869669145428)]\n",
      "[('d', 0.8746512554862271), ('a', 0.5217267835750921), ('c', 1.246378039061319), ('b', 1.3572439218773615)]\n",
      "<<14\n",
      "[('c', (['b'], 1.246378039061319)), ('d', (['a', 'c'], 0.8746512554862271)), ('a', (['b', 'c', 'd'], 0.5217267835750921)), ('b', (['c', 'd'], 1.3572439218773615))]\n",
      "[('b', 1.246378039061319), ('a', 0.43732562774311357), ('c', 0.43732562774311357), ('b', 0.173908927858364), ('c', 0.173908927858364), ('d', 0.173908927858364), ('c', 0.6786219609386808), ('d', 0.6786219609386808)]\n",
      "[('c', 1.2898565165401583), ('d', 0.8525308887970448), ('a', 0.43732562774311357), ('b', 1.4202869669196831)]\n",
      "[('c', 1.2463780390591346), ('d', 0.874651255477488), ('a', 0.5217267835816466), ('b', 1.3572439218817305)]\n",
      "<<15\n",
      "[('a', (['b', 'c', 'd'], 0.5217267835816466)), ('b', (['c', 'd'], 1.3572439218817305)), ('c', (['b'], 1.2463780390591346)), ('d', (['a', 'c'], 0.874651255477488))]\n",
      "[('b', 0.17390892786054887), ('c', 0.17390892786054887), ('d', 0.17390892786054887), ('c', 0.6786219609408652), ('d', 0.6786219609408652), ('b', 1.2463780390591346), ('a', 0.437325627738744), ('c', 0.437325627738744)]\n",
      "[('a', 0.437325627738744), ('b', 1.4202869669196834), ('c', 1.289856516540158), ('d', 0.8525308888014141)]\n",
      "[('a', 0.5217267835779325), ('b', 1.357243921881731), ('c', 1.2463780390591346), ('d', 0.874651255481202)]\n",
      "<<16\n",
      "[('b', (['c', 'd'], 1.357243921881731)), ('d', (['a', 'c'], 0.874651255481202)), ('c', (['b'], 1.2463780390591346)), ('a', (['b', 'c', 'd'], 0.5217267835779325))]\n",
      "[('c', 0.6786219609408655), ('d', 0.6786219609408655), ('a', 0.437325627740601), ('c', 0.437325627740601), ('b', 1.2463780390591346), ('b', 0.1739089278593108), ('c', 0.1739089278593108), ('d', 0.1739089278593108)]\n",
      "[('b', 1.4202869669184455), ('d', 0.8525308888001762), ('c', 1.2898565165407774), ('a', 0.437325627740601)]\n",
      "[('b', 1.3572439218806784), ('d', 0.8746512554801498), ('c', 1.2463780390596608), ('a', 0.5217267835795109)]\n",
      "<<17\n",
      "[('a', (['b', 'c', 'd'], 0.5217267835795109)), ('d', (['a', 'c'], 0.8746512554801498)), ('b', (['c', 'd'], 1.3572439218806784)), ('c', (['b'], 1.2463780390596608))]\n",
      "[('b', 0.17390892785983694), ('c', 0.17390892785983694), ('d', 0.17390892785983694), ('a', 0.4373256277400749), ('c', 0.4373256277400749), ('c', 0.6786219609403392), ('d', 0.6786219609403392), ('b', 1.2463780390596608)]\n",
      "[('a', 0.4373256277400749), ('d', 0.8525308888001761), ('b', 1.4202869669194977), ('c', 1.289856516540251)]\n",
      "[('a', 0.5217267835790637), ('d', 0.8746512554801498), ('b', 1.3572439218815733), ('c', 1.2463780390592132)]\n",
      "<<18\n",
      "[('b', (['c', 'd'], 1.3572439218815733)), ('a', (['b', 'c', 'd'], 0.5217267835790637)), ('c', (['b'], 1.2463780390592132)), ('d', (['a', 'c'], 0.8746512554801498))]\n",
      "[('c', 0.6786219609407866), ('d', 0.6786219609407866), ('b', 0.1739089278596879), ('c', 0.1739089278596879), ('d', 0.1739089278596879), ('b', 1.2463780390592132), ('a', 0.4373256277400749), ('c', 0.4373256277400749)]\n",
      "[('b', 1.420286966918901), ('a', 0.4373256277400749), ('c', 1.2898565165405493), ('d', 0.8525308888004746)]\n",
      "[('b', 1.3572439218810661), ('a', 0.5217267835790637), ('c', 1.2463780390594668), ('d', 0.8746512554804033)]\n",
      "<<19\n",
      "[('d', (['a', 'c'], 0.8746512554804033)), ('b', (['c', 'd'], 1.3572439218810661)), ('c', (['b'], 1.2463780390594668)), ('a', (['b', 'c', 'd'], 0.5217267835790637))]\n",
      "[('a', 0.4373256277402017), ('c', 0.4373256277402017), ('c', 0.6786219609405331), ('d', 0.6786219609405331), ('b', 1.2463780390594668), ('b', 0.1739089278596879), ('c', 0.1739089278596879), ('d', 0.1739089278596879)]\n",
      "[('d', 0.852530888800221), ('b', 1.4202869669191547), ('c', 1.2898565165404225), ('a', 0.4373256277402017)]\n",
      "[('d', 0.8746512554801879), ('b', 1.3572439218812815), ('c', 1.2463780390593593), ('a', 0.5217267835791715)]\n"
     ]
    }
   ],
   "source": [
    "for i in range(numIter):\n",
    "    print('<<' + str(i))\n",
    "    linksRank = rddLinks.join(rddRanks)\n",
    "    print(linksRank.collect())\n",
    "    rddContributed = linksRank.flatMap(lambda x: rankContribution(x[1][0], x[1][1]))\n",
    "    print(rddContributed.collect())\n",
    "    sumRanks = rddContributed.reduceByKey(lambda v1, v2: v1 + v2)\n",
    "    print(sumRanks.collect())\n",
    "    rddRanks = sumRanks.map(lambda x: (x[0], 1-s+s*x[1]))\n",
    "    print(rddRanks.collect())"
   ]
  },
  {
   "cell_type": "code",
   "execution_count": null,
   "metadata": {},
   "outputs": [],
   "source": []
  }
 ],
 "metadata": {
  "kernelspec": {
   "display_name": "Python 3",
   "language": "python",
   "name": "python3"
  },
  "language_info": {
   "codemirror_mode": {
    "name": "ipython",
    "version": 3
   },
   "file_extension": ".py",
   "mimetype": "text/x-python",
   "name": "python",
   "nbconvert_exporter": "python",
   "pygments_lexer": "ipython3",
   "version": "3.6.7"
  }
 },
 "nbformat": 4,
 "nbformat_minor": 2
}
