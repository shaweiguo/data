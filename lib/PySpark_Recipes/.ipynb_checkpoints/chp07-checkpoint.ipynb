{
 "cells": [
  {
   "cell_type": "code",
   "execution_count": 28,
   "metadata": {},
   "outputs": [],
   "source": [
    "# Recipe 7-1. Optimize the Page-Rank Algorithm by Using PySpark Code\n",
    "pageLinks = [['a' ,['b','c','d']],\n",
    "['b', ['d','c']],\n",
    "['c', ['b']],\n",
    "['d', ['a','c']]]\n",
    "pageRanks = [['a',1],\n",
    "['b',1],\n",
    "['c',1],\n",
    "['d',1]]\n",
    "numIter = 20"
   ]
  },
  {
   "cell_type": "code",
   "execution_count": 29,
   "metadata": {},
   "outputs": [],
   "source": [
    "pageRanksRDD = sc.parallelize(pageRanks, 2).partitionBy(2,hash).persist()\n",
    "pageLinksRDD = sc.parallelize(pageLinks, 2).partitionBy(2,hash).persist()"
   ]
  },
  {
   "cell_type": "code",
   "execution_count": 30,
   "metadata": {},
   "outputs": [],
   "source": [
    "s = 0.85"
   ]
  },
  {
   "cell_type": "code",
   "execution_count": 31,
   "metadata": {},
   "outputs": [],
   "source": [
    "def rankContribution(uris, rank):\n",
    "    numberOfUris = len(uris)\n",
    "    rankContribution = float(rank) / numberOfUris\n",
    "    newRank = []\n",
    "    for uri in uris:\n",
    "        newRank.append((uri, rankContribution))\n",
    "    return newRank"
   ]
  },
  {
   "cell_type": "code",
   "execution_count": 32,
   "metadata": {},
   "outputs": [
    {
     "data": {
      "text/plain": [
       "[('b', (['d', 'c'], 1)),\n",
       " ('c', (['b'], 1)),\n",
       " ('d', (['a', 'c'], 1)),\n",
       " ('a', (['b', 'c', 'd'], 1))]"
      ]
     },
     "execution_count": 32,
     "metadata": {},
     "output_type": "execute_result"
    }
   ],
   "source": [
    "linksRank = pageLinksRDD.join(pageRanksRDD)\n",
    "linksRank.collect()"
   ]
  },
  {
   "cell_type": "code",
   "execution_count": 33,
   "metadata": {},
   "outputs": [
    {
     "data": {
      "text/plain": [
       "[('d', 0.5),\n",
       " ('c', 0.5),\n",
       " ('b', 1.0),\n",
       " ('a', 0.5),\n",
       " ('c', 0.5),\n",
       " ('b', 0.3333333333333333),\n",
       " ('c', 0.3333333333333333),\n",
       " ('d', 0.3333333333333333)]"
      ]
     },
     "execution_count": 33,
     "metadata": {},
     "output_type": "execute_result"
    }
   ],
   "source": [
    "contributedRDD = linksRank.flatMap(lambda x: rankContribution(x[1][0], x[1][1]))\n",
    "contributedRDD.collect()"
   ]
  },
  {
   "cell_type": "code",
   "execution_count": 34,
   "metadata": {},
   "outputs": [
    {
     "data": {
      "text/plain": [
       "[('d', 0.8333333333333333),\n",
       " ('c', 1.3333333333333333),\n",
       " ('b', 1.3333333333333333),\n",
       " ('a', 0.5)]"
      ]
     },
     "execution_count": 34,
     "metadata": {},
     "output_type": "execute_result"
    }
   ],
   "source": [
    "sumRanks = contributedRDD.reduceByKey(lambda v1, v2: v1+v2)\n",
    "sumRanks.collect()"
   ]
  },
  {
   "cell_type": "code",
   "execution_count": 35,
   "metadata": {},
   "outputs": [
    {
     "data": {
      "text/plain": [
       "[('d', 0.8583333333333333),\n",
       " ('c', 1.2833333333333332),\n",
       " ('b', 1.2833333333333332),\n",
       " ('a', 0.575)]"
      ]
     },
     "execution_count": 35,
     "metadata": {},
     "output_type": "execute_result"
    }
   ],
   "source": [
    "pageRanksRDD = sumRanks.map(lambda x: (x[0], 1-s+s*x[1]))\n",
    "pageRanksRDD.collect()"
   ]
  },
  {
   "cell_type": "code",
   "execution_count": 36,
   "metadata": {},
   "outputs": [],
   "source": [
    "for i in range(numIter):\n",
    "    linksRank = pageLinksRDD.join(pageRanksRDD)\n",
    "    contributedRDD = linksRank.flatMap(lambda x: rankContribution(x[1][0], x[1][1]))\n",
    "    sumRanks = contributedRDD.reduceByKey(lambda v1, v2: v1+v2)\n",
    "    pageRanksRDD = sumRanks.map(lambda x: (x[0], 1-s+s*x[1]))"
   ]
  },
  {
   "cell_type": "code",
   "execution_count": 37,
   "metadata": {},
   "outputs": [
    {
     "data": {
      "text/plain": [
       "[('a', 0.521726802480915),\n",
       " ('b', 1.3572439811068668),\n",
       " ('c', 1.246378009446567),\n",
       " ('d', 0.874651206965652)]"
      ]
     },
     "execution_count": 37,
     "metadata": {},
     "output_type": "execute_result"
    }
   ],
   "source": [
    "pageRanksRDD.collect()"
   ]
  },
  {
   "cell_type": "code",
   "execution_count": 38,
   "metadata": {},
   "outputs": [],
   "source": [
    "# Recipe 7-2. Implement the k-Nearest Neighbors Algorithm by Using PySpark"
   ]
  },
  {
   "cell_type": "code",
   "execution_count": 42,
   "metadata": {},
   "outputs": [],
   "source": [
    "def distanceBetweenTuples(data1, data2):\n",
    "    squaredSum = 0.0\n",
    "    for i in range(len(data1)):\n",
    "        squaredSum = squaredSum + (data1[i] - data2[i])**2\n",
    "    return squaredSum**0.5"
   ]
  },
  {
   "cell_type": "code",
   "execution_count": 43,
   "metadata": {},
   "outputs": [],
   "source": [
    "t1 = (1.2, 3.4, 3.2)\n",
    "t2 = (2.4, 2.2, 4.2)"
   ]
  },
  {
   "cell_type": "code",
   "execution_count": 44,
   "metadata": {},
   "outputs": [
    {
     "data": {
      "text/plain": [
       "1.9697715603592207"
      ]
     },
     "execution_count": 44,
     "metadata": {},
     "output_type": "execute_result"
    }
   ],
   "source": [
    "distanceBetweenTuples(t1, t2)"
   ]
  },
  {
   "cell_type": "code",
   "execution_count": null,
   "metadata": {},
   "outputs": [],
   "source": []
  }
 ],
 "metadata": {
  "kernelspec": {
   "display_name": "Python 3",
   "language": "python",
   "name": "python3"
  },
  "language_info": {
   "codemirror_mode": {
    "name": "ipython",
    "version": 3
   },
   "file_extension": ".py",
   "mimetype": "text/x-python",
   "name": "python",
   "nbconvert_exporter": "python",
   "pygments_lexer": "ipython3",
   "version": "3.6.7"
  }
 },
 "nbformat": 4,
 "nbformat_minor": 2
}
