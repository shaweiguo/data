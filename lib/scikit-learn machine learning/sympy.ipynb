{
 "cells": [
  {
   "cell_type": "code",
   "execution_count": 1,
   "metadata": {},
   "outputs": [],
   "source": [
    "from sympy import *\n",
    "x = Symbol('x')\n",
    "y = Symbol('y')"
   ]
  },
  {
   "cell_type": "code",
   "execution_count": 5,
   "metadata": {},
   "outputs": [
    {
     "data": {
      "text/plain": [
       "-2*sin(2*x - 3*y) - 3*cos(3*x - 2*y)"
      ]
     },
     "execution_count": 5,
     "metadata": {},
     "output_type": "execute_result"
    }
   ],
   "source": [
    "diff(cos(2*x-3*y)-sin(3*x-2*y), x)"
   ]
  },
  {
   "cell_type": "code",
   "execution_count": 6,
   "metadata": {},
   "outputs": [
    {
     "data": {
      "text/plain": [
       "3*sin(2*x - 3*y) + 2*cos(3*x - 2*y)"
      ]
     },
     "execution_count": 6,
     "metadata": {},
     "output_type": "execute_result"
    }
   ],
   "source": [
    "diff(cos(2*x-3*y)-sin(3*x-2*y), y)"
   ]
  },
  {
   "cell_type": "code",
   "execution_count": 7,
   "metadata": {},
   "outputs": [
    {
     "data": {
      "text/plain": [
       "9*sin(3*x - 2*y) - 4*cos(2*x - 3*y)"
      ]
     },
     "execution_count": 7,
     "metadata": {},
     "output_type": "execute_result"
    }
   ],
   "source": [
    "# fxx\n",
    "diff(-2*sin(2*x - 3*y) - 3*cos(3*x - 2*y), x)"
   ]
  },
  {
   "cell_type": "code",
   "execution_count": 8,
   "metadata": {},
   "outputs": [
    {
     "data": {
      "text/plain": [
       "-6*sin(3*x - 2*y) + 6*cos(2*x - 3*y)"
      ]
     },
     "execution_count": 8,
     "metadata": {},
     "output_type": "execute_result"
    }
   ],
   "source": [
    "# fxy\n",
    "diff(-2*sin(2*x - 3*y) - 3*cos(3*x - 2*y), y)"
   ]
  },
  {
   "cell_type": "code",
   "execution_count": 9,
   "metadata": {},
   "outputs": [
    {
     "data": {
      "text/plain": [
       "-6*sin(3*x - 2*y) + 6*cos(2*x - 3*y)"
      ]
     },
     "execution_count": 9,
     "metadata": {},
     "output_type": "execute_result"
    }
   ],
   "source": [
    "# fyx\n",
    "diff(3*sin(2*x - 3*y) + 2*cos(3*x - 2*y), x)"
   ]
  },
  {
   "cell_type": "code",
   "execution_count": 10,
   "metadata": {},
   "outputs": [
    {
     "data": {
      "text/plain": [
       "4*sin(3*x - 2*y) - 9*cos(2*x - 3*y)"
      ]
     },
     "execution_count": 10,
     "metadata": {},
     "output_type": "execute_result"
    }
   ],
   "source": [
    "# fyy\n",
    "diff(3*sin(2*x - 3*y) + 2*cos(3*x - 2*y), y)"
   ]
  },
  {
   "cell_type": "code",
   "execution_count": 12,
   "metadata": {},
   "outputs": [
    {
     "data": {
      "text/plain": [
       "13*sin(3*x - 2*y) - 13*cos(2*x - 3*y)"
      ]
     },
     "execution_count": 12,
     "metadata": {},
     "output_type": "execute_result"
    }
   ],
   "source": [
    "(9*sin(3*x - 2*y) - 4*cos(2*x - 3*y)) + (4*sin(3*x - 2*y) - 9*cos(2*x - 3*y))"
   ]
  },
  {
   "cell_type": "code",
   "execution_count": 13,
   "metadata": {},
   "outputs": [],
   "source": [
    "eq = Eq((9*sin(3*x - 2*y) - 4*cos(2*x - 3*y)) + (4*sin(3*x - 2*y) - 9*cos(2*x - 3*y)), 0)"
   ]
  },
  {
   "cell_type": "code",
   "execution_count": 14,
   "metadata": {},
   "outputs": [
    {
     "data": {
      "text/plain": [
       "[(I*(-log((-exp(2*I*y))**(1/3)*(-1 + sqrt(3)*I)) + log(2)), y),\n",
       " (-I*log(-sqrt(-exp(3*I*y))), y),\n",
       " (-I*log(I*exp(-I*y)), y),\n",
       " (-I*log(I*exp(5*I*y))/5, y),\n",
       " (-I*log(-(-exp(2*I*y))**(1/3)*(1 + sqrt(3)*I)/2), y),\n",
       " (-I*log((I*exp(5*I*y))**(1/5)*(-1 + sqrt(5) + sqrt(2)*I*sqrt(sqrt(5) + 5))/4),\n",
       "  y),\n",
       " (-I*log(-(I*exp(5*I*y))**(1/5)*(1 + sqrt(5) - sqrt(2)*I*sqrt(-sqrt(5) + 5))/4),\n",
       "  y),\n",
       " (-I*log(-(I*exp(5*I*y))**(1/5)*(1 + sqrt(5) + sqrt(2)*I*sqrt(-sqrt(5) + 5))/4),\n",
       "  y),\n",
       " (-I*log(-(I*exp(5*I*y))**(1/5)*(-sqrt(5) + 1 + sqrt(2)*I*sqrt(sqrt(5) + 5))/4),\n",
       "  y),\n",
       " (-I*log(-exp(2*I*y))/3, y),\n",
       " (-I*log(-exp(3*I*y))/2, y)]"
      ]
     },
     "execution_count": 14,
     "metadata": {},
     "output_type": "execute_result"
    }
   ],
   "source": [
    "solve(eq, x, y)"
   ]
  },
  {
   "cell_type": "code",
   "execution_count": 15,
   "metadata": {},
   "outputs": [],
   "source": [
    "eq = Eq(sin(3*x - 2*y) - cos(2*x - 3*y), 0)"
   ]
  },
  {
   "cell_type": "code",
   "execution_count": 16,
   "metadata": {},
   "outputs": [
    {
     "data": {
      "text/plain": [
       "[(I*(-log((-exp(2*I*y))**(1/3)*(-1 + sqrt(3)*I)) + log(2)), y),\n",
       " (-I*log(-sqrt(-exp(3*I*y))), y),\n",
       " (-I*log(I*exp(-I*y)), y),\n",
       " (-I*log(I*exp(5*I*y))/5, y),\n",
       " (-I*log(-(-exp(2*I*y))**(1/3)*(1 + sqrt(3)*I)/2), y),\n",
       " (-I*log((I*exp(5*I*y))**(1/5)*(-1 + sqrt(5) + sqrt(2)*I*sqrt(sqrt(5) + 5))/4),\n",
       "  y),\n",
       " (-I*log(-(I*exp(5*I*y))**(1/5)*(1 + sqrt(5) - sqrt(2)*I*sqrt(-sqrt(5) + 5))/4),\n",
       "  y),\n",
       " (-I*log(-(I*exp(5*I*y))**(1/5)*(1 + sqrt(5) + sqrt(2)*I*sqrt(-sqrt(5) + 5))/4),\n",
       "  y),\n",
       " (-I*log(-(I*exp(5*I*y))**(1/5)*(-sqrt(5) + 1 + sqrt(2)*I*sqrt(sqrt(5) + 5))/4),\n",
       "  y),\n",
       " (-I*log(-exp(2*I*y))/3, y),\n",
       " (-I*log(-exp(3*I*y))/2, y)]"
      ]
     },
     "execution_count": 16,
     "metadata": {},
     "output_type": "execute_result"
    }
   ],
   "source": [
    "solve(eq, x, y)"
   ]
  },
  {
   "cell_type": "code",
   "execution_count": null,
   "metadata": {},
   "outputs": [],
   "source": []
  }
 ],
 "metadata": {
  "kernelspec": {
   "display_name": "Python 3",
   "language": "python",
   "name": "python3"
  },
  "language_info": {
   "codemirror_mode": {
    "name": "ipython",
    "version": 3
   },
   "file_extension": ".py",
   "mimetype": "text/x-python",
   "name": "python",
   "nbconvert_exporter": "python",
   "pygments_lexer": "ipython3",
   "version": "3.6.6"
  }
 },
 "nbformat": 4,
 "nbformat_minor": 2
}
