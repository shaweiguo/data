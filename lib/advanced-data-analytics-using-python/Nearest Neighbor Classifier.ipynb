{
 "cells": [
  {
   "cell_type": "code",
   "execution_count": 1,
   "metadata": {},
   "outputs": [
    {
     "name": "stdout",
     "output_type": "stream",
     "text": [
      "pos\n"
     ]
    }
   ],
   "source": [
    "## Nearest Neighbor Classifier\n",
    "# import math\n",
    "\n",
    "# def Distance(point1, point2, length):\n",
    "#     distance = 0\n",
    "#     for x in range(length):\n",
    "#         distance += pow((point1[x] - point2[x]), 2)\n",
    "#     return math.sqrt(distance)\n",
    "\n",
    "# def getClosePoints(trainData, testData, k):\n",
    "#     distances = []\n",
    "#     length = len(testInstance) - 1\n",
    "\n",
    "## Sentiment Analysis\n",
    "from textblob.classifiers import NaiveBayesClassifier\n",
    "\n",
    "train = [\n",
    "    ('I love this sandwich.', 'pos'),\n",
    "    ('this is an amazing place!', 'pos'),\n",
    "    ('I feel very good about these beers.', 'pos'),\n",
    "    ('this is my best work.', 'pos'),\n",
    "    (\"what an awesome view\", 'pos'),\n",
    "    ('I do not like this restaurant', 'neg'),\n",
    "    ('I am tired of this stuff.', 'neg'),\n",
    "    (\"I can't deal with this\", 'neg'),\n",
    "    ('he is my sworn enemy!', 'neg'),\n",
    "    ('my boss is horrible.', 'neg')]\n",
    "cl = NaiveBayesClassifier(train)\n",
    "\n",
    "print(cl.classify(\"This is an amazing library!\"))"
   ]
  },
  {
   "cell_type": "code",
   "execution_count": 3,
   "metadata": {},
   "outputs": [
    {
     "name": "stdout",
     "output_type": "stream",
     "text": [
      "food\n",
      "food\n",
      "route\n"
     ]
    }
   ],
   "source": [
    "train = [\n",
    "    ('Air India did a poor job of queue management both times.', 'staff service'),\n",
    "    (\"The 'cleaning' by flight attendants involved regularly spraying air freshener in the lavatories.\", 'staff'),\n",
    "    ('The food tasted decent.', 'food'),\n",
    "    ('Flew Air India direct from New York to Delhi round trip.', 'route'),\n",
    "    ('Colombo to Moscow via Delhi.', 'route'),\n",
    "    ('Flew Birmingham to Delhi with Air India.', 'route'),\n",
    "    ('Without toilet, food or anything!', 'food'),\n",
    "    ('Cabin crew announcements included a sincere apology for the delay.', 'cabin flown')]\n",
    "cl = NaiveBayesClassifier(train)\n",
    "tests = ['Food is good.', 'The ticket is too expensive!', 'Flew too slow']\n",
    "\n",
    "for c in tests:\n",
    "    print(cl.classify(c))"
   ]
  },
  {
   "cell_type": "code",
   "execution_count": 6,
   "metadata": {
    "scrolled": true
   },
   "outputs": [
    {
     "ename": "SystemError",
     "evalue": "<class 'cv2.CascadeClassifier'> returned a result with an error set",
     "output_type": "error",
     "traceback": [
      "\u001b[0;31m---------------------------------------------------------------------------\u001b[0m",
      "\u001b[0;31merror\u001b[0m                                     Traceback (most recent call last)",
      "\u001b[0;31merror\u001b[0m: OpenCV(3.4.3) /io/opencv/modules/core/src/persistence_c.cpp:388: error: (-49:Unknown error code -49) Input file is empty in function 'cvOpenFileStorage'\n",
      "\nThe above exception was the direct cause of the following exception:\n",
      "\u001b[0;31mSystemError\u001b[0m                               Traceback (most recent call last)",
      "\u001b[0;32m<ipython-input-6-615a910dc77f>\u001b[0m in \u001b[0;36m<module>\u001b[0;34m\u001b[0m\n\u001b[1;32m      5\u001b[0m \u001b[0mcasc_path\u001b[0m \u001b[0;34m=\u001b[0m \u001b[0;34m\"/home/sha/data/face/haarcascade_frontalface_default.xml\"\u001b[0m\u001b[0;34m\u001b[0m\u001b[0m\n\u001b[1;32m      6\u001b[0m \u001b[0;34m\u001b[0m\u001b[0m\n\u001b[0;32m----> 7\u001b[0;31m \u001b[0mfaceCascade\u001b[0m \u001b[0;34m=\u001b[0m \u001b[0mcv2\u001b[0m\u001b[0;34m.\u001b[0m\u001b[0mCascadeClassifier\u001b[0m\u001b[0;34m(\u001b[0m\u001b[0mcasc_path\u001b[0m\u001b[0;34m)\u001b[0m\u001b[0;34m\u001b[0m\u001b[0m\n\u001b[0m\u001b[1;32m      8\u001b[0m \u001b[0;34m\u001b[0m\u001b[0m\n\u001b[1;32m      9\u001b[0m \u001b[0mimage\u001b[0m \u001b[0;34m=\u001b[0m \u001b[0mcv2\u001b[0m\u001b[0;34m.\u001b[0m\u001b[0mimread\u001b[0m\u001b[0;34m(\u001b[0m\u001b[0mimage_path\u001b[0m\u001b[0;34m)\u001b[0m\u001b[0;34m\u001b[0m\u001b[0m\n",
      "\u001b[0;31mSystemError\u001b[0m: <class 'cv2.CascadeClassifier'> returned a result with an error set"
     ]
    }
   ],
   "source": [
    "## Image Recognition\n",
    "import cv2 \n",
    "\n",
    "image_path = \"/home/sha/data/img/ljh.jpg\"\n",
    "casc_path = \"/home/sha/data/face/haarcascade_frontalface_default.xml\"\n",
    "\n",
    "faceCascade = cv2.CascadeClassifier(casc_path)\n",
    "\n",
    "image = cv2.imread(image_path)\n",
    "gray = cv2.cvtColor(image, cv2.COLOR_BGR2GRAY)\n",
    "\n",
    "faces = faceCascade.detectMultiScale(\n",
    "    gray, scaleFactor=1.1, minNeighbors=5, \n",
    "    minSize=(30, 30), flags=cv2.cv.CV_HAAR_SCALE_IMAGE)\n",
    "\n",
    "print(\"Found {0} faces!\".format(len(faces)))\n",
    "\n",
    "# cv2.namedWindow(\"Image\") \n",
    "# cv2.imshow(\"Image\", img) \n",
    "# cv2.waitKey (0)\n",
    "# cv2.destroyAllWindows()"
   ]
  },
  {
   "cell_type": "code",
   "execution_count": null,
   "metadata": {},
   "outputs": [],
   "source": []
  }
 ],
 "metadata": {
  "kernelspec": {
   "display_name": "Python 3",
   "language": "python",
   "name": "python3"
  },
  "language_info": {
   "codemirror_mode": {
    "name": "ipython",
    "version": 3
   },
   "file_extension": ".py",
   "mimetype": "text/x-python",
   "name": "python",
   "nbconvert_exporter": "python",
   "pygments_lexer": "ipython3",
   "version": "3.6.6"
  }
 },
 "nbformat": 4,
 "nbformat_minor": 2
}
