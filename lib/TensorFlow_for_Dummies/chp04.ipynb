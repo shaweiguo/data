{
 "cells": [
  {
   "cell_type": "code",
   "execution_count": 1,
   "metadata": {},
   "outputs": [],
   "source": [
    "\"\"\"A simple TensorFlow application\"\"\"\n",
    "from __future__ import absolute_import\n",
    "from __future__ import division\n",
    "from __future__ import print_function\n",
    "import tensorflow as tf"
   ]
  },
  {
   "cell_type": "code",
   "execution_count": 2,
   "metadata": {},
   "outputs": [
    {
     "name": "stdout",
     "output_type": "stream",
     "text": [
      "Product:  4.2000003\n"
     ]
    }
   ],
   "source": [
    "t1 = tf.constant(1.2)\n",
    "t2 = tf.constant(3.5)\n",
    "prod = tf.multiply(t1, t2)\n",
    "sess = tf.InteractiveSession()\n",
    "print(\"Product: \", prod.eval())"
   ]
  },
  {
   "cell_type": "code",
   "execution_count": 4,
   "metadata": {},
   "outputs": [
    {
     "name": "stdout",
     "output_type": "stream",
     "text": [
      "Product:  4.2000003\n"
     ]
    }
   ],
   "source": [
    "t1 = tf.constant(1.2)\n",
    "t2 = tf.constant(3.5)\n",
    "prod = tf.multiply(t1, t2)\n",
    "with tf.Session() as sess:\n",
    "    print(\"Product: \", sess.run(prod))"
   ]
  },
  {
   "cell_type": "code",
   "execution_count": 5,
   "metadata": {},
   "outputs": [],
   "source": [
    "tf.logging.set_verbosity(tf.logging.INFO)"
   ]
  },
  {
   "cell_type": "code",
   "execution_count": 6,
   "metadata": {},
   "outputs": [
    {
     "name": "stdout",
     "output_type": "stream",
     "text": [
      "INFO:tensorflow:Output: 4.200000\n"
     ]
    }
   ],
   "source": [
    "with tf.Session() as sess:\n",
    "    output = sess.run(prod)\n",
    "    tf.logging.info('Output: %f', output)"
   ]
  },
  {
   "cell_type": "code",
   "execution_count": 8,
   "metadata": {},
   "outputs": [
    {
     "ename": "ValueError",
     "evalue": "not enough values to unpack (expected 2, got 1)",
     "output_type": "error",
     "traceback": [
      "\u001b[0;31m---------------------------------------------------------------------------\u001b[0m",
      "\u001b[0;31mValueError\u001b[0m                                Traceback (most recent call last)",
      "\u001b[0;32m<ipython-input-8-b06083652e3b>\u001b[0m in \u001b[0;36m<module>\u001b[0;34m\u001b[0m\n\u001b[1;32m     13\u001b[0m \u001b[0;34m\u001b[0m\u001b[0m\n\u001b[1;32m     14\u001b[0m \u001b[0;32mwith\u001b[0m \u001b[0mtf\u001b[0m\u001b[0;34m.\u001b[0m\u001b[0mSession\u001b[0m\u001b[0;34m(\u001b[0m\u001b[0;34m)\u001b[0m \u001b[0;32mas\u001b[0m \u001b[0msess\u001b[0m\u001b[0;34m:\u001b[0m\u001b[0;34m\u001b[0m\u001b[0;34m\u001b[0m\u001b[0m\n\u001b[0;32m---> 15\u001b[0;31m     \u001b[0m_\u001b[0m\u001b[0;34m,\u001b[0m \u001b[0msummary\u001b[0m \u001b[0;34m=\u001b[0m \u001b[0msess\u001b[0m\u001b[0;34m.\u001b[0m\u001b[0mrun\u001b[0m\u001b[0;34m(\u001b[0m\u001b[0;34m[\u001b[0m\u001b[0mmerged_op\u001b[0m\u001b[0;34m]\u001b[0m\u001b[0;34m)\u001b[0m\u001b[0;34m\u001b[0m\u001b[0;34m\u001b[0m\u001b[0m\n\u001b[0m",
      "\u001b[0;31mValueError\u001b[0m: not enough values to unpack (expected 2, got 1)"
     ]
    }
   ],
   "source": [
    "# # Add two scalars\n",
    "# a = tf.constant(2.5)\n",
    "# b = tf.constant(4.5)\n",
    "# total = a + b;\n",
    "\n",
    "# # Create operations that generate summary data\n",
    "# tf.summary.scalar('a', a)\n",
    "# tf.summary.scalar('b', b)\n",
    "# tf.summary.scalar('total', total)\n",
    "\n",
    "# # Merge the operations into a single operation\n",
    "# merged_op = tf.summary.merge_all()\n",
    "\n",
    "# with tf.Session() as sess:\n",
    "#     _, summary = sess.run([merged_op])"
   ]
  },
  {
   "cell_type": "code",
   "execution_count": 9,
   "metadata": {},
   "outputs": [],
   "source": [
    "custom_summary = tf.Summary(value=[tf.Summary.Value(tag=\"num_tag\", simple_value=5.0),])"
   ]
  },
  {
   "cell_type": "code",
   "execution_count": 10,
   "metadata": {},
   "outputs": [],
   "source": [
    "logdir = '/home/sha/tmp/tensorboard'"
   ]
  },
  {
   "cell_type": "code",
   "execution_count": 11,
   "metadata": {},
   "outputs": [],
   "source": [
    "fw = tf.summary.FileWriter(logdir, graph=tf.get_default_graph())"
   ]
  },
  {
   "cell_type": "code",
   "execution_count": 13,
   "metadata": {},
   "outputs": [],
   "source": [
    "import time\n",
    "new_summary = tf.Summary(value=[tf.Summary.Value(tag='val', simple_value=9.0),])\n",
    "event = tf.Event(wall_time=time.time(), summary=new_summary)\n",
    "fw.add_event(event)"
   ]
  },
  {
   "cell_type": "code",
   "execution_count": 14,
   "metadata": {},
   "outputs": [],
   "source": [
    "# Create tensors\n",
    "t1 = tf.constant([1.2, 2.3, 3.4, 4.5])\n",
    "t2 = tf.constant([5.6, 6.7, 7.8, 8.9])\n",
    "t3 = tf.concat([t1, t2], 0)\n",
    "t4 = tf.random_normal([8])\n",
    "t5 = tf.tensordot(t3, t4, 1)"
   ]
  },
  {
   "cell_type": "code",
   "execution_count": 15,
   "metadata": {},
   "outputs": [],
   "source": [
    "# Create operations to generate summary data\n",
    "tf.summary.scalar(\"t1\", t1[0])\n",
    "tf.summary.scalar(\"t2\", t2[0])\n",
    "tf.summary.scalar(\"t3\", t3[0])\n",
    "tf.summary.scalar(\"t4\", t4[0])\n",
    "tf.summary.scalar(\"t5\", t5)\n",
    "merged_op = tf.summary.merge_all()"
   ]
  },
  {
   "cell_type": "code",
   "execution_count": 16,
   "metadata": {},
   "outputs": [
    {
     "name": "stdout",
     "output_type": "stream",
     "text": [
      "INFO:tensorflow:Result of dot product: -3.478902\n"
     ]
    }
   ],
   "source": [
    "import os\n",
    "# Execute first graph\n",
    "with tf.Session() as sess:\n",
    "    # Execute the session\n",
    "    dot_result, summary = sess.run([t5, merged_op])\n",
    "    # Write the result to the log\n",
    "    tf.logging.info('Result of dot product: %f', dot_result)\n",
    "    # Print the summary data\n",
    "    fw.add_summary(summary)\n",
    "    fw.flush()\n",
    "    # Obtain the GraphDef and write it to a file\n",
    "    tf.train.write_graph(sess.graph, os.getcwd(), 'graph1.data')"
   ]
  },
  {
   "cell_type": "code",
   "execution_count": 19,
   "metadata": {},
   "outputs": [],
   "source": [
    "# Create second graph and make it default\n",
    "graph = tf.Graph()\n",
    "with graph.as_default():\n",
    "    # Compute the average\n",
    "    t6 = tf.random_uniform([8], 4.0, 8.0)\n",
    "    t7 = tf.fill([8], 6.0)\n",
    "    t8 = tf.reduce_mean(t6 + t7)\n",
    "    # Execute first graph\n",
    "    with tf.Session() as sess:\n",
    "        # Execute the session\n",
    "        sess.run(t8)\n",
    "        # Obtain the GraphDef and write it to a file\n",
    "        tf.train.write_graph(sess.graph, os.getcwd(), 'graph2.dat')"
   ]
  },
  {
   "cell_type": "code",
   "execution_count": null,
   "metadata": {},
   "outputs": [],
   "source": []
  }
 ],
 "metadata": {
  "kernelspec": {
   "display_name": "Python 3",
   "language": "python",
   "name": "python3"
  },
  "language_info": {
   "codemirror_mode": {
    "name": "ipython",
    "version": 3
   },
   "file_extension": ".py",
   "mimetype": "text/x-python",
   "name": "python",
   "nbconvert_exporter": "python",
   "pygments_lexer": "ipython3",
   "version": "3.6.7"
  }
 },
 "nbformat": 4,
 "nbformat_minor": 2
}
