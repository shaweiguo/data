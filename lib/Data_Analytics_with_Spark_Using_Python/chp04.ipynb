{
 "cells": [
  {
   "cell_type": "code",
   "execution_count": 1,
   "metadata": {},
   "outputs": [],
   "source": [
    "logs = sc.textFile('hdfs://us:9000/user/sha/data/logs/')"
   ]
  },
  {
   "cell_type": "code",
   "execution_count": 2,
   "metadata": {},
   "outputs": [],
   "source": [
    "log = sc.textFile('hdfs:///user/sha/data/logs/hbase-sha-master-us.log')"
   ]
  },
  {
   "cell_type": "code",
   "execution_count": 3,
   "metadata": {},
   "outputs": [],
   "source": [
    "all_logs = sc.wholeTextFiles('hdfs://us:9000/user/sha/data/logs/*.log')"
   ]
  },
  {
   "cell_type": "code",
   "execution_count": 4,
   "metadata": {},
   "outputs": [],
   "source": [
    "licenses_files = sc.textFile('file:///opt/share/spark/licenses/')"
   ]
  },
  {
   "cell_type": "code",
   "execution_count": 5,
   "metadata": {},
   "outputs": [
    {
     "data": {
      "text/plain": [
       "file:///opt/share/spark/licenses/ MapPartitionsRDD[7] at textFile at NativeMethodAccessorImpl.java:0"
      ]
     },
     "execution_count": 5,
     "metadata": {},
     "output_type": "execute_result"
    }
   ],
   "source": [
    "licenses_files"
   ]
  },
  {
   "cell_type": "code",
   "execution_count": 6,
   "metadata": {},
   "outputs": [
    {
     "data": {
      "text/plain": [
       "['The MIT License (MIT)']"
      ]
     },
     "execution_count": 6,
     "metadata": {},
     "output_type": "execute_result"
    }
   ],
   "source": [
    "licenses_files.take(1)"
   ]
  },
  {
   "cell_type": "code",
   "execution_count": 7,
   "metadata": {},
   "outputs": [
    {
     "data": {
      "text/plain": [
       "38"
      ]
     },
     "execution_count": 7,
     "metadata": {},
     "output_type": "execute_result"
    }
   ],
   "source": [
    "licenses_files.getNumPartitions()"
   ]
  },
  {
   "cell_type": "code",
   "execution_count": 8,
   "metadata": {},
   "outputs": [
    {
     "data": {
      "text/plain": [
       "1131"
      ]
     },
     "execution_count": 8,
     "metadata": {},
     "output_type": "execute_result"
    }
   ],
   "source": [
    "licenses_files.count()"
   ]
  },
  {
   "cell_type": "code",
   "execution_count": 9,
   "metadata": {},
   "outputs": [],
   "source": [
    "licensefile_pairs = sc.wholeTextFiles('file:///opt/share/spark/licenses/')"
   ]
  },
  {
   "cell_type": "code",
   "execution_count": 10,
   "metadata": {},
   "outputs": [
    {
     "data": {
      "text/plain": [
       "org.apache.spark.api.java.JavaPairRDD@18794e7"
      ]
     },
     "execution_count": 10,
     "metadata": {},
     "output_type": "execute_result"
    }
   ],
   "source": [
    "licensefile_pairs"
   ]
  },
  {
   "cell_type": "code",
   "execution_count": 11,
   "metadata": {},
   "outputs": [
    {
     "data": {
      "text/plain": [
       "[('file:/opt/share/spark/licenses/LICENSE-scopt.txt',\n",
       "  'The MIT License (MIT)\\n\\nCopyright (c) <year> <copyright holders>\\n\\nPermission is hereby granted, free of charge, to any person obtaining a copy\\nof this software and associated documentation files (the \"Software\"), to deal\\nin the Software without restriction, including without limitation the rights\\nto use, copy, modify, merge, publish, distribute, sublicense, and/or sell\\ncopies of the Software, and to permit persons to whom the Software is\\nfurnished to do so, subject to the following conditions:\\n\\nThe above copyright notice and this permission notice shall be included in\\nall copies or substantial portions of the Software.\\n\\nTHE SOFTWARE IS PROVIDED \"AS IS\", WITHOUT WARRANTY OF ANY KIND, EXPRESS OR\\nIMPLIED, INCLUDING BUT NOT LIMITED TO THE WARRANTIES OF MERCHANTABILITY,\\nFITNESS FOR A PARTICULAR PURPOSE AND NONINFRINGEMENT. IN NO EVENT SHALL THE\\nAUTHORS OR COPYRIGHT HOLDERS BE LIABLE FOR ANY CLAIM, DAMAGES OR OTHER\\nLIABILITY, WHETHER IN AN ACTION OF CONTRACT, TORT OR OTHERWISE, ARISING FROM,\\nOUT OF OR IN CONNECTION WITH THE SOFTWARE OR THE USE OR OTHER DEALINGS IN\\nTHE SOFTWARE.')]"
      ]
     },
     "execution_count": 11,
     "metadata": {},
     "output_type": "execute_result"
    }
   ],
   "source": [
    "licensefile_pairs.take(1)"
   ]
  },
  {
   "cell_type": "code",
   "execution_count": 12,
   "metadata": {},
   "outputs": [
    {
     "data": {
      "text/plain": [
       "2"
      ]
     },
     "execution_count": 12,
     "metadata": {},
     "output_type": "execute_result"
    }
   ],
   "source": [
    "licensefile_pairs.getNumPartitions()"
   ]
  },
  {
   "cell_type": "code",
   "execution_count": 13,
   "metadata": {},
   "outputs": [
    {
     "data": {
      "text/plain": [
       "38"
      ]
     },
     "execution_count": 13,
     "metadata": {},
     "output_type": "execute_result"
    }
   ],
   "source": [
    "licensefile_pairs.count()"
   ]
  },
  {
   "cell_type": "code",
   "execution_count": 14,
   "metadata": {},
   "outputs": [],
   "source": [
    "shopsdf = spark.read.jdbc(url='jdbc:mysql://us:3306/studiesdb', table='shop', column='article', numPartitions='2', lowerBound='0001', upperBound='9999', properties={'user': 'root', 'password': 'Passw0rd'})"
   ]
  },
  {
   "cell_type": "code",
   "execution_count": 15,
   "metadata": {},
   "outputs": [
    {
     "data": {
      "text/plain": [
       "2"
      ]
     },
     "execution_count": 15,
     "metadata": {},
     "output_type": "execute_result"
    }
   ],
   "source": [
    "shopsdf.rdd.getNumPartitions()"
   ]
  },
  {
   "cell_type": "code",
   "execution_count": 16,
   "metadata": {},
   "outputs": [],
   "source": [
    "sqlContext.registerDataFrameAsTable(shopsdf, 'shop')"
   ]
  },
  {
   "cell_type": "code",
   "execution_count": 17,
   "metadata": {},
   "outputs": [],
   "source": [
    "df2 = spark.sql('select article, dealer, price from shop LIMIT 5')"
   ]
  },
  {
   "cell_type": "code",
   "execution_count": 19,
   "metadata": {},
   "outputs": [
    {
     "name": "stdout",
     "output_type": "stream",
     "text": [
      "+-------+------+-----+\n",
      "|article|dealer|price|\n",
      "+-------+------+-----+\n",
      "|      1|     A| 3.45|\n",
      "|      1|     B| 3.99|\n",
      "|      2|     A|10.99|\n",
      "|      3|     B| 1.45|\n",
      "|      3|     C| 1.69|\n",
      "+-------+------+-----+\n",
      "\n"
     ]
    }
   ],
   "source": [
    "df2.show()"
   ]
  },
  {
   "cell_type": "code",
   "execution_count": 21,
   "metadata": {},
   "outputs": [],
   "source": [
    "people = spark.read.json('file:///opt/share/spark/examples/src/main/resources/people.json')"
   ]
  },
  {
   "cell_type": "code",
   "execution_count": 22,
   "metadata": {},
   "outputs": [
    {
     "data": {
      "text/plain": [
       "DataFrame[age: bigint, name: string]"
      ]
     },
     "execution_count": 22,
     "metadata": {},
     "output_type": "execute_result"
    }
   ],
   "source": [
    "people"
   ]
  },
  {
   "cell_type": "code",
   "execution_count": 23,
   "metadata": {},
   "outputs": [
    {
     "data": {
      "text/plain": [
       "[('age', 'bigint'), ('name', 'string')]"
      ]
     },
     "execution_count": 23,
     "metadata": {},
     "output_type": "execute_result"
    }
   ],
   "source": [
    "people.dtypes"
   ]
  },
  {
   "cell_type": "code",
   "execution_count": 24,
   "metadata": {},
   "outputs": [
    {
     "name": "stdout",
     "output_type": "stream",
     "text": [
      "+----+-------+\n",
      "| age|   name|\n",
      "+----+-------+\n",
      "|null|Michael|\n",
      "|  30|   Andy|\n",
      "|  19| Justin|\n",
      "+----+-------+\n",
      "\n"
     ]
    }
   ],
   "source": [
    "people.show()"
   ]
  },
  {
   "cell_type": "code",
   "execution_count": 25,
   "metadata": {},
   "outputs": [],
   "source": [
    "sqlContext.registerDataFrameAsTable(people, 'people')"
   ]
  },
  {
   "cell_type": "code",
   "execution_count": 26,
   "metadata": {},
   "outputs": [],
   "source": [
    "df2 = spark.sql('select name, age from people where age > 20')"
   ]
  },
  {
   "cell_type": "code",
   "execution_count": 27,
   "metadata": {},
   "outputs": [
    {
     "name": "stdout",
     "output_type": "stream",
     "text": [
      "+----+---+\n",
      "|name|age|\n",
      "+----+---+\n",
      "|Andy| 30|\n",
      "+----+---+\n",
      "\n"
     ]
    }
   ],
   "source": [
    "df2.show()"
   ]
  },
  {
   "cell_type": "code",
   "execution_count": 29,
   "metadata": {},
   "outputs": [
    {
     "data": {
      "text/plain": [
       "[0, 1, 2, 3, 4, 5, 6, 7, 8]"
      ]
     },
     "execution_count": 29,
     "metadata": {},
     "output_type": "execute_result"
    }
   ],
   "source": [
    "nums = list(range(9))\n",
    "nums"
   ]
  },
  {
   "cell_type": "code",
   "execution_count": 30,
   "metadata": {},
   "outputs": [],
   "source": [
    "parallelrdd = sc.parallelize(nums)"
   ]
  },
  {
   "cell_type": "code",
   "execution_count": 31,
   "metadata": {},
   "outputs": [
    {
     "data": {
      "text/plain": [
       "ParallelCollectionRDD[37] at parallelize at PythonRDD.scala:194"
      ]
     },
     "execution_count": 31,
     "metadata": {},
     "output_type": "execute_result"
    }
   ],
   "source": [
    "parallelrdd"
   ]
  },
  {
   "cell_type": "code",
   "execution_count": 32,
   "metadata": {},
   "outputs": [
    {
     "data": {
      "text/plain": [
       "9"
      ]
     },
     "execution_count": 32,
     "metadata": {},
     "output_type": "execute_result"
    }
   ],
   "source": [
    "parallelrdd.count()"
   ]
  },
  {
   "cell_type": "code",
   "execution_count": 33,
   "metadata": {},
   "outputs": [
    {
     "data": {
      "text/plain": [
       "[0, 1, 2, 3, 4, 5, 6, 7, 8]"
      ]
     },
     "execution_count": 33,
     "metadata": {},
     "output_type": "execute_result"
    }
   ],
   "source": [
    "parallelrdd.collect()"
   ]
  },
  {
   "cell_type": "code",
   "execution_count": 34,
   "metadata": {},
   "outputs": [],
   "source": [
    "range_rdd = sc.range(0, 1000, 1, 2)"
   ]
  },
  {
   "cell_type": "code",
   "execution_count": 35,
   "metadata": {},
   "outputs": [
    {
     "data": {
      "text/plain": [
       "PythonRDD[40] at RDD at PythonRDD.scala:52"
      ]
     },
     "execution_count": 35,
     "metadata": {},
     "output_type": "execute_result"
    }
   ],
   "source": [
    "range_rdd"
   ]
  },
  {
   "cell_type": "code",
   "execution_count": 36,
   "metadata": {},
   "outputs": [
    {
     "data": {
      "text/plain": [
       "2"
      ]
     },
     "execution_count": 36,
     "metadata": {},
     "output_type": "execute_result"
    }
   ],
   "source": [
    "range_rdd.getNumPartitions()"
   ]
  },
  {
   "cell_type": "code",
   "execution_count": 37,
   "metadata": {},
   "outputs": [
    {
     "data": {
      "text/plain": [
       "0"
      ]
     },
     "execution_count": 37,
     "metadata": {},
     "output_type": "execute_result"
    }
   ],
   "source": [
    "range_rdd.min()"
   ]
  },
  {
   "cell_type": "code",
   "execution_count": 38,
   "metadata": {},
   "outputs": [
    {
     "data": {
      "text/plain": [
       "999"
      ]
     },
     "execution_count": 38,
     "metadata": {},
     "output_type": "execute_result"
    }
   ],
   "source": [
    "range_rdd.max()"
   ]
  },
  {
   "cell_type": "code",
   "execution_count": 39,
   "metadata": {},
   "outputs": [
    {
     "data": {
      "text/plain": [
       "[0, 1, 2, 3, 4]"
      ]
     },
     "execution_count": 39,
     "metadata": {},
     "output_type": "execute_result"
    }
   ],
   "source": [
    "range_rdd.take(5)"
   ]
  },
  {
   "cell_type": "code",
   "execution_count": 40,
   "metadata": {},
   "outputs": [],
   "source": [
    "new_prallel_rdd = parallelrdd.filter(lambda x: x % 2)"
   ]
  },
  {
   "cell_type": "code",
   "execution_count": 41,
   "metadata": {},
   "outputs": [
    {
     "data": {
      "text/plain": [
       "[1, 3, 5, 7]"
      ]
     },
     "execution_count": 41,
     "metadata": {},
     "output_type": "execute_result"
    }
   ],
   "source": [
    "new_prallel_rdd.collect()"
   ]
  },
  {
   "cell_type": "code",
   "execution_count": 42,
   "metadata": {},
   "outputs": [],
   "source": [
    "numbers = sc.range(0, 1000000, 1, 2)"
   ]
  },
  {
   "cell_type": "code",
   "execution_count": 43,
   "metadata": {},
   "outputs": [],
   "source": [
    "evens = numbers.filter(lambda x: x % 2)"
   ]
  },
  {
   "cell_type": "code",
   "execution_count": 44,
   "metadata": {},
   "outputs": [],
   "source": [
    "noelements = evens.count()"
   ]
  },
  {
   "cell_type": "code",
   "execution_count": 46,
   "metadata": {},
   "outputs": [
    {
     "name": "stdout",
     "output_type": "stream",
     "text": [
      "There are     500000 elements in the collection.\n"
     ]
    }
   ],
   "source": [
    "print('There are {:10d} elements in the collection.'.format(noelements))"
   ]
  },
  {
   "cell_type": "code",
   "execution_count": 47,
   "metadata": {},
   "outputs": [],
   "source": [
    "list_of_elements = evens.collect()"
   ]
  },
  {
   "cell_type": "code",
   "execution_count": 48,
   "metadata": {},
   "outputs": [
    {
     "data": {
      "text/plain": [
       "[1, 3, 5, 7, 9]"
      ]
     },
     "execution_count": 48,
     "metadata": {},
     "output_type": "execute_result"
    }
   ],
   "source": [
    "list_of_elements[:5]"
   ]
  },
  {
   "cell_type": "code",
   "execution_count": 49,
   "metadata": {},
   "outputs": [],
   "source": [
    "licenses = sc.textFile('file:///opt/share/spark/licenses/')"
   ]
  },
  {
   "cell_type": "code",
   "execution_count": 50,
   "metadata": {},
   "outputs": [],
   "source": [
    "words = licenses.flatMap(lambda x: x.split(' '))"
   ]
  },
  {
   "cell_type": "code",
   "execution_count": 51,
   "metadata": {},
   "outputs": [
    {
     "data": {
      "text/plain": [
       "['The', 'MIT', 'License', '(MIT)', '']"
      ]
     },
     "execution_count": 51,
     "metadata": {},
     "output_type": "execute_result"
    }
   ],
   "source": [
    "words.take(5)"
   ]
  },
  {
   "cell_type": "code",
   "execution_count": 52,
   "metadata": {},
   "outputs": [
    {
     "data": {
      "text/plain": [
       "['the', 'mit', 'license', '(mit)', '']"
      ]
     },
     "execution_count": 52,
     "metadata": {},
     "output_type": "execute_result"
    }
   ],
   "source": [
    "lowercase = words.map(lambda x: x.lower())\n",
    "lowercase.take(5)"
   ]
  },
  {
   "cell_type": "code",
   "execution_count": 53,
   "metadata": {},
   "outputs": [
    {
     "data": {
      "text/plain": [
       "['documentation',\n",
       " 'merchantability,',\n",
       " 'noninfringement.',\n",
       " 'redistribution',\n",
       " 'modification,']"
      ]
     },
     "execution_count": 53,
     "metadata": {},
     "output_type": "execute_result"
    }
   ],
   "source": [
    "longwords = lowercase.filter(lambda x: len(x) > 12)\n",
    "longwords.take(5)"
   ]
  },
  {
   "cell_type": "code",
   "execution_count": 54,
   "metadata": {},
   "outputs": [],
   "source": [
    "allwords = lowercase.count()"
   ]
  },
  {
   "cell_type": "code",
   "execution_count": 55,
   "metadata": {},
   "outputs": [
    {
     "data": {
      "text/plain": [
       "11948"
      ]
     },
     "execution_count": 55,
     "metadata": {},
     "output_type": "execute_result"
    }
   ],
   "source": [
    "allwords"
   ]
  },
  {
   "cell_type": "code",
   "execution_count": 56,
   "metadata": {},
   "outputs": [],
   "source": [
    "distinct_words = lowercase.distinct().count()"
   ]
  },
  {
   "cell_type": "code",
   "execution_count": 57,
   "metadata": {},
   "outputs": [
    {
     "data": {
      "text/plain": [
       "903"
      ]
     },
     "execution_count": 57,
     "metadata": {},
     "output_type": "execute_result"
    }
   ],
   "source": [
    "distinct_words"
   ]
  },
  {
   "cell_type": "code",
   "execution_count": 58,
   "metadata": {},
   "outputs": [],
   "source": [
    "words = licenses.flatMap(lambda x: x.split(' ')).filter(lambda x: len(x) > 0)"
   ]
  },
  {
   "cell_type": "code",
   "execution_count": 59,
   "metadata": {},
   "outputs": [],
   "source": [
    "grouped_by_first_letter = words.groupBy(lambda x: x[0].lower())"
   ]
  },
  {
   "cell_type": "code",
   "execution_count": 60,
   "metadata": {},
   "outputs": [
    {
     "data": {
      "text/plain": [
       "[('e', <pyspark.resultiterable.ResultIterable at 0x7fe70a845c18>),\n",
       " ('q', <pyspark.resultiterable.ResultIterable at 0x7fe70a845c88>),\n",
       " ('o', <pyspark.resultiterable.ResultIterable at 0x7fe70a84eba8>),\n",
       " ('b', <pyspark.resultiterable.ResultIterable at 0x7fe70a845cf8>),\n",
       " ('-', <pyspark.resultiterable.ResultIterable at 0x7fe70a845400>)]"
      ]
     },
     "execution_count": 60,
     "metadata": {},
     "output_type": "execute_result"
    }
   ],
   "source": [
    "grouped_by_first_letter.take(5)"
   ]
  },
  {
   "cell_type": "code",
   "execution_count": 61,
   "metadata": {},
   "outputs": [],
   "source": [
    "readme = sc.textFile('file:///opt/share/spark/README.md')"
   ]
  },
  {
   "cell_type": "code",
   "execution_count": 62,
   "metadata": {},
   "outputs": [],
   "source": [
    "words = readme.flatMap(lambda x: x.split(' ')).filter(lambda x: len(x) > 0)"
   ]
  },
  {
   "cell_type": "code",
   "execution_count": 63,
   "metadata": {},
   "outputs": [],
   "source": [
    "sort_by_first_letter = words.sortBy(lambda x: x[0].lower(), ascending=False)"
   ]
  },
  {
   "cell_type": "code",
   "execution_count": 64,
   "metadata": {},
   "outputs": [
    {
     "data": {
      "text/plain": [
       "['You', 'you', 'You', 'you', 'you']"
      ]
     },
     "execution_count": 64,
     "metadata": {},
     "output_type": "execute_result"
    }
   ],
   "source": [
    "sort_by_first_letter.take(5)"
   ]
  },
  {
   "cell_type": "code",
   "execution_count": 65,
   "metadata": {},
   "outputs": [
    {
     "data": {
      "text/plain": [
       "['your', 'you', 'with']"
      ]
     },
     "execution_count": 65,
     "metadata": {},
     "output_type": "execute_result"
    }
   ],
   "source": [
    "words.distinct().top(3)"
   ]
  },
  {
   "cell_type": "code",
   "execution_count": 66,
   "metadata": {},
   "outputs": [
    {
     "data": {
      "text/plain": [
       "'#'"
      ]
     },
     "execution_count": 66,
     "metadata": {},
     "output_type": "execute_result"
    }
   ],
   "source": [
    "words.first()"
   ]
  },
  {
   "cell_type": "code",
   "execution_count": 67,
   "metadata": {},
   "outputs": [
    {
     "data": {
      "text/plain": [
       "'#'"
      ]
     },
     "execution_count": 67,
     "metadata": {},
     "output_type": "execute_result"
    }
   ],
   "source": [
    "words.distinct().first()"
   ]
  },
  {
   "cell_type": "code",
   "execution_count": 68,
   "metadata": {},
   "outputs": [
    {
     "data": {
      "text/plain": [
       "['#']"
      ]
     },
     "execution_count": 68,
     "metadata": {},
     "output_type": "execute_result"
    }
   ],
   "source": [
    "words.distinct().take(1)"
   ]
  },
  {
   "cell_type": "code",
   "execution_count": 69,
   "metadata": {},
   "outputs": [
    {
     "data": {
      "text/plain": [
       "[1, 2, 3, 4, 5, 6, 7, 8, 9]"
      ]
     },
     "execution_count": 69,
     "metadata": {},
     "output_type": "execute_result"
    }
   ],
   "source": [
    "nums = list(range(1, 10))\n",
    "nums"
   ]
  },
  {
   "cell_type": "code",
   "execution_count": 70,
   "metadata": {},
   "outputs": [],
   "source": [
    "nums_rdd = sc.parallelize(nums)"
   ]
  },
  {
   "cell_type": "code",
   "execution_count": 71,
   "metadata": {},
   "outputs": [
    {
     "data": {
      "text/plain": [
       "ParallelCollectionRDD[92] at parallelize at PythonRDD.scala:194"
      ]
     },
     "execution_count": 71,
     "metadata": {},
     "output_type": "execute_result"
    }
   ],
   "source": [
    "nums_rdd"
   ]
  },
  {
   "cell_type": "code",
   "execution_count": 72,
   "metadata": {},
   "outputs": [
    {
     "data": {
      "text/plain": [
       "45"
      ]
     },
     "execution_count": 72,
     "metadata": {},
     "output_type": "execute_result"
    }
   ],
   "source": [
    "nums_rdd.reduce(lambda x, y: x + y)"
   ]
  },
  {
   "cell_type": "code",
   "execution_count": 73,
   "metadata": {},
   "outputs": [
    {
     "data": {
      "text/plain": [
       "45"
      ]
     },
     "execution_count": 73,
     "metadata": {},
     "output_type": "execute_result"
    }
   ],
   "source": [
    "nums_rdd.fold(0, lambda x, y: x + y)"
   ]
  },
  {
   "cell_type": "code",
   "execution_count": 74,
   "metadata": {},
   "outputs": [
    {
     "data": {
      "text/plain": [
       "48"
      ]
     },
     "execution_count": 74,
     "metadata": {},
     "output_type": "execute_result"
    }
   ],
   "source": [
    "nums_rdd.fold(1, lambda x, y: x + y)"
   ]
  },
  {
   "cell_type": "code",
   "execution_count": 75,
   "metadata": {},
   "outputs": [
    {
     "data": {
      "text/plain": [
       "51"
      ]
     },
     "execution_count": 75,
     "metadata": {},
     "output_type": "execute_result"
    }
   ],
   "source": [
    "nums_rdd.fold(2, lambda x, y: x + y)"
   ]
  },
  {
   "cell_type": "code",
   "execution_count": 76,
   "metadata": {},
   "outputs": [],
   "source": [
    "def print_func(x):\n",
    "    print(x)\n",
    "longwords.foreach(lambda x: print_func(x))"
   ]
  },
  {
   "cell_type": "code",
   "execution_count": 77,
   "metadata": {},
   "outputs": [
    {
     "data": {
      "text/plain": [
       "317"
      ]
     },
     "execution_count": 77,
     "metadata": {},
     "output_type": "execute_result"
    }
   ],
   "source": [
    "longwords.count()"
   ]
  },
  {
   "cell_type": "code",
   "execution_count": 78,
   "metadata": {},
   "outputs": [
    {
     "data": {
      "text/plain": [
       "['documentation',\n",
       " 'merchantability,',\n",
       " 'noninfringement.',\n",
       " 'redistribution',\n",
       " 'modification,',\n",
       " 'redistributions',\n",
       " 'redistributions',\n",
       " 'documentation',\n",
       " 'distribution.',\n",
       " 'merchantability',\n",
       " 'consequential',\n",
       " 'interruption)',\n",
       " '<http://www.douban.com/>',\n",
       " 'redistribution',\n",
       " 'modification,',\n",
       " 'redistributions',\n",
       " 'redistributions',\n",
       " 'documentation',\n",
       " 'distribution.',\n",
       " 'merchantability',\n",
       " 'consequential',\n",
       " 'interruption)',\n",
       " 'redistribution',\n",
       " 'modification,',\n",
       " 'redistributions',\n",
       " 'redistributions',\n",
       " 'documentation',\n",
       " 'distribution.',\n",
       " 'merchantability',\n",
       " 'consequential',\n",
       " 'interruption)',\n",
       " 'http://garnaat.org/',\n",
       " 'documentation',\n",
       " 'merchantabil-',\n",
       " 'noninfringement.',\n",
       " 'documentation',\n",
       " 'consequential',\n",
       " 'documentation,',\n",
       " 'merchantability',\n",
       " 'enhancements,',\n",
       " 'modifications.',\n",
       " 'src/google/protobuf/stubs/atomicops_internals_generic_gcc.h.',\n",
       " 'src/google/protobuf/stubs/atomicops_internals_aix.h.',\n",
       " 'redistribution',\n",
       " 'modification,',\n",
       " 'redistributions',\n",
       " 'redistributions',\n",
       " 'documentation',\n",
       " 'distribution.',\n",
       " 'merchantability',\n",
       " 'consequential',\n",
       " 'interruption)',\n",
       " 'documentation',\n",
       " 'merchantability,',\n",
       " 'noninfringement.',\n",
       " 'redistribution',\n",
       " 'modification,',\n",
       " 'redistributions',\n",
       " 'redistributions',\n",
       " 'documentation',\n",
       " 'distribution.',\n",
       " 'merchantability',\n",
       " 'consequential',\n",
       " 'interruption)',\n",
       " 'redistributions',\n",
       " 'redistributions',\n",
       " 'documentation',\n",
       " 'distribution.',\n",
       " 'merchantability',\n",
       " 'consequential',\n",
       " 'interruption)',\n",
       " 'documentation',\n",
       " 'merchantability,',\n",
       " 'noninfringement.',\n",
       " 'redistribution',\n",
       " 'modification,',\n",
       " 'redistributions',\n",
       " 'redistributions',\n",
       " 'documentation',\n",
       " 'distribution.',\n",
       " 'merchantability',\n",
       " 'consequential',\n",
       " 'interruption)',\n",
       " '==========================',\n",
       " 'http://www.cwi.nl)',\n",
       " 'contributions',\n",
       " 'http://www.cnri.reston.va.us)',\n",
       " 'http://www.zope.com).',\n",
       " 'http://www.python.org/psf/)',\n",
       " 'python-related',\n",
       " 'http://www.opensource.org',\n",
       " 'historically,',\n",
       " 'gpl-compatible;',\n",
       " 'gpl-compatible',\n",
       " 'gpl-compatible',\n",
       " 'gpl-compatible,',\n",
       " 'incompatible\"',\n",
       " '===============================================================',\n",
       " '--------------------------------------------',\n",
       " 'documentation.',\n",
       " 'nonexclusive,',\n",
       " 'royalty-free,',\n",
       " 'representations',\n",
       " 'representation',\n",
       " 'merchantability',\n",
       " 'consequential',\n",
       " 'distributing,',\n",
       " 'automatically',\n",
       " '-------------------------------------------',\n",
       " 'documentation',\n",
       " 'non-exclusive,',\n",
       " 'royalty-free,',\n",
       " 'representations',\n",
       " 'representation',\n",
       " 'merchantability',\n",
       " 'consequential',\n",
       " 'automatically',\n",
       " 'http://www.pythonlabs.com/logos.html',\n",
       " '---------------------------------------',\n",
       " 'documentation.',\n",
       " 'nonexclusive,',\n",
       " 'royalty-free,',\n",
       " '1895.22/1013.',\n",
       " 'http://hdl.handle.net/1895.22/1013\".',\n",
       " 'representations',\n",
       " 'representation',\n",
       " 'merchantability',\n",
       " 'consequential',\n",
       " 'distributing,',\n",
       " 'automatically',\n",
       " 'notwithstanding',\n",
       " 'non-separable',\n",
       " '--------------------------------------------------',\n",
       " 'documentation',\n",
       " 'documentation,',\n",
       " 'merchantability',\n",
       " 'consequential',\n",
       " 'documentation',\n",
       " 'merchantability,',\n",
       " 'noninfringement.',\n",
       " 'documentation',\n",
       " 'merchantability,',\n",
       " 'noninfringement.',\n",
       " 'redistribution',\n",
       " 'modification,',\n",
       " 'redistributions',\n",
       " 'redistributions',\n",
       " 'documentation',\n",
       " 'distribution.',\n",
       " 'merchantability',\n",
       " 'consequential',\n",
       " 'interruption)',\n",
       " 'redistribution',\n",
       " 'modification,',\n",
       " 'redistributions',\n",
       " 'redistributions',\n",
       " 'documentation',\n",
       " 'distribution.',\n",
       " 'merchantability',\n",
       " 'consequential',\n",
       " 'interruption)',\n",
       " '<http://www.picloud.com>`_.',\n",
       " 'redistribution',\n",
       " 'modification,',\n",
       " 'redistributions',\n",
       " 'redistributions',\n",
       " 'documentation',\n",
       " 'distribution.',\n",
       " 'merchantability',\n",
       " 'consequential',\n",
       " 'interruption)',\n",
       " '<wfe.dehaan@gmail.com>',\n",
       " 'redistribution',\n",
       " 'modification,',\n",
       " 'redistributions',\n",
       " 'redistributions',\n",
       " 'documentation',\n",
       " 'distribution.',\n",
       " 'merchantability',\n",
       " 'consequential',\n",
       " 'interruption)',\n",
       " 'redistribution',\n",
       " 'modification,',\n",
       " 'redistributions',\n",
       " 'redistributions',\n",
       " 'documentation',\n",
       " 'distribution.',\n",
       " 'merchantability',\n",
       " 'consequential',\n",
       " 'interruption)',\n",
       " 'redistribution',\n",
       " 'modification,',\n",
       " 'redistributions',\n",
       " 'redistributions',\n",
       " 'documentation',\n",
       " 'distribution.',\n",
       " 'merchantability',\n",
       " 'consequential',\n",
       " 'interruption)',\n",
       " 'redistribution',\n",
       " 'modification,',\n",
       " 'redistributions',\n",
       " 'redistributions',\n",
       " 'documentation',\n",
       " 'distribution.',\n",
       " 'merchantability',\n",
       " 'consequential',\n",
       " 'interruption)',\n",
       " 'documentation',\n",
       " 'merchantability,',\n",
       " 'noninfringement.',\n",
       " \"prud'hommeaux\",\n",
       " '<mwp1@cornell.edu>',\n",
       " 'redistribution',\n",
       " 'modification,',\n",
       " 'redistributions',\n",
       " 'redistributions',\n",
       " 'documentation',\n",
       " 'distribution.',\n",
       " 'merchantability',\n",
       " 'consequential',\n",
       " 'interruption)',\n",
       " '2016-present,',\n",
       " 'redistribution',\n",
       " 'modification,',\n",
       " 'redistributions',\n",
       " 'redistributions',\n",
       " 'documentation',\n",
       " 'distribution.',\n",
       " 'merchantability',\n",
       " 'consequential',\n",
       " 'interruption)',\n",
       " 'documentation',\n",
       " 'merchantability,',\n",
       " 'noninfringement.',\n",
       " 'documentation',\n",
       " 'merchantability,',\n",
       " 'noninfringement.',\n",
       " 'http://www.opensource.org/licenses/bsd-license.php',\n",
       " 'redistribution',\n",
       " 'modification,',\n",
       " 'redistributions',\n",
       " 'redistributions',\n",
       " 'documentation',\n",
       " 'distribution.',\n",
       " 'merchantability',\n",
       " 'consequential',\n",
       " 'interruption)',\n",
       " 'redistribution',\n",
       " 'modification,',\n",
       " 'redistributions',\n",
       " 'redistributions',\n",
       " 'documentation',\n",
       " 'distribution.',\n",
       " 'merchantability',\n",
       " 'consequential',\n",
       " 'interruption)',\n",
       " 'documentation',\n",
       " 'merchantability,',\n",
       " 'noninfringement.',\n",
       " '<djm@mindrot.org>',\n",
       " 'merchantability',\n",
       " 'consequential',\n",
       " '(http://javolution.org/)',\n",
       " 'redistribution',\n",
       " 'modification,',\n",
       " 'redistributions',\n",
       " 'redistributions',\n",
       " 'documentation',\n",
       " 'distribution.',\n",
       " 'merchantability',\n",
       " 'consequential',\n",
       " 'interruption)',\n",
       " 'redistribution',\n",
       " 'modification,',\n",
       " 'redistributions',\n",
       " 'redistributions',\n",
       " 'documentation',\n",
       " 'distribution.',\n",
       " 'merchantability',\n",
       " 'consequential',\n",
       " 'interruption)',\n",
       " 'redistribution',\n",
       " 'modification,',\n",
       " 'redistributions',\n",
       " 'redistributions',\n",
       " 'documentation',\n",
       " 'distribution.',\n",
       " 'merchantability',\n",
       " 'consequential',\n",
       " 'interruption)',\n",
       " 'documentation',\n",
       " 'merchantability,',\n",
       " 'noninfringement.',\n",
       " 'redistribution',\n",
       " 'modification,',\n",
       " 'redistributions',\n",
       " 'redistributions',\n",
       " 'documentation',\n",
       " 'distribution.',\n",
       " 'merchantability',\n",
       " 'consequential',\n",
       " 'interruption)',\n",
       " 'redistributions',\n",
       " 'redistributions',\n",
       " 'documentation',\n",
       " 'distribution.',\n",
       " 'merchantability',\n",
       " 'consequential',\n",
       " 'interruption)',\n",
       " '(irmen@razorvine.net).',\n",
       " 'documentation',\n",
       " 'merchantability,',\n",
       " 'noninfringement.',\n",
       " 'osi-certified,',\n",
       " 'gpl-compatible.',\n",
       " 'http://www.opensource.org/licenses/mit-license.php']"
      ]
     },
     "execution_count": 78,
     "metadata": {},
     "output_type": "execute_result"
    }
   ],
   "source": [
    "longwords.collect()"
   ]
  },
  {
   "cell_type": "code",
   "execution_count": 79,
   "metadata": {},
   "outputs": [],
   "source": [
    "longwords.foreach(lambda x: print(x))"
   ]
  },
  {
   "cell_type": "code",
   "execution_count": 80,
   "metadata": {},
   "outputs": [],
   "source": [
    "locations = [('Hayward', 'USA', 1)\n",
    "            ,('北京', '中国', 2)\n",
    "            ,('东京', '日本', 3)\n",
    "            ,('柏林', '德国', 4)]\n",
    "locations_rdd = sc.parallelize(locations)"
   ]
  },
  {
   "cell_type": "code",
   "execution_count": 81,
   "metadata": {},
   "outputs": [],
   "source": [
    "by_locno_rdd = locations_rdd.keyBy(lambda x: x[2])"
   ]
  },
  {
   "cell_type": "code",
   "execution_count": 82,
   "metadata": {},
   "outputs": [
    {
     "data": {
      "text/plain": [
       "[(1, ('Hayward', 'USA', 1)),\n",
       " (2, ('北京', '中国', 2)),\n",
       " (3, ('东京', '日本', 3)),\n",
       " (4, ('柏林', '德国', 4))]"
      ]
     },
     "execution_count": 82,
     "metadata": {},
     "output_type": "execute_result"
    }
   ],
   "source": [
    "by_locno_rdd.collect()"
   ]
  },
  {
   "cell_type": "code",
   "execution_count": 83,
   "metadata": {},
   "outputs": [],
   "source": [
    "temps = ['Hayward,71|69|71|71|72',\n",
    "'Baumholder,46|42|40|37|39',\n",
    "'Alexandria,50|48|51|53|44',\n",
    "'Melbourne,88|101|85|77|74']\n",
    "locwtemps = sc.parallelize(temps)"
   ]
  },
  {
   "cell_type": "code",
   "execution_count": 84,
   "metadata": {},
   "outputs": [],
   "source": [
    "kv = locwtemps.map(lambda x: x.split(','))"
   ]
  },
  {
   "cell_type": "code",
   "execution_count": 85,
   "metadata": {},
   "outputs": [
    {
     "data": {
      "text/plain": [
       "[['Hayward', '71|69|71|71|72'],\n",
       " ['Baumholder', '46|42|40|37|39'],\n",
       " ['Alexandria', '50|48|51|53|44'],\n",
       " ['Melbourne', '88|101|85|77|74']]"
      ]
     },
     "execution_count": 85,
     "metadata": {},
     "output_type": "execute_result"
    }
   ],
   "source": [
    "kv.collect()"
   ]
  },
  {
   "cell_type": "code",
   "execution_count": 86,
   "metadata": {},
   "outputs": [],
   "source": [
    "city_temps = kv.mapValues(lambda x: x.split('|')).mapValues(lambda x: [int(s) for s in x])"
   ]
  },
  {
   "cell_type": "code",
   "execution_count": 87,
   "metadata": {},
   "outputs": [
    {
     "data": {
      "text/plain": [
       "[('Hayward', [71, 69, 71, 71, 72]),\n",
       " ('Baumholder', [46, 42, 40, 37, 39]),\n",
       " ('Alexandria', [50, 48, 51, 53, 44]),\n",
       " ('Melbourne', [88, 101, 85, 77, 74])]"
      ]
     },
     "execution_count": 87,
     "metadata": {},
     "output_type": "execute_result"
    }
   ],
   "source": [
    "city_temps.collect()"
   ]
  },
  {
   "cell_type": "code",
   "execution_count": 88,
   "metadata": {},
   "outputs": [],
   "source": [
    "flat_city_temps = kv.flatMapValues(lambda x: x.split('|')).map(lambda x: (x[0], int(x[1])))"
   ]
  },
  {
   "cell_type": "code",
   "execution_count": 89,
   "metadata": {},
   "outputs": [
    {
     "data": {
      "text/plain": [
       "[('Hayward', 71),\n",
       " ('Hayward', 69),\n",
       " ('Hayward', 71),\n",
       " ('Hayward', 71),\n",
       " ('Hayward', 72),\n",
       " ('Baumholder', 46),\n",
       " ('Baumholder', 42),\n",
       " ('Baumholder', 40),\n",
       " ('Baumholder', 37),\n",
       " ('Baumholder', 39),\n",
       " ('Alexandria', 50),\n",
       " ('Alexandria', 48),\n",
       " ('Alexandria', 51),\n",
       " ('Alexandria', 53),\n",
       " ('Alexandria', 44),\n",
       " ('Melbourne', 88),\n",
       " ('Melbourne', 101),\n",
       " ('Melbourne', 85),\n",
       " ('Melbourne', 77),\n",
       " ('Melbourne', 74)]"
      ]
     },
     "execution_count": 89,
     "metadata": {},
     "output_type": "execute_result"
    }
   ],
   "source": [
    "flat_city_temps.collect()"
   ]
  },
  {
   "cell_type": "code",
   "execution_count": 103,
   "metadata": {},
   "outputs": [],
   "source": [
    "grouped = flat_city_temps.groupByKey()"
   ]
  },
  {
   "cell_type": "code",
   "execution_count": 104,
   "metadata": {},
   "outputs": [
    {
     "data": {
      "text/plain": [
       "[('Hayward', <pyspark.resultiterable.ResultIterable at 0x7fe70a813160>),\n",
       " ('Baumholder', <pyspark.resultiterable.ResultIterable at 0x7fe70a8134a8>),\n",
       " ('Alexandria', <pyspark.resultiterable.ResultIterable at 0x7fe70a813518>),\n",
       " ('Melbourne', <pyspark.resultiterable.ResultIterable at 0x7fe70a8134e0>)]"
      ]
     },
     "execution_count": 104,
     "metadata": {},
     "output_type": "execute_result"
    }
   ],
   "source": [
    "grouped.collect()"
   ]
  },
  {
   "cell_type": "code",
   "execution_count": 105,
   "metadata": {},
   "outputs": [],
   "source": [
    "avg_temps = grouped.mapValues(lambda x: sum(x)/len(x))"
   ]
  },
  {
   "cell_type": "code",
   "execution_count": 106,
   "metadata": {},
   "outputs": [
    {
     "data": {
      "text/plain": [
       "[('Hayward', 70.8),\n",
       " ('Baumholder', 40.8),\n",
       " ('Alexandria', 49.2),\n",
       " ('Melbourne', 85.0)]"
      ]
     },
     "execution_count": 106,
     "metadata": {},
     "output_type": "execute_result"
    }
   ],
   "source": [
    "avg_temps.collect()"
   ]
  },
  {
   "cell_type": "code",
   "execution_count": 107,
   "metadata": {},
   "outputs": [],
   "source": [
    "temptups = flat_city_temps.mapValues(lambda x: (x, 1))"
   ]
  },
  {
   "cell_type": "code",
   "execution_count": 108,
   "metadata": {},
   "outputs": [
    {
     "data": {
      "text/plain": [
       "[('Hayward', (71, 1))]"
      ]
     },
     "execution_count": 108,
     "metadata": {},
     "output_type": "execute_result"
    }
   ],
   "source": [
    "temptups.take(1)"
   ]
  },
  {
   "cell_type": "code",
   "execution_count": 109,
   "metadata": {},
   "outputs": [
    {
     "data": {
      "text/plain": [
       "[('Hayward', (71, 1)),\n",
       " ('Hayward', (69, 1)),\n",
       " ('Hayward', (71, 1)),\n",
       " ('Hayward', (71, 1)),\n",
       " ('Hayward', (72, 1)),\n",
       " ('Baumholder', (46, 1)),\n",
       " ('Baumholder', (42, 1)),\n",
       " ('Baumholder', (40, 1)),\n",
       " ('Baumholder', (37, 1)),\n",
       " ('Baumholder', (39, 1)),\n",
       " ('Alexandria', (50, 1)),\n",
       " ('Alexandria', (48, 1)),\n",
       " ('Alexandria', (51, 1)),\n",
       " ('Alexandria', (53, 1)),\n",
       " ('Alexandria', (44, 1)),\n",
       " ('Melbourne', (88, 1)),\n",
       " ('Melbourne', (101, 1)),\n",
       " ('Melbourne', (85, 1)),\n",
       " ('Melbourne', (77, 1)),\n",
       " ('Melbourne', (74, 1))]"
      ]
     },
     "execution_count": 109,
     "metadata": {},
     "output_type": "execute_result"
    }
   ],
   "source": [
    "temptups.collect()"
   ]
  },
  {
   "cell_type": "code",
   "execution_count": 110,
   "metadata": {},
   "outputs": [],
   "source": [
    "inputs_to_avg = temptups.reduceByKey(lambda x, y: (x[0] + y[0], x[1] + y[1]))"
   ]
  },
  {
   "cell_type": "code",
   "execution_count": 111,
   "metadata": {},
   "outputs": [
    {
     "data": {
      "text/plain": [
       "[('Hayward', (354, 5)),\n",
       " ('Baumholder', (204, 5)),\n",
       " ('Alexandria', (246, 5)),\n",
       " ('Melbourne', (425, 5))]"
      ]
     },
     "execution_count": 111,
     "metadata": {},
     "output_type": "execute_result"
    }
   ],
   "source": [
    "inputs_to_avg.collect()"
   ]
  },
  {
   "cell_type": "code",
   "execution_count": 112,
   "metadata": {},
   "outputs": [],
   "source": [
    "avgs = inputs_to_avg.map(lambda x: (x[0], x[1][0]/x[1][1]))"
   ]
  },
  {
   "cell_type": "code",
   "execution_count": 113,
   "metadata": {},
   "outputs": [
    {
     "data": {
      "text/plain": [
       "[('Hayward', 70.8),\n",
       " ('Baumholder', 40.8),\n",
       " ('Alexandria', 49.2),\n",
       " ('Melbourne', 85.0)]"
      ]
     },
     "execution_count": 113,
     "metadata": {},
     "output_type": "execute_result"
    }
   ],
   "source": [
    "avgs.collect()"
   ]
  },
  {
   "cell_type": "code",
   "execution_count": 114,
   "metadata": {},
   "outputs": [],
   "source": [
    "max_city = flat_city_temps.foldByKey(0, lambda x, y: x if x > y else y)"
   ]
  },
  {
   "cell_type": "code",
   "execution_count": 115,
   "metadata": {},
   "outputs": [
    {
     "data": {
      "text/plain": [
       "[('Hayward', 72), ('Baumholder', 46), ('Alexandria', 53), ('Melbourne', 101)]"
      ]
     },
     "execution_count": 115,
     "metadata": {},
     "output_type": "execute_result"
    }
   ],
   "source": [
    "max_city.collect()"
   ]
  },
  {
   "cell_type": "code",
   "execution_count": 116,
   "metadata": {},
   "outputs": [],
   "source": [
    "sorted_by_key = flat_city_temps.sortByKey()"
   ]
  },
  {
   "cell_type": "code",
   "execution_count": 117,
   "metadata": {},
   "outputs": [
    {
     "data": {
      "text/plain": [
       "[('Alexandria', 50),\n",
       " ('Alexandria', 48),\n",
       " ('Alexandria', 51),\n",
       " ('Alexandria', 53),\n",
       " ('Alexandria', 44),\n",
       " ('Baumholder', 46),\n",
       " ('Baumholder', 42),\n",
       " ('Baumholder', 40),\n",
       " ('Baumholder', 37),\n",
       " ('Baumholder', 39),\n",
       " ('Hayward', 71),\n",
       " ('Hayward', 69),\n",
       " ('Hayward', 71),\n",
       " ('Hayward', 71),\n",
       " ('Hayward', 72),\n",
       " ('Melbourne', 88),\n",
       " ('Melbourne', 101),\n",
       " ('Melbourne', 85),\n",
       " ('Melbourne', 77),\n",
       " ('Melbourne', 74)]"
      ]
     },
     "execution_count": 117,
     "metadata": {},
     "output_type": "execute_result"
    }
   ],
   "source": [
    "sorted_by_key.collect()"
   ]
  },
  {
   "cell_type": "code",
   "execution_count": 118,
   "metadata": {},
   "outputs": [],
   "source": [
    "sorted_by_val = flat_city_temps.map(lambda x: (x[1], x[0])).sortByKey(ascending=False)"
   ]
  },
  {
   "cell_type": "code",
   "execution_count": 119,
   "metadata": {},
   "outputs": [
    {
     "data": {
      "text/plain": [
       "[(101, 'Melbourne'),\n",
       " (88, 'Melbourne'),\n",
       " (85, 'Melbourne'),\n",
       " (77, 'Melbourne'),\n",
       " (74, 'Melbourne'),\n",
       " (72, 'Hayward'),\n",
       " (71, 'Hayward'),\n",
       " (71, 'Hayward'),\n",
       " (71, 'Hayward'),\n",
       " (69, 'Hayward'),\n",
       " (53, 'Alexandria'),\n",
       " (51, 'Alexandria'),\n",
       " (50, 'Alexandria'),\n",
       " (48, 'Alexandria'),\n",
       " (46, 'Baumholder'),\n",
       " (44, 'Alexandria'),\n",
       " (42, 'Baumholder'),\n",
       " (40, 'Baumholder'),\n",
       " (39, 'Baumholder'),\n",
       " (37, 'Baumholder')]"
      ]
     },
     "execution_count": 119,
     "metadata": {},
     "output_type": "execute_result"
    }
   ],
   "source": [
    "sorted_by_val.collect()"
   ]
  },
  {
   "cell_type": "code",
   "execution_count": 120,
   "metadata": {},
   "outputs": [],
   "source": [
    "import re"
   ]
  },
  {
   "cell_type": "code",
   "execution_count": 121,
   "metadata": {},
   "outputs": [],
   "source": [
    "doc = sc.textFile('file:///opt/data/txt/shakespeare.txt')"
   ]
  },
  {
   "cell_type": "code",
   "execution_count": 122,
   "metadata": {},
   "outputs": [],
   "source": [
    "flattened = doc.filter(lambda line: len(line) > 0).flatMap(lambda line: re.split('\\W+', line))"
   ]
  },
  {
   "cell_type": "code",
   "execution_count": 123,
   "metadata": {},
   "outputs": [
    {
     "data": {
      "text/plain": [
       "['A', 'MIDSUMMER', 'NIGHT', 'S', 'DREAM', 'Now']"
      ]
     },
     "execution_count": 123,
     "metadata": {},
     "output_type": "execute_result"
    }
   ],
   "source": [
    "flattened.take(6)"
   ]
  },
  {
   "cell_type": "code",
   "execution_count": 124,
   "metadata": {},
   "outputs": [
    {
     "data": {
      "text/plain": [
       "932868"
      ]
     },
     "execution_count": 124,
     "metadata": {},
     "output_type": "execute_result"
    }
   ],
   "source": [
    "flattened.count()"
   ]
  },
  {
   "cell_type": "code",
   "execution_count": 125,
   "metadata": {},
   "outputs": [],
   "source": [
    "kvs = flattened.filter(lambda word: len(word) > 0).map(lambda word: (word.lower(), 1))"
   ]
  },
  {
   "cell_type": "code",
   "execution_count": 126,
   "metadata": {},
   "outputs": [
    {
     "data": {
      "text/plain": [
       "[('a', 1), ('midsummer', 1), ('night', 1), ('s', 1), ('dream', 1)]"
      ]
     },
     "execution_count": 126,
     "metadata": {},
     "output_type": "execute_result"
    }
   ],
   "source": [
    "kvs.take(5)"
   ]
  },
  {
   "cell_type": "code",
   "execution_count": 127,
   "metadata": {},
   "outputs": [],
   "source": [
    "counts_by_word = kvs.reduceByKey(lambda v1, v2: v1 + v2).sortByKey(ascending=False)"
   ]
  },
  {
   "cell_type": "code",
   "execution_count": 128,
   "metadata": {},
   "outputs": [
    {
     "data": {
      "text/plain": [
       "22996"
      ]
     },
     "execution_count": 128,
     "metadata": {},
     "output_type": "execute_result"
    }
   ],
   "source": [
    "counts_by_word.count()"
   ]
  },
  {
   "cell_type": "code",
   "execution_count": 129,
   "metadata": {},
   "outputs": [
    {
     "data": {
      "text/plain": [
       "[('zwaggered', 1), ('zur', 2), ('zounds', 19), ('zone', 1), ('zodiacs', 1)]"
      ]
     },
     "execution_count": 129,
     "metadata": {},
     "output_type": "execute_result"
    }
   ],
   "source": [
    "counts_by_word.take(5)"
   ]
  },
  {
   "cell_type": "code",
   "execution_count": 130,
   "metadata": {},
   "outputs": [],
   "source": [
    "top_words = counts_by_word.map(lambda x: (x[1], x[0])).sortByKey(ascending=False)"
   ]
  },
  {
   "cell_type": "code",
   "execution_count": 131,
   "metadata": {},
   "outputs": [
    {
     "data": {
      "text/plain": [
       "[(26856, 'the'), (24116, 'and'), (22412, 'i'), (19225, 'to'), (16018, 'of')]"
      ]
     },
     "execution_count": 131,
     "metadata": {},
     "output_type": "execute_result"
    }
   ],
   "source": [
    "top_words.take(5)"
   ]
  },
  {
   "cell_type": "code",
   "execution_count": null,
   "metadata": {},
   "outputs": [],
   "source": []
  }
 ],
 "metadata": {
  "kernelspec": {
   "display_name": "Python 3",
   "language": "python",
   "name": "python3"
  },
  "language_info": {
   "codemirror_mode": {
    "name": "ipython",
    "version": 3
   },
   "file_extension": ".py",
   "mimetype": "text/x-python",
   "name": "python",
   "nbconvert_exporter": "python",
   "pygments_lexer": "ipython3",
   "version": "3.6.7"
  }
 },
 "nbformat": 4,
 "nbformat_minor": 2
}
