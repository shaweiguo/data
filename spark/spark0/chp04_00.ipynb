{
 "cells": [
  {
   "cell_type": "code",
   "execution_count": 1,
   "metadata": {},
   "outputs": [],
   "source": [
    "import findspark\n",
    "findspark.init()\n",
    "\n",
    "import pyspark\n",
    "from pyspark.sql import SparkSession\n",
    "import pyspark.sql.types as typ\n",
    "\n",
    "# sc = pyspark.SparkContext(appName=\"chp04\")\n",
    "spark = SparkSession.builder.getOrCreate()\n",
    "sc = spark.sparkContext"
   ]
  },
  {
   "cell_type": "code",
   "execution_count": 2,
   "metadata": {},
   "outputs": [
    {
     "name": "stdout",
     "output_type": "stream",
     "text": [
      "\"custID\",\"gender\",\"state\",\"cardholder\",\"balance\",\"numTrans\",\"numIntlTrans\",\"creditLine\",\"fraudRisk\"\n",
      "fields:\n",
      " [StructField(custID,IntegerType,true), StructField(gender,IntegerType,true), StructField(state,IntegerType,true), StructField(cardholder,IntegerType,true), StructField(balance,IntegerType,true), StructField(numTrans,IntegerType,true), StructField(numIntlTrans,IntegerType,true), StructField(creditLine,IntegerType,true), StructField(fraudRisk,IntegerType,true)]\n",
      "schema:\n",
      " StructType(List(StructField(custID,IntegerType,true),StructField(gender,IntegerType,true),StructField(state,IntegerType,true),StructField(cardholder,IntegerType,true),StructField(balance,IntegerType,true),StructField(numTrans,IntegerType,true),StructField(numIntlTrans,IntegerType,true),StructField(creditLine,IntegerType,true),StructField(fraudRisk,IntegerType,true)))\n"
     ]
    }
   ],
   "source": [
    "fraud = sc.textFile('/home/sha/data/ccFraud.csv.gz')\n",
    "header = fraud.first()\n",
    "print(header)\n",
    "\n",
    "fraud = fraud.filter(lambda row: row != header).map(lambda row: [int(elem) for elem in row.split(',')])\n",
    "\n",
    "fields = [*[\n",
    "    typ.StructField(h[1:-1], typ.IntegerType(), True) for h in header.split(',')\n",
    "]]\n",
    "print(\"fields:\\n\", fields)\n",
    "schema = typ.StructType(fields)\n",
    "print(\"schema:\\n\", schema)"
   ]
  },
  {
   "cell_type": "code",
   "execution_count": 3,
   "metadata": {},
   "outputs": [
    {
     "name": "stdout",
     "output_type": "stream",
     "text": [
      "root\n",
      " |-- custID: integer (nullable = true)\n",
      " |-- gender: integer (nullable = true)\n",
      " |-- state: integer (nullable = true)\n",
      " |-- cardholder: integer (nullable = true)\n",
      " |-- balance: integer (nullable = true)\n",
      " |-- numTrans: integer (nullable = true)\n",
      " |-- numIntlTrans: integer (nullable = true)\n",
      " |-- creditLine: integer (nullable = true)\n",
      " |-- fraudRisk: integer (nullable = true)\n",
      "\n"
     ]
    }
   ],
   "source": [
    "fraud_df = spark.createDataFrame(fraud, schema)\n",
    "fraud_df.printSchema()"
   ]
  },
  {
   "cell_type": "code",
   "execution_count": 4,
   "metadata": {},
   "outputs": [
    {
     "name": "stdout",
     "output_type": "stream",
     "text": [
      "+------+-------+\n",
      "|gender|  count|\n",
      "+------+-------+\n",
      "|     1|6178231|\n",
      "|     2|3821769|\n",
      "+------+-------+\n",
      "\n"
     ]
    }
   ],
   "source": [
    "fraud_df.groupby('gender').count().show()"
   ]
  },
  {
   "cell_type": "code",
   "execution_count": 5,
   "metadata": {},
   "outputs": [
    {
     "name": "stdout",
     "output_type": "stream",
     "text": [
      "+-------+-----------------+------------------+-----------------+\n",
      "|summary|          balance|          numTrans|     numIntlTrans|\n",
      "+-------+-----------------+------------------+-----------------+\n",
      "|  count|         10000000|          10000000|         10000000|\n",
      "|   mean|     4109.9199193|        28.9351871|        4.0471899|\n",
      "| stddev|3996.847309737077|26.553781024522852|8.602970115863767|\n",
      "|    min|                0|                 0|                0|\n",
      "|    max|            41485|               100|               60|\n",
      "+-------+-----------------+------------------+-----------------+\n",
      "\n",
      "104.77940214699993\n"
     ]
    }
   ],
   "source": [
    "import timeit\n",
    "start = timeit.default_timer()\n",
    "\n",
    "numerical = ['balance', 'numTrans', 'numIntlTrans']\n",
    "desc = fraud_df.describe(numerical)\n",
    "desc.show()\n",
    "\n",
    "end = timeit.default_timer()\n",
    "print(str(end - start))"
   ]
  },
  {
   "cell_type": "code",
   "execution_count": 6,
   "metadata": {},
   "outputs": [
    {
     "name": "stdout",
     "output_type": "stream",
     "text": [
      "+------------------+\n",
      "| skewness(balance)|\n",
      "+------------------+\n",
      "|1.1818315552995033|\n",
      "+------------------+\n",
      "\n"
     ]
    }
   ],
   "source": [
    "fraud_df.agg({'balance': 'skewness'}).show()"
   ]
  },
  {
   "cell_type": "code",
   "execution_count": 7,
   "metadata": {},
   "outputs": [
    {
     "name": "stdout",
     "output_type": "stream",
     "text": [
      "corr:\n",
      " [[1.0, 0.00044523140172659576, 0.00027139913398184604], [None, 1.0, -0.0002805712819816179], [None, None, 1.0]]\n",
      "626.3268983790003\n"
     ]
    }
   ],
   "source": [
    "start = timeit.default_timer()\n",
    "\n",
    "n_numerical = len(numerical)\n",
    "\n",
    "corr = []\n",
    "\n",
    "for i in range(0, n_numerical):\n",
    "    temp = [None] * i\n",
    "    \n",
    "    for j in range(i, n_numerical):\n",
    "        temp.append(fraud_df.corr(numerical[i], numerical[j]))\n",
    "    corr.append(temp)\n",
    "\n",
    "print('corr:\\n', corr)\n",
    "\n",
    "end = timeit.default_timer()\n",
    "print(str(end - start))"
   ]
  },
  {
   "cell_type": "code",
   "execution_count": 9,
   "metadata": {},
   "outputs": [
    {
     "data": {
      "text/html": [
       "\n",
       "    <div class=\"bk-root\">\n",
       "        <a href=\"https://bokeh.pydata.org\" target=\"_blank\" class=\"bk-logo bk-logo-small bk-logo-notebook\"></a>\n",
       "        <span id=\"07875170-9f85-48f5-aeda-a56c98117533\">Loading BokehJS ...</span>\n",
       "    </div>"
      ]
     },
     "metadata": {},
     "output_type": "display_data"
    },
    {
     "data": {
      "application/javascript": [
       "\n",
       "(function(root) {\n",
       "  function now() {\n",
       "    return new Date();\n",
       "  }\n",
       "\n",
       "  var force = true;\n",
       "\n",
       "  if (typeof (root._bokeh_onload_callbacks) === \"undefined\" || force === true) {\n",
       "    root._bokeh_onload_callbacks = [];\n",
       "    root._bokeh_is_loading = undefined;\n",
       "  }\n",
       "\n",
       "  var JS_MIME_TYPE = 'application/javascript';\n",
       "  var HTML_MIME_TYPE = 'text/html';\n",
       "  var EXEC_MIME_TYPE = 'application/vnd.bokehjs_exec.v0+json';\n",
       "  var CLASS_NAME = 'output_bokeh rendered_html';\n",
       "\n",
       "  /**\n",
       "   * Render data to the DOM node\n",
       "   */\n",
       "  function render(props, node) {\n",
       "    var script = document.createElement(\"script\");\n",
       "    node.appendChild(script);\n",
       "  }\n",
       "\n",
       "  /**\n",
       "   * Handle when an output is cleared or removed\n",
       "   */\n",
       "  function handleClearOutput(event, handle) {\n",
       "    var cell = handle.cell;\n",
       "\n",
       "    var id = cell.output_area._bokeh_element_id;\n",
       "    var server_id = cell.output_area._bokeh_server_id;\n",
       "    // Clean up Bokeh references\n",
       "    if (id != null && id in Bokeh.index) {\n",
       "      Bokeh.index[id].model.document.clear();\n",
       "      delete Bokeh.index[id];\n",
       "    }\n",
       "\n",
       "    if (server_id !== undefined) {\n",
       "      // Clean up Bokeh references\n",
       "      var cmd = \"from bokeh.io.state import curstate; print(curstate().uuid_to_server['\" + server_id + \"'].get_sessions()[0].document.roots[0]._id)\";\n",
       "      cell.notebook.kernel.execute(cmd, {\n",
       "        iopub: {\n",
       "          output: function(msg) {\n",
       "            var id = msg.content.text.trim();\n",
       "            if (id in Bokeh.index) {\n",
       "              Bokeh.index[id].model.document.clear();\n",
       "              delete Bokeh.index[id];\n",
       "            }\n",
       "          }\n",
       "        }\n",
       "      });\n",
       "      // Destroy server and session\n",
       "      var cmd = \"import bokeh.io.notebook as ion; ion.destroy_server('\" + server_id + \"')\";\n",
       "      cell.notebook.kernel.execute(cmd);\n",
       "    }\n",
       "  }\n",
       "\n",
       "  /**\n",
       "   * Handle when a new output is added\n",
       "   */\n",
       "  function handleAddOutput(event, handle) {\n",
       "    var output_area = handle.output_area;\n",
       "    var output = handle.output;\n",
       "\n",
       "    // limit handleAddOutput to display_data with EXEC_MIME_TYPE content only\n",
       "    if ((output.output_type != \"display_data\") || (!output.data.hasOwnProperty(EXEC_MIME_TYPE))) {\n",
       "      return\n",
       "    }\n",
       "\n",
       "    var toinsert = output_area.element.find(\".\" + CLASS_NAME.split(' ')[0]);\n",
       "\n",
       "    if (output.metadata[EXEC_MIME_TYPE][\"id\"] !== undefined) {\n",
       "      toinsert[toinsert.length - 1].firstChild.textContent = output.data[JS_MIME_TYPE];\n",
       "      // store reference to embed id on output_area\n",
       "      output_area._bokeh_element_id = output.metadata[EXEC_MIME_TYPE][\"id\"];\n",
       "    }\n",
       "    if (output.metadata[EXEC_MIME_TYPE][\"server_id\"] !== undefined) {\n",
       "      var bk_div = document.createElement(\"div\");\n",
       "      bk_div.innerHTML = output.data[HTML_MIME_TYPE];\n",
       "      var script_attrs = bk_div.children[0].attributes;\n",
       "      for (var i = 0; i < script_attrs.length; i++) {\n",
       "        toinsert[toinsert.length - 1].firstChild.setAttribute(script_attrs[i].name, script_attrs[i].value);\n",
       "      }\n",
       "      // store reference to server id on output_area\n",
       "      output_area._bokeh_server_id = output.metadata[EXEC_MIME_TYPE][\"server_id\"];\n",
       "    }\n",
       "  }\n",
       "\n",
       "  function register_renderer(events, OutputArea) {\n",
       "\n",
       "    function append_mime(data, metadata, element) {\n",
       "      // create a DOM node to render to\n",
       "      var toinsert = this.create_output_subarea(\n",
       "        metadata,\n",
       "        CLASS_NAME,\n",
       "        EXEC_MIME_TYPE\n",
       "      );\n",
       "      this.keyboard_manager.register_events(toinsert);\n",
       "      // Render to node\n",
       "      var props = {data: data, metadata: metadata[EXEC_MIME_TYPE]};\n",
       "      render(props, toinsert[toinsert.length - 1]);\n",
       "      element.append(toinsert);\n",
       "      return toinsert\n",
       "    }\n",
       "\n",
       "    /* Handle when an output is cleared or removed */\n",
       "    events.on('clear_output.CodeCell', handleClearOutput);\n",
       "    events.on('delete.Cell', handleClearOutput);\n",
       "\n",
       "    /* Handle when a new output is added */\n",
       "    events.on('output_added.OutputArea', handleAddOutput);\n",
       "\n",
       "    /**\n",
       "     * Register the mime type and append_mime function with output_area\n",
       "     */\n",
       "    OutputArea.prototype.register_mime_type(EXEC_MIME_TYPE, append_mime, {\n",
       "      /* Is output safe? */\n",
       "      safe: true,\n",
       "      /* Index of renderer in `output_area.display_order` */\n",
       "      index: 0\n",
       "    });\n",
       "  }\n",
       "\n",
       "  // register the mime type if in Jupyter Notebook environment and previously unregistered\n",
       "  if (root.Jupyter !== undefined) {\n",
       "    var events = require('base/js/events');\n",
       "    var OutputArea = require('notebook/js/outputarea').OutputArea;\n",
       "\n",
       "    if (OutputArea.prototype.mime_types().indexOf(EXEC_MIME_TYPE) == -1) {\n",
       "      register_renderer(events, OutputArea);\n",
       "    }\n",
       "  }\n",
       "\n",
       "  \n",
       "  if (typeof (root._bokeh_timeout) === \"undefined\" || force === true) {\n",
       "    root._bokeh_timeout = Date.now() + 5000;\n",
       "    root._bokeh_failed_load = false;\n",
       "  }\n",
       "\n",
       "  var NB_LOAD_WARNING = {'data': {'text/html':\n",
       "     \"<div style='background-color: #fdd'>\\n\"+\n",
       "     \"<p>\\n\"+\n",
       "     \"BokehJS does not appear to have successfully loaded. If loading BokehJS from CDN, this \\n\"+\n",
       "     \"may be due to a slow or bad network connection. Possible fixes:\\n\"+\n",
       "     \"</p>\\n\"+\n",
       "     \"<ul>\\n\"+\n",
       "     \"<li>re-rerun `output_notebook()` to attempt to load from CDN again, or</li>\\n\"+\n",
       "     \"<li>use INLINE resources instead, as so:</li>\\n\"+\n",
       "     \"</ul>\\n\"+\n",
       "     \"<code>\\n\"+\n",
       "     \"from bokeh.resources import INLINE\\n\"+\n",
       "     \"output_notebook(resources=INLINE)\\n\"+\n",
       "     \"</code>\\n\"+\n",
       "     \"</div>\"}};\n",
       "\n",
       "  function display_loaded() {\n",
       "    var el = document.getElementById(\"07875170-9f85-48f5-aeda-a56c98117533\");\n",
       "    if (el != null) {\n",
       "      el.textContent = \"BokehJS is loading...\";\n",
       "    }\n",
       "    if (root.Bokeh !== undefined) {\n",
       "      if (el != null) {\n",
       "        el.textContent = \"BokehJS \" + root.Bokeh.version + \" successfully loaded.\";\n",
       "      }\n",
       "    } else if (Date.now() < root._bokeh_timeout) {\n",
       "      setTimeout(display_loaded, 100)\n",
       "    }\n",
       "  }\n",
       "\n",
       "\n",
       "  function run_callbacks() {\n",
       "    try {\n",
       "      root._bokeh_onload_callbacks.forEach(function(callback) { callback() });\n",
       "    }\n",
       "    finally {\n",
       "      delete root._bokeh_onload_callbacks\n",
       "    }\n",
       "    console.info(\"Bokeh: all callbacks have finished\");\n",
       "  }\n",
       "\n",
       "  function load_libs(js_urls, callback) {\n",
       "    root._bokeh_onload_callbacks.push(callback);\n",
       "    if (root._bokeh_is_loading > 0) {\n",
       "      console.log(\"Bokeh: BokehJS is being loaded, scheduling callback at\", now());\n",
       "      return null;\n",
       "    }\n",
       "    if (js_urls == null || js_urls.length === 0) {\n",
       "      run_callbacks();\n",
       "      return null;\n",
       "    }\n",
       "    console.log(\"Bokeh: BokehJS not loaded, scheduling load and callback at\", now());\n",
       "    root._bokeh_is_loading = js_urls.length;\n",
       "    for (var i = 0; i < js_urls.length; i++) {\n",
       "      var url = js_urls[i];\n",
       "      var s = document.createElement('script');\n",
       "      s.src = url;\n",
       "      s.async = false;\n",
       "      s.onreadystatechange = s.onload = function() {\n",
       "        root._bokeh_is_loading--;\n",
       "        if (root._bokeh_is_loading === 0) {\n",
       "          console.log(\"Bokeh: all BokehJS libraries loaded\");\n",
       "          run_callbacks()\n",
       "        }\n",
       "      };\n",
       "      s.onerror = function() {\n",
       "        console.warn(\"failed to load library \" + url);\n",
       "      };\n",
       "      console.log(\"Bokeh: injecting script tag for BokehJS library: \", url);\n",
       "      document.getElementsByTagName(\"head\")[0].appendChild(s);\n",
       "    }\n",
       "  };var element = document.getElementById(\"07875170-9f85-48f5-aeda-a56c98117533\");\n",
       "  if (element == null) {\n",
       "    console.log(\"Bokeh: ERROR: autoload.js configured with elementid '07875170-9f85-48f5-aeda-a56c98117533' but no matching script tag was found. \")\n",
       "    return false;\n",
       "  }\n",
       "\n",
       "  var js_urls = [\"https://cdn.pydata.org/bokeh/release/bokeh-0.13.0.min.js\", \"https://cdn.pydata.org/bokeh/release/bokeh-widgets-0.13.0.min.js\", \"https://cdn.pydata.org/bokeh/release/bokeh-tables-0.13.0.min.js\", \"https://cdn.pydata.org/bokeh/release/bokeh-gl-0.13.0.min.js\"];\n",
       "\n",
       "  var inline_js = [\n",
       "    function(Bokeh) {\n",
       "      Bokeh.set_log_level(\"info\");\n",
       "    },\n",
       "    \n",
       "    function(Bokeh) {\n",
       "      \n",
       "    },\n",
       "    function(Bokeh) {\n",
       "      console.log(\"Bokeh: injecting CSS: https://cdn.pydata.org/bokeh/release/bokeh-0.13.0.min.css\");\n",
       "      Bokeh.embed.inject_css(\"https://cdn.pydata.org/bokeh/release/bokeh-0.13.0.min.css\");\n",
       "      console.log(\"Bokeh: injecting CSS: https://cdn.pydata.org/bokeh/release/bokeh-widgets-0.13.0.min.css\");\n",
       "      Bokeh.embed.inject_css(\"https://cdn.pydata.org/bokeh/release/bokeh-widgets-0.13.0.min.css\");\n",
       "      console.log(\"Bokeh: injecting CSS: https://cdn.pydata.org/bokeh/release/bokeh-tables-0.13.0.min.css\");\n",
       "      Bokeh.embed.inject_css(\"https://cdn.pydata.org/bokeh/release/bokeh-tables-0.13.0.min.css\");\n",
       "    }\n",
       "  ];\n",
       "\n",
       "  function run_inline_js() {\n",
       "    \n",
       "    if ((root.Bokeh !== undefined) || (force === true)) {\n",
       "      for (var i = 0; i < inline_js.length; i++) {\n",
       "        inline_js[i].call(root, root.Bokeh);\n",
       "      }if (force === true) {\n",
       "        display_loaded();\n",
       "      }} else if (Date.now() < root._bokeh_timeout) {\n",
       "      setTimeout(run_inline_js, 100);\n",
       "    } else if (!root._bokeh_failed_load) {\n",
       "      console.log(\"Bokeh: BokehJS failed to load within specified timeout.\");\n",
       "      root._bokeh_failed_load = true;\n",
       "    } else if (force !== true) {\n",
       "      var cell = $(document.getElementById(\"07875170-9f85-48f5-aeda-a56c98117533\")).parents('.cell').data().cell;\n",
       "      cell.output_area.append_execute_result(NB_LOAD_WARNING)\n",
       "    }\n",
       "\n",
       "  }\n",
       "\n",
       "  if (root._bokeh_is_loading === 0) {\n",
       "    console.log(\"Bokeh: BokehJS loaded, going straight to plotting\");\n",
       "    run_inline_js();\n",
       "  } else {\n",
       "    load_libs(js_urls, function() {\n",
       "      console.log(\"Bokeh: BokehJS plotting callback run at\", now());\n",
       "      run_inline_js();\n",
       "    });\n",
       "  }\n",
       "}(window));"
      ],
      "application/vnd.bokehjs_load.v0+json": "\n(function(root) {\n  function now() {\n    return new Date();\n  }\n\n  var force = true;\n\n  if (typeof (root._bokeh_onload_callbacks) === \"undefined\" || force === true) {\n    root._bokeh_onload_callbacks = [];\n    root._bokeh_is_loading = undefined;\n  }\n\n  \n\n  \n  if (typeof (root._bokeh_timeout) === \"undefined\" || force === true) {\n    root._bokeh_timeout = Date.now() + 5000;\n    root._bokeh_failed_load = false;\n  }\n\n  var NB_LOAD_WARNING = {'data': {'text/html':\n     \"<div style='background-color: #fdd'>\\n\"+\n     \"<p>\\n\"+\n     \"BokehJS does not appear to have successfully loaded. If loading BokehJS from CDN, this \\n\"+\n     \"may be due to a slow or bad network connection. Possible fixes:\\n\"+\n     \"</p>\\n\"+\n     \"<ul>\\n\"+\n     \"<li>re-rerun `output_notebook()` to attempt to load from CDN again, or</li>\\n\"+\n     \"<li>use INLINE resources instead, as so:</li>\\n\"+\n     \"</ul>\\n\"+\n     \"<code>\\n\"+\n     \"from bokeh.resources import INLINE\\n\"+\n     \"output_notebook(resources=INLINE)\\n\"+\n     \"</code>\\n\"+\n     \"</div>\"}};\n\n  function display_loaded() {\n    var el = document.getElementById(\"07875170-9f85-48f5-aeda-a56c98117533\");\n    if (el != null) {\n      el.textContent = \"BokehJS is loading...\";\n    }\n    if (root.Bokeh !== undefined) {\n      if (el != null) {\n        el.textContent = \"BokehJS \" + root.Bokeh.version + \" successfully loaded.\";\n      }\n    } else if (Date.now() < root._bokeh_timeout) {\n      setTimeout(display_loaded, 100)\n    }\n  }\n\n\n  function run_callbacks() {\n    try {\n      root._bokeh_onload_callbacks.forEach(function(callback) { callback() });\n    }\n    finally {\n      delete root._bokeh_onload_callbacks\n    }\n    console.info(\"Bokeh: all callbacks have finished\");\n  }\n\n  function load_libs(js_urls, callback) {\n    root._bokeh_onload_callbacks.push(callback);\n    if (root._bokeh_is_loading > 0) {\n      console.log(\"Bokeh: BokehJS is being loaded, scheduling callback at\", now());\n      return null;\n    }\n    if (js_urls == null || js_urls.length === 0) {\n      run_callbacks();\n      return null;\n    }\n    console.log(\"Bokeh: BokehJS not loaded, scheduling load and callback at\", now());\n    root._bokeh_is_loading = js_urls.length;\n    for (var i = 0; i < js_urls.length; i++) {\n      var url = js_urls[i];\n      var s = document.createElement('script');\n      s.src = url;\n      s.async = false;\n      s.onreadystatechange = s.onload = function() {\n        root._bokeh_is_loading--;\n        if (root._bokeh_is_loading === 0) {\n          console.log(\"Bokeh: all BokehJS libraries loaded\");\n          run_callbacks()\n        }\n      };\n      s.onerror = function() {\n        console.warn(\"failed to load library \" + url);\n      };\n      console.log(\"Bokeh: injecting script tag for BokehJS library: \", url);\n      document.getElementsByTagName(\"head\")[0].appendChild(s);\n    }\n  };var element = document.getElementById(\"07875170-9f85-48f5-aeda-a56c98117533\");\n  if (element == null) {\n    console.log(\"Bokeh: ERROR: autoload.js configured with elementid '07875170-9f85-48f5-aeda-a56c98117533' but no matching script tag was found. \")\n    return false;\n  }\n\n  var js_urls = [\"https://cdn.pydata.org/bokeh/release/bokeh-0.13.0.min.js\", \"https://cdn.pydata.org/bokeh/release/bokeh-widgets-0.13.0.min.js\", \"https://cdn.pydata.org/bokeh/release/bokeh-tables-0.13.0.min.js\", \"https://cdn.pydata.org/bokeh/release/bokeh-gl-0.13.0.min.js\"];\n\n  var inline_js = [\n    function(Bokeh) {\n      Bokeh.set_log_level(\"info\");\n    },\n    \n    function(Bokeh) {\n      \n    },\n    function(Bokeh) {\n      console.log(\"Bokeh: injecting CSS: https://cdn.pydata.org/bokeh/release/bokeh-0.13.0.min.css\");\n      Bokeh.embed.inject_css(\"https://cdn.pydata.org/bokeh/release/bokeh-0.13.0.min.css\");\n      console.log(\"Bokeh: injecting CSS: https://cdn.pydata.org/bokeh/release/bokeh-widgets-0.13.0.min.css\");\n      Bokeh.embed.inject_css(\"https://cdn.pydata.org/bokeh/release/bokeh-widgets-0.13.0.min.css\");\n      console.log(\"Bokeh: injecting CSS: https://cdn.pydata.org/bokeh/release/bokeh-tables-0.13.0.min.css\");\n      Bokeh.embed.inject_css(\"https://cdn.pydata.org/bokeh/release/bokeh-tables-0.13.0.min.css\");\n    }\n  ];\n\n  function run_inline_js() {\n    \n    if ((root.Bokeh !== undefined) || (force === true)) {\n      for (var i = 0; i < inline_js.length; i++) {\n        inline_js[i].call(root, root.Bokeh);\n      }if (force === true) {\n        display_loaded();\n      }} else if (Date.now() < root._bokeh_timeout) {\n      setTimeout(run_inline_js, 100);\n    } else if (!root._bokeh_failed_load) {\n      console.log(\"Bokeh: BokehJS failed to load within specified timeout.\");\n      root._bokeh_failed_load = true;\n    } else if (force !== true) {\n      var cell = $(document.getElementById(\"07875170-9f85-48f5-aeda-a56c98117533\")).parents('.cell').data().cell;\n      cell.output_area.append_execute_result(NB_LOAD_WARNING)\n    }\n\n  }\n\n  if (root._bokeh_is_loading === 0) {\n    console.log(\"Bokeh: BokehJS loaded, going straight to plotting\");\n    run_inline_js();\n  } else {\n    load_libs(js_urls, function() {\n      console.log(\"Bokeh: BokehJS plotting callback run at\", now());\n      run_inline_js();\n    });\n  }\n}(window));"
     },
     "metadata": {},
     "output_type": "display_data"
    }
   ],
   "source": [
    "# Visualization\n",
    "%matplotlib inline\n",
    "import matplotlib.pyplot as plt\n",
    "plt.style.use('ggplot')\n",
    "\n",
    "from bokeh.plotting import figure, show\n",
    "from bokeh.io import output_notebook\n",
    "\n",
    "output_notebook()"
   ]
  },
  {
   "cell_type": "code",
   "execution_count": 10,
   "metadata": {},
   "outputs": [],
   "source": [
    "hists = fraud_df.select('balance').rdd.flatMap(lambda row: row).histogram(20)"
   ]
  },
  {
   "cell_type": "code",
   "execution_count": 11,
   "metadata": {},
   "outputs": [
    {
     "data": {
      "text/plain": [
       "Text(0.5, 1.0, \"Histogram of 'balance'\")"
      ]
     },
     "execution_count": 11,
     "metadata": {},
     "output_type": "execute_result"
    },
    {
     "data": {
      "image/png": "[encoded data removed]",
      "text/plain": [
       "<Figure size 432x288 with 1 Axes>"
      ]
     },
     "metadata": {},
     "output_type": "display_data"
    }
   ],
   "source": [
    "data = {\n",
    "    'bins': hists[0][:-1],\n",
    "    'freq': hists[1]\n",
    "}\n",
    "plt.bar(data['bins'], data['freq'], width=2000)\n",
    "plt.title('Histogram of \\'balance\\'')"
   ]
  },
  {
   "cell_type": "code",
   "execution_count": 15,
   "metadata": {},
   "outputs": [
    {
     "data": {
      "text/html": [
       "\n",
       "\n",
       "\n",
       "\n",
       "\n",
       "\n",
       "  <div class=\"bk-root\" id=\"358bb90c-fc55-4428-8a93-3654d40644c8\"></div>\n"
      ]
     },
     "metadata": {},
     "output_type": "display_data"
    },
    {
     "data": {
      "application/javascript": [
       "(function(root) {\n",
       "  function embed_document(root) {\n",
       "    \n",
       "  var docs_json = {\"8339a01e-d466-4f95-a1c3-681d9856eba0\":{\"roots\":{\"references\":[{\"attributes\":{\"callback\":null,\"data\":{\"top\":[3640021,2258778,1718633,1035019,601524,343461,192766,104486,54517,27570,13117,5805,2650,1103,358,127,45,15,1,4],\"x\":[0.0,2074.25,4148.5,6222.75,8297.0,10371.25,12445.5,14519.75,16594.0,18668.25,20742.5,22816.75,24891.0,26965.25,29039.5,31113.75,33188.0,35262.25,37336.5,39410.75]},\"selected\":{\"id\":\"c65255a6-e212-4f21-bb76-a5844c607aad\",\"type\":\"Selection\"},\"selection_policy\":{\"id\":\"f10948d3-d5a6-4bd9-a6ae-f8296fc50d11\",\"type\":\"UnionRenderers\"}},\"id\":\"cb8d23f8-2530-44d5-8255-749c2b006b9d\",\"type\":\"ColumnDataSource\"},{\"attributes\":{},\"id\":\"71b00b82-1dc5-449c-8e55-44beb5cba141\",\"type\":\"WheelZoomTool\"},{\"attributes\":{},\"id\":\"74916015-f524-4b5b-a211-1250170300f2\",\"type\":\"SaveTool\"},{\"attributes\":{\"overlay\":{\"id\":\"c43159da-c96e-45c3-8255-e7e492de20d5\",\"type\":\"BoxAnnotation\"}},\"id\":\"f2a63243-5519-42a7-9e25-6061cdc9af3c\",\"type\":\"BoxZoomTool\"},{\"attributes\":{\"dimension\":1,\"plot\":{\"id\":\"115a3248-d396-46dd-ab1f-91ad8de1c308\",\"subtype\":\"Figure\",\"type\":\"Plot\"},\"ticker\":{\"id\":\"6371a5d2-5285-4db8-ab92-f8634556639d\",\"type\":\"BasicTicker\"}},\"id\":\"c25aebff-5ca2-403e-85b4-c199660ecc3c\",\"type\":\"Grid\"},{\"attributes\":{},\"id\":\"8c3e2e92-7cd3-437c-be4d-f86b5dba7a8d\",\"type\":\"PanTool\"},{\"attributes\":{\"below\":[{\"id\":\"40cd2e49-9fe7-4efd-a269-e24974e27c03\",\"type\":\"LinearAxis\"}],\"left\":[{\"id\":\"804bc935-29e8-48d1-b57e-de8d346b18ad\",\"type\":\"LinearAxis\"}],\"plot_height\":300,\"plot_width\":500,\"renderers\":[{\"id\":\"40cd2e49-9fe7-4efd-a269-e24974e27c03\",\"type\":\"LinearAxis\"},{\"id\":\"73950f1b-6a78-43f6-afbb-211d3f506b6e\",\"type\":\"Grid\"},{\"id\":\"804bc935-29e8-48d1-b57e-de8d346b18ad\",\"type\":\"LinearAxis\"},{\"id\":\"c25aebff-5ca2-403e-85b4-c199660ecc3c\",\"type\":\"Grid\"},{\"id\":\"c43159da-c96e-45c3-8255-e7e492de20d5\",\"type\":\"BoxAnnotation\"},{\"id\":\"5e39581b-e8bf-48b8-a618-70676ed59827\",\"type\":\"GlyphRenderer\"}],\"title\":{\"id\":\"d673c4f4-0e51-4e2b-99a7-3cbf7bec9e86\",\"type\":\"Title\"},\"toolbar\":{\"id\":\"2357d83e-3c5d-47de-8e63-f4f6c95d4555\",\"type\":\"Toolbar\"},\"x_range\":{\"id\":\"436a3056-691a-449b-b073-80a937151e31\",\"type\":\"DataRange1d\"},\"x_scale\":{\"id\":\"337e20ab-cc6b-40f8-bc3e-8b25c053e41b\",\"type\":\"LinearScale\"},\"y_range\":{\"id\":\"7adee816-bb00-459f-b554-4c4a596ac7fb\",\"type\":\"DataRange1d\"},\"y_scale\":{\"id\":\"c839a336-108e-4da2-9edf-048a6fa8d4d8\",\"type\":\"LinearScale\"}},\"id\":\"115a3248-d396-46dd-ab1f-91ad8de1c308\",\"subtype\":\"Figure\",\"type\":\"Plot\"},{\"attributes\":{},\"id\":\"c839a336-108e-4da2-9edf-048a6fa8d4d8\",\"type\":\"LinearScale\"},{\"attributes\":{\"fill_color\":{\"value\":\"#CAB2D6\"},\"line_color\":{\"value\":\"#CAB2D6\"},\"top\":{\"field\":\"top\"},\"width\":{\"value\":1000},\"x\":{\"field\":\"x\"}},\"id\":\"5159c75d-d286-4052-9aef-3ccf0560262e\",\"type\":\"VBar\"},{\"attributes\":{\"source\":{\"id\":\"cb8d23f8-2530-44d5-8255-749c2b006b9d\",\"type\":\"ColumnDataSource\"}},\"id\":\"21bf43d0-919b-4af2-8203-508ac4af36c8\",\"type\":\"CDSView\"},{\"attributes\":{\"callback\":null},\"id\":\"436a3056-691a-449b-b073-80a937151e31\",\"type\":\"DataRange1d\"},{\"attributes\":{\"fill_alpha\":{\"value\":0.1},\"fill_color\":{\"value\":\"#1f77b4\"},\"line_alpha\":{\"value\":0.1},\"line_color\":{\"value\":\"#1f77b4\"},\"top\":{\"field\":\"top\"},\"width\":{\"value\":1000},\"x\":{\"field\":\"x\"}},\"id\":\"278c1026-e734-4684-8f64-971f52e8207b\",\"type\":\"VBar\"},{\"attributes\":{\"plot\":null,\"text\":\"\"},\"id\":\"d673c4f4-0e51-4e2b-99a7-3cbf7bec9e86\",\"type\":\"Title\"},{\"attributes\":{\"bottom_units\":\"screen\",\"fill_alpha\":{\"value\":0.5},\"fill_color\":{\"value\":\"lightgrey\"},\"left_units\":\"screen\",\"level\":\"overlay\",\"line_alpha\":{\"value\":1.0},\"line_color\":{\"value\":\"black\"},\"line_dash\":[4,4],\"line_width\":{\"value\":2},\"plot\":null,\"render_mode\":\"css\",\"right_units\":\"screen\",\"top_units\":\"screen\"},\"id\":\"c43159da-c96e-45c3-8255-e7e492de20d5\",\"type\":\"BoxAnnotation\"},{\"attributes\":{},\"id\":\"6371a5d2-5285-4db8-ab92-f8634556639d\",\"type\":\"BasicTicker\"},{\"attributes\":{\"data_source\":{\"id\":\"cb8d23f8-2530-44d5-8255-749c2b006b9d\",\"type\":\"ColumnDataSource\"},\"glyph\":{\"id\":\"5159c75d-d286-4052-9aef-3ccf0560262e\",\"type\":\"VBar\"},\"hover_glyph\":null,\"muted_glyph\":null,\"nonselection_glyph\":{\"id\":\"278c1026-e734-4684-8f64-971f52e8207b\",\"type\":\"VBar\"},\"selection_glyph\":null,\"view\":{\"id\":\"21bf43d0-919b-4af2-8203-508ac4af36c8\",\"type\":\"CDSView\"}},\"id\":\"5e39581b-e8bf-48b8-a618-70676ed59827\",\"type\":\"GlyphRenderer\"},{\"attributes\":{},\"id\":\"ddfa8ac3-3f1e-42e5-9140-cde3343727bd\",\"type\":\"ResetTool\"},{\"attributes\":{\"active_drag\":\"auto\",\"active_inspect\":\"auto\",\"active_multi\":null,\"active_scroll\":\"auto\",\"active_tap\":\"auto\",\"tools\":[{\"id\":\"8c3e2e92-7cd3-437c-be4d-f86b5dba7a8d\",\"type\":\"PanTool\"},{\"id\":\"71b00b82-1dc5-449c-8e55-44beb5cba141\",\"type\":\"WheelZoomTool\"},{\"id\":\"f2a63243-5519-42a7-9e25-6061cdc9af3c\",\"type\":\"BoxZoomTool\"},{\"id\":\"74916015-f524-4b5b-a211-1250170300f2\",\"type\":\"SaveTool\"},{\"id\":\"ddfa8ac3-3f1e-42e5-9140-cde3343727bd\",\"type\":\"ResetTool\"},{\"id\":\"337e4fc8-aa1d-423c-bd89-cc82d236a4dd\",\"type\":\"HelpTool\"}]},\"id\":\"2357d83e-3c5d-47de-8e63-f4f6c95d4555\",\"type\":\"Toolbar\"},{\"attributes\":{},\"id\":\"337e4fc8-aa1d-423c-bd89-cc82d236a4dd\",\"type\":\"HelpTool\"},{\"attributes\":{\"plot\":{\"id\":\"115a3248-d396-46dd-ab1f-91ad8de1c308\",\"subtype\":\"Figure\",\"type\":\"Plot\"},\"ticker\":{\"id\":\"986b5769-f068-4376-aa29-4a1791cb06e2\",\"type\":\"BasicTicker\"}},\"id\":\"73950f1b-6a78-43f6-afbb-211d3f506b6e\",\"type\":\"Grid\"},{\"attributes\":{},\"id\":\"986b5769-f068-4376-aa29-4a1791cb06e2\",\"type\":\"BasicTicker\"},{\"attributes\":{\"callback\":null},\"id\":\"7adee816-bb00-459f-b554-4c4a596ac7fb\",\"type\":\"DataRange1d\"},{\"attributes\":{},\"id\":\"f10948d3-d5a6-4bd9-a6ae-f8296fc50d11\",\"type\":\"UnionRenderers\"},{\"attributes\":{\"formatter\":{\"id\":\"c2fc239e-1938-40a3-bb75-862f92299f60\",\"type\":\"BasicTickFormatter\"},\"plot\":{\"id\":\"115a3248-d396-46dd-ab1f-91ad8de1c308\",\"subtype\":\"Figure\",\"type\":\"Plot\"},\"ticker\":{\"id\":\"6371a5d2-5285-4db8-ab92-f8634556639d\",\"type\":\"BasicTicker\"}},\"id\":\"804bc935-29e8-48d1-b57e-de8d346b18ad\",\"type\":\"LinearAxis\"},{\"attributes\":{\"formatter\":{\"id\":\"599ea18f-41b2-44d0-b952-bbadaf7c2d27\",\"type\":\"BasicTickFormatter\"},\"plot\":{\"id\":\"115a3248-d396-46dd-ab1f-91ad8de1c308\",\"subtype\":\"Figure\",\"type\":\"Plot\"},\"ticker\":{\"id\":\"986b5769-f068-4376-aa29-4a1791cb06e2\",\"type\":\"BasicTicker\"}},\"id\":\"40cd2e49-9fe7-4efd-a269-e24974e27c03\",\"type\":\"LinearAxis\"},{\"attributes\":{},\"id\":\"599ea18f-41b2-44d0-b952-bbadaf7c2d27\",\"type\":\"BasicTickFormatter\"},{\"attributes\":{},\"id\":\"337e20ab-cc6b-40f8-bc3e-8b25c053e41b\",\"type\":\"LinearScale\"},{\"attributes\":{},\"id\":\"c2fc239e-1938-40a3-bb75-862f92299f60\",\"type\":\"BasicTickFormatter\"},{\"attributes\":{},\"id\":\"c65255a6-e212-4f21-bb76-a5844c607aad\",\"type\":\"Selection\"}],\"root_ids\":[\"115a3248-d396-46dd-ab1f-91ad8de1c308\"]},\"title\":\"Bokeh Application\",\"version\":\"0.13.0\"}};\n",
       "  var render_items = [{\"docid\":\"8339a01e-d466-4f95-a1c3-681d9856eba0\",\"roots\":{\"115a3248-d396-46dd-ab1f-91ad8de1c308\":\"358bb90c-fc55-4428-8a93-3654d40644c8\"}}];\n",
       "  root.Bokeh.embed.embed_items_notebook(docs_json, render_items);\n",
       "\n",
       "  }\n",
       "  if (root.Bokeh !== undefined) {\n",
       "    embed_document(root);\n",
       "  } else {\n",
       "    var attempts = 0;\n",
       "    var timer = setInterval(function(root) {\n",
       "      if (root.Bokeh !== undefined) {\n",
       "        embed_document(root);\n",
       "        clearInterval(timer);\n",
       "      }\n",
       "      attempts++;\n",
       "      if (attempts > 100) {\n",
       "        console.log(\"Bokeh: ERROR: Unable to run BokehJS code because BokehJS library is missing\")\n",
       "        clearInterval(timer);\n",
       "      }\n",
       "    }, 10, root)\n",
       "  }\n",
       "})(window);"
      ],
      "application/vnd.bokehjs_exec.v0+json": ""
     },
     "metadata": {
      "application/vnd.bokehjs_exec.v0+json": {
       "id": "115a3248-d396-46dd-ab1f-91ad8de1c308"
      }
     },
     "output_type": "display_data"
    }
   ],
   "source": [
    "plot = figure(plot_width=500, plot_height=300)\n",
    "plot.vbar(x=data['bins'], width=1000, bottom=0, top=data['freq'], color=\"#CAB2D6\")\n",
    "\n",
    "show(plot)"
   ]
  },
  {
   "cell_type": "code",
   "execution_count": 16,
   "metadata": {},
   "outputs": [
    {
     "data": {
      "text/plain": [
       "Text(0.5, 1.0, \"Histogram of 'balance' using .hist()\")"
      ]
     },
     "execution_count": 16,
     "metadata": {},
     "output_type": "execute_result"
    },
    {
     "data": {
      "image/png": "[encoded data removed]",
      "text/plain": [
       "<Figure size 432x288 with 1 Axes>"
      ]
     },
     "metadata": {},
     "output_type": "display_data"
    }
   ],
   "source": [
    "data_driver = {\n",
    "    'obs': fraud_df.select('balance').rdd.flatMap(lambda row: row).collect()\n",
    "}\n",
    "plt.hist(data_driver['obs'], bins=20)\n",
    "plt.title('Histogram of \\'balance\\' using .hist()')"
   ]
  },
  {
   "cell_type": "code",
   "execution_count": 17,
   "metadata": {},
   "outputs": [],
   "source": [
    "data_sample = fraud_df.sampleBy('gender', {1: 0.0002, 2: 0.0002}).select(numerical)"
   ]
  },
  {
   "cell_type": "code",
   "execution_count": 18,
   "metadata": {},
   "outputs": [],
   "source": [
    "data_multi = dict([\n",
    "    (elem, data_sample.select(elem).rdd.flatMap(lambda row: row).collect()) for elem in numerical\n",
    "])"
   ]
  },
  {
   "cell_type": "code",
   "execution_count": 21,
   "metadata": {},
   "outputs": [
    {
     "data": {
      "text/html": [
       "\n",
       "\n",
       "\n",
       "\n",
       "\n",
       "\n",
       "  <div class=\"bk-root\" id=\"e7464555-2345-477e-84e7-5773bdae7734\"></div>\n"
      ]
     },
     "metadata": {},
     "output_type": "display_data"
    },
    {
     "data": {
      "application/javascript": [
       "(function(root) {\n",
       "  function embed_document(root) {\n",
       "    \n",
       "  var docs_json = {\"d7f02b7b-6b35-4ef5-bcb9-cd3f5acc64de\":{\"roots\":{\"references\":[{\"attributes\":{},\"id\":\"b032ddce-9d02-486d-bae3-7175bc813214\",\"type\":\"ZoomInTool\"},{\"attributes\":{\"active_drag\":\"auto\",\"active_inspect\":\"auto\",\"active_multi\":null,\"active_scroll\":\"auto\",\"active_tap\":\"auto\",\"tools\":[{\"id\":\"42abc54d-0c3a-49c5-90d3-d357f417d55f\",\"type\":\"HoverTool\"},{\"id\":\"98c5c6ed-e33f-4416-a26a-eae35c215bc0\",\"type\":\"CrosshairTool\"},{\"id\":\"090456fb-fdc6-4c5a-9c05-432c4b5d6b70\",\"type\":\"PanTool\"},{\"id\":\"1295c7b5-ed29-475b-9a54-cc3d434425b5\",\"type\":\"WheelZoomTool\"},{\"id\":\"b032ddce-9d02-486d-bae3-7175bc813214\",\"type\":\"ZoomInTool\"},{\"id\":\"79527e1d-035f-4781-8195-dd0b870ede5c\",\"type\":\"ZoomOutTool\"},{\"id\":\"21dbbefb-8502-45dc-bfc7-19e864e7585a\",\"type\":\"BoxZoomTool\"},{\"id\":\"990598dc-45cb-4348-bf56-770c612d2e31\",\"type\":\"UndoTool\"},{\"id\":\"71cb84f8-52ae-4683-9260-e3d44bf95121\",\"type\":\"RedoTool\"},{\"id\":\"d98c1bba-5d88-499f-915a-d823bc558a80\",\"type\":\"ResetTool\"},{\"id\":\"a5424b8e-645f-46a1-a9b5-4ae9fe2db80f\",\"type\":\"TapTool\"},{\"id\":\"7080a71a-0a9c-47f6-a982-ef6ebbff3d69\",\"type\":\"SaveTool\"},{\"id\":\"2d7c45bb-9672-47e4-8190-fa1c37a48894\",\"type\":\"BoxSelectTool\"},{\"id\":\"79969945-bc10-4eba-999d-27ad9061cb4e\",\"type\":\"PolySelectTool\"},{\"id\":\"938a9839-9ca1-4e0e-9e97-20ef382832b5\",\"type\":\"LassoSelectTool\"}]},\"id\":\"80ca1b48-c581-45b0-ad61-ae789258e342\",\"type\":\"Toolbar\"},{\"attributes\":{},\"id\":\"990598dc-45cb-4348-bf56-770c612d2e31\",\"type\":\"UndoTool\"},{\"attributes\":{},\"id\":\"b6317b42-6f0f-4a3d-99de-8e0a442205fc\",\"type\":\"LinearScale\"},{\"attributes\":{\"overlay\":{\"id\":\"fb546be3-81e9-4633-b3e3-f0378f4f6890\",\"type\":\"BoxAnnotation\"}},\"id\":\"21dbbefb-8502-45dc-bfc7-19e864e7585a\",\"type\":\"BoxZoomTool\"},{\"attributes\":{\"callback\":null},\"id\":\"a56cbac2-fe3d-4e44-bf94-edd7214701e4\",\"type\":\"DataRange1d\"},{\"attributes\":{},\"id\":\"1295c7b5-ed29-475b-9a54-cc3d434425b5\",\"type\":\"WheelZoomTool\"},{\"attributes\":{},\"id\":\"7080a71a-0a9c-47f6-a982-ef6ebbff3d69\",\"type\":\"SaveTool\"},{\"attributes\":{},\"id\":\"a780f5ae-db52-4945-84eb-f48586d7c581\",\"type\":\"LinearScale\"},{\"attributes\":{\"callback\":null},\"id\":\"a5424b8e-645f-46a1-a9b5-4ae9fe2db80f\",\"type\":\"TapTool\"},{\"attributes\":{\"callback\":null,\"data\":{\"x\":[5138,6000,3000,2000,10000,7000,0,0,6746,0,5000,0,3000,0,0,3000,0,278,0,2487,0,19824,0,1705,0,16684,5000,3000,0,1295,5000,8000,5000,0,8835,0,0,0,0,4000,8807,881,3000,0,4000,0,3000,2911,0,0,2085,0,5773,20000,2399,0,8209,4549,5000,0,7753,491,9447,0,647,6000,0,8000,0,12363,2731,7990,6000,0,0,0,6000,5690,274,4000,6000,4000,0,0,4567,0,6269,3313,0,9192,4000,5277,3746,0,3000,6312,5076,7439,6000,7000,0,1911,6000,0,2276,5000,0,3719,3000,7000,4000,9890,0,0,0,0,4000,6000,4000,4000,3000,0,4927,8879,5000,0,0,7000,8000,0,0,6000,9167,0,0,3000,5000,12188,255,8566,3835,6000,828,4267,8225,12000,2000,0,0,8139,2606,0,0,977,6541,0,3000,0,2638,585,3750,7873,1588,12221,0,11000,3062,6601,0,4000,0,0,3660,5503,6000,8189,7000,0,0,0,12000,0,5000,0,0,8279,9214,0,7665,9290,0,5000,10588,3211,0,12290,5286,5024,7000,0,0,0,9000,1236,4000,4000,0,0,9241,5027,0,274,11000,1515,9988,4000,9000,917,6357,0,4009,5542,8000,15000,12124,0,9000,4444,7000,0,7986,3253,0,0,5000,7993,1444,6000,0,4000,4000,0,5000,5000,7339,0,0,3061,3000,7000,3567,14000,4000,7118,0,4000,6000,3000,355,5000,0,1951,23233,2752,5000,7000,0,5429,5000,2140,0,8646,10000,5750,0,0,7000,4000,3000,4000,2686,7000,10000,3000,12000,0,9519,5000,0,280,0,8824,7000,3000,4000,3000,11000,3000,7327,4220,429,2924,4000,6000,457,3000,11878,3543,0,5000,0,5000,0,2059,0,6896,3000,0,3000,10000,5000,0,6000,0,7000,5000,1937,1831,5000,7825,8250,4000,0,2228,3749,0,5000,11254,17000,3393,7365,7212,2035,2013,7680,0,4021,0,0,0,518,0,0,10000,4215,4607,467,0,3668,10000,5000,6206,6000,3000,3811,0,5139,3801,0,9923,0,0,2693,6000,8587,452,0,0,531,3638,0,0,7000,0,4837,8000,0,9000,4453,2172,3000,2981,7000,9586,0,7646,0,6454,0,6000,5000,6000,11000,7513,4000,2000,5000,5228,9000,8000,4000,699,288,0,6351,0,1838,0,11000,13149,9269,4000,0,0,0,18891,0,8920,4000,14000,0,1957,2121,3000,11794,2555,7000,8000,2768,3358,0,12000,5000,0,813,5000,84,3438,0,5000,5000,1486,0,7729,5185,0,345,4000,4000,0,3190,0,0,6000,0,4000,0,3000,12980,693,0,1313,0,5924,5000,0,10156,0,3000,4000,4000,4904,3998,10921,0,0,0,2513,10000,6000,5000,4000,0,0,8,3000,8271,0,4878,7623,4630,9214,4944,0,3531,1888,5000,3000,0,9000,15400,3724,0,5000,4160,0,7000,9000,8000,1205,7000,0,4000,4752,7000,9000,0,11000,0,9910,0,5000,5283,0,9098,0,0,5000,719,4393,6479,16463,7742,3000,7000,5000,1366,4000,7000,4000,1784,3737,2432,4000,0,0,5000,8466,1354,3000,0,0,155,4000,0,6000,0,8366,0,0,0,3000,1459,0,1918,5694,2487,6476,5000,904,0,2239,11166,5595,6000,102,0,0,1423,3749,3000,6000,5000,2605,4940,3000,13000,4000,5000,0,7000,9000,5000,5000,0,0,314,187,10939,3000,8000,1226,0,9000,0,4000,4000,5000,4000,3000,0,12000,8472,0,7000,4369,0,7412,5787,7465,1184,3000,2144,4000,3742,10000,9697,0,3637,4000,0,4000,7000,3000,4592,0,4000,2275,0,3000,7222,3000,6239,5000,4000,8421,8000,4205,6178,3000,4768,3833,8000,5000,7000,7000,0,1272,4952,0,4000,16744,4393,5000,5000,7404,12933,4736,0,4569,4000,10000,0,3601,4000,0,3000,10723,0,0,7000,10000,10013,8329,5000,0,0,3218,0,0,3538,5520,3000,0,6000,3000,12000,5000,5000,8617,364,7000,4000,0,10000,9000,0,17056,0,4000,5000,13496,0,0,7000,5000,0,8560,0,0,4000,3000,2405,620,4898,3000,4000,11122,0,3268,0,4963,8240,0,0,0,816,3000,0,5000,2219,10000,11000,9030,11457,8000,3755,4456,1943,5000,4000,0,5000,7000,651,0,8000,0,3000,1824,0,5611,211,0,0,0,3000,0,12244,0,0,0,0,0,0,477,6000,3212,0,7000,2129,6000,3000,0,4000,248,4000,0,0,3732,817,2378,1177,7788,3505,0,0,0,1210,331,0,4000,1573,4000,6000,6000,5000,318,0,3589,1669,7255,621,12385,4000,4551,891,0,1644,0,0,8000,5000,0,4000,9000,6661,12533,4000,10000,0,3000,232,10919,21210,13742,3000,3000,3000,0,7935,5000,4000,6000,3439,1745,3053,0,12000,0,11000,3446,0,3000,6000,13745,7877,7000,4000,0,2183,0,0,8000,4062,0,7000,4547,2763,4000,1375,15575,6000,0,5000,1909,6000,0,747,2048,653,17000,0,12000,365,0,6508,3020,6696,9320,5000,0,0,3813,0,0,10000,0,6732,2000,5000,13420,5000,7000,3000,0,3000,0,1829,11422,8787,8000,5239,5326,12000,12000,0,3107,4000,7000,5000,5000,0,9786,5569,8000,2800,11000,2109,10000,3000,4000,8000,2343,4179,7000,11000,0,11000,11344,9000,4669,4589,2641,2000,0,7626,2226,0,405,3000,0,0,2647,105,6083,0,4000,5809,5000,4000,9190,2531,18943,0,17916,1212,9538,7000,8762,7000,0,0,9000,7000,14000,3000,0,0,5000,14371,1246,0,5531,2243,6000,15169,0,11025,0,0,5000,0,234,11969,8000,4000,5101,5000,3445,10000,1737,8779,5000,9000,3000,5000,0,4000,733,4005,11421,9125,0,7930,4265,1711,0,2341,4913,1463,0,341,4577,5000,9204,0,12410,0,7000,4936,0,9000,10000,11000,13000,0,6264,359,4000,9477,0,13014,0,10000,2183,6888,3433,6000,3465,2081,15000,5979,7958,4000,4872,12684,0,0,0,6000,3977,0,5000,7098,1033,3470,0,7000,0,9000,518,279,2924,0,6000,9710,0,3000,11881,5000,8000,18000,0,0,0,0,3823,7000,12033,0,0,0,0,0,11000,3000,7000,7506,6000,12000,1459,0,2641,3224,0,0,0,10602,3000,3000,8000,6000,0,1908,0,0,6806,0,10000,6000,0,6000,0,3971,5000,0,5854,3000,0,5000,0,2839,0,5000,3925,6000,0,0,2892,0,3000,739,0,0,3059,0,6377,0,0,0,0,874,6000,0,0,2165,10000,0,0,3000,0,4000,0,0,0,8882,0,4925,885,8158,0,4956,4195,7000,4000,6000,4000,3675,5000,11000,700,10796,8000,0,4524,7592,4619,5000,5000,0,5955,3000,6000,5000,5000,0,8137,0,4000,6000,4000,0,8163,0,0,10763,5000,3799,0,1588,260,0,5289,3000,2866,3413,7970,2053,1835,1471,3000,0,4670,16017,6188,10372,0,4000,160,0,584,7000,15000,0,3000,4000,0,4000,8000,5000,10715,9000,0,9000,0,0,0,0,0,0,5000,0,8636,5000,11000,3000,0,5000,0,299,4000,2984,0,0,8852,5416,0,0,0,3850,0,3000,10071,0,0,11000,2187,0,19000,5015,0,6000,0,0,3000,3000,5000,6000,12218,5085,6000,3000,0,10980,11610,0,0,1909,3000,0,6000,0,0,3000,1536,11551,2212,1307,0,6000,7000,3516,4686,4000,7000,4000,4000,0,0,12970,12000,0,3000,9000,3499,14300,15000,2126,0,7000,3000,0,5000,4000,47,12000,6000,6580,1135,1013,5000,8794,0,2195,13004,7000,7000,3955,0,0,0,2046,10090,4556,7473,7000,5000,3000,3001,4000,477,6000,0,2976,0,4000,4069,0,1298,0,10360,0,1849,9000,4177,14531,0,442,4000,0,0,4000,4000,15000,907,0,386,2755,8543,7000,6000,0,6000,7000,3000,5000,0,9422,9869,4000,0,7000,0,12425,3728,8167,3329,8135,7000,6000,5000,14237,4637,4000,3294,6000,0,3808,7000,4000,6000,6000,5980,3783,5000,0,10000,4159,4622,7000,0,14756,3000,0,0,6000,3072,4812,3000,6934,0,3149,13203,6000,3000,10682,5000,6000,0,5000,0,5000,3000,5940,0,0,5000,1925,6000,4000,8969,17421,3000,5000,5000,1250,4000,6253,14000,3000,4000,7681,7000,0,3000,10000,0,5222,476,2000,0,4000,12388,2536,0,3000,0,7466,3000,10254,10621,0,321,4901,6406,0,5764,0,6000,2000,3000,4906,3000,2373,6000,6029,0,0,13038,0,4000,3000,6000,0,6000,0,720,855,3000,5904,0,11159,7575,3427,0,7000,5735,4000,5000,8747,4000,0,4000,4000,6000,7614,5000,2000,3000,0,4558,3000,1723,3570,5000,5000,3613,0,1987,4626,6000,9000,8000,3000,7020,3000,7000,2873,3829,2000,5026,6942,0,0,0,5872,7644,0,6000,5447,0,7000,0,0,11720,0,7000,10778,0,0,6470,8897,0,2897,5000,9,7058,0,0,7000,5000,3603,14130,5536,0,4670,4965,3000,4523,0,8392,5000,5000,3000,0,198,0,6000,9192,0,6000,5000,7000,2703,0,3905,0,4000,0,5446,5000,0,9552,5000,19000,3000,0,19000,3572,4000,5221,3744,0,2982,8169,0,10000,1223,0,4000,8000,4000,0,10857,5000,6973,12184,8000,0,3000,2121,3414,5000,9000,3000,5083,3638,0,0,0,6000,0,8000,14825,0,0,5890,8037,306,0,4000,6778,5000,6000,4037,7000,3692,4838,12000,6000,8000,4507,4000,0,0,6334,7000,10043,4000,0,0,2540,7000,9000,0,4000,0,0,7878,10160,5615,0,0,5000,0,2618,3000,0,1698,7000,0,0,349,9108,5000,0,0,3000,1727,4000,10321,0,0,0,5000,10968,0,0,7000,215,7861,0,7505,0,8000,3000,5375,8441,6197,3000,4000,2271,0,6000,6925,4000,0,8836,0,6000,731,7000,782,5243,4000,4160,5000,3814,6000,2268,901,1258,3498,7246,3000,6000,5952,4000,0,0,0,8000,7000,0,263,8000,3000,5808,6000,7000,3000,3526,0,2000,0,0,9000,11587,0,0,0,6725,3014,4237,1151,523,0,0,0,4000,6000,4000,7000,9718,9000,7000,8000,4000,3000,12000,0,9000,6000,4030,0,6000,2881,4000,0,0,10000,1288,1778,15000,0,436,0,0,4000,7964,17524,10000,3366,6000,5084,0,0,5648,323,0,3229,0,6641,9942,3000,0,3365,5000,0,4000,3000,0,6420,3000,5075,4031,0,3000,3323,4000,0,0,0,7000,5000,5000,0,18450,0,0,2000,6000,5955,3000,0,4000,0,1304,4186,11512,0,9000,9793,9000,8000,5614,0,5000,7827,4000,0,14203,0,3158,6000,6000,6000,0,0,4000,14233,13593,3093,0,9490,14000,1957,0,0,0,4000,0,5776,5220,5000,11418,0,10578,3000,6000,6000,4036,0,950,0,4000,0,1090,6000,0,3818,0,2025,11460,6000,6000,11000,5000,11191,1274,3000,4000,0,1112,8000,3000,0,2098,0,2558,2000,4000,471,4000,6000,7928,8000,0,2107,0,1224,8000,4000,11000,5000,4075,12106,4000,0,0,0,6127,4000,0,5000,0,5591,6000,781,12000,4603,23,4000,9394,3000,6000,8000,5000,0],\"y\":[13,22,29,46,67,55,34,29,1,8,69,20,27,1,12,36,4,7,55,8,14,28,5,6,60,34,22,87,23,100,7,100,41,6,61,30,6,30,52,22,100,23,46,42,34,4,20,6,8,83,16,15,30,24,51,62,25,74,64,26,10,80,53,36,10,24,4,6,100,7,100,100,51,19,10,28,3,16,10,35,33,51,100,25,46,100,31,12,21,38,10,15,45,6,100,38,100,49,5,40,96,30,10,13,23,9,3,19,16,11,60,22,13,13,100,41,16,100,32,7,1,17,6,4,100,13,5,31,24,22,12,19,11,1,16,47,7,1,63,58,17,7,7,16,100,20,37,17,4,25,19,34,9,100,67,76,3,14,4,23,17,56,53,9,5,97,24,4,32,9,19,5,84,34,11,29,21,2,11,38,19,85,8,18,30,59,13,16,0,37,10,10,13,5,53,25,16,9,13,15,94,4,7,9,50,34,41,6,22,100,19,15,33,7,7,100,11,48,23,3,22,11,20,14,5,31,30,17,38,3,14,39,7,35,8,9,12,18,14,48,21,75,11,48,27,96,33,52,17,14,15,30,51,33,11,8,32,33,14,37,100,10,15,26,4,11,100,12,31,33,23,9,10,26,11,53,76,100,20,100,18,6,45,28,27,57,20,10,6,6,13,15,16,18,72,12,5,24,58,30,45,30,30,8,14,14,6,12,8,22,14,6,5,100,30,16,8,49,20,55,9,13,5,14,11,87,17,17,53,4,20,39,35,4,69,4,30,43,88,100,100,100,3,75,9,13,96,35,47,74,22,38,33,18,44,6,79,44,20,48,13,21,30,25,54,53,32,19,54,1,52,12,6,20,12,21,68,30,3,50,6,22,21,3,12,91,100,22,58,7,76,5,9,100,12,5,31,11,24,15,22,20,8,42,47,3,6,24,28,33,90,24,23,75,16,2,41,13,2,19,4,8,100,14,3,9,28,31,97,100,19,15,46,7,9,13,22,21,23,34,31,47,18,43,10,31,10,3,20,3,15,7,100,8,13,80,20,5,5,38,57,13,18,15,3,20,17,100,100,20,8,15,100,8,97,15,49,36,27,14,13,37,10,22,100,28,59,15,39,9,27,12,16,11,4,14,8,4,57,3,3,7,26,29,8,19,7,100,100,32,63,34,31,7,35,86,9,13,16,20,25,35,9,35,17,2,14,17,19,5,22,26,32,85,12,5,100,21,15,8,23,15,3,30,18,8,19,31,26,33,4,37,9,7,21,3,11,5,54,51,5,6,8,10,14,60,79,95,100,53,7,12,13,3,30,71,12,27,100,3,4,41,3,13,4,5,4,14,17,30,30,51,13,5,21,15,20,21,42,19,9,57,8,46,90,7,7,57,100,14,14,11,30,10,39,50,9,72,6,14,11,20,33,12,9,20,100,10,46,11,27,10,81,2,53,4,30,100,15,70,69,28,84,21,40,44,25,51,17,13,60,15,19,8,38,7,24,17,25,29,9,100,28,9,14,52,39,48,17,26,18,88,13,16,68,5,18,82,54,2,4,43,11,11,13,59,4,7,40,24,18,3,39,11,11,17,5,100,11,8,7,78,48,19,7,5,10,41,4,28,12,19,23,61,33,12,2,15,5,61,18,100,10,15,7,11,10,42,5,14,11,28,6,15,8,10,100,30,6,12,30,22,5,6,28,65,31,26,63,13,18,17,26,2,6,100,21,20,2,10,27,3,21,14,38,10,8,3,34,7,14,11,53,5,3,10,28,2,20,10,100,68,17,4,22,18,100,100,16,100,12,18,12,5,34,3,43,32,37,100,18,43,20,11,10,7,31,44,100,27,30,9,53,100,24,87,17,14,34,63,18,7,54,10,42,9,27,34,24,15,17,18,2,20,23,31,34,40,100,13,78,9,18,3,16,100,17,41,11,8,54,34,21,15,100,4,12,12,9,14,22,20,37,100,26,20,14,28,13,20,31,38,100,30,5,62,40,19,9,35,40,30,56,9,100,32,15,12,26,62,59,28,48,10,9,61,14,14,41,60,10,15,30,100,31,18,26,14,29,18,10,6,18,9,3,22,81,26,33,36,11,10,4,4,28,25,2,26,2,22,21,49,39,20,6,33,17,11,100,10,100,2,29,13,10,22,73,61,5,22,26,17,42,3,19,7,4,8,9,40,5,26,18,25,56,13,10,14,5,1,16,17,1,6,9,27,25,32,32,61,27,13,13,6,21,9,29,6,29,22,12,9,84,70,18,31,80,7,100,79,3,13,3,19,19,14,11,22,52,31,32,4,21,15,71,7,8,18,3,6,28,33,10,8,20,30,7,8,7,70,2,53,39,34,47,4,24,18,25,18,20,23,38,100,40,14,8,8,100,27,81,3,100,19,32,12,12,29,10,48,4,4,100,4,33,7,21,11,10,45,14,20,10,24,5,58,4,33,95,15,26,7,20,17,29,33,8,7,9,7,14,49,21,26,14,14,15,7,6,46,7,4,29,71,9,100,6,4,15,59,3,11,32,12,35,26,66,36,13,100,16,46,25,100,13,4,16,11,13,12,17,11,6,100,18,16,39,38,4,44,21,4,11,9,7,9,18,100,29,95,41,24,4,30,13,26,12,85,24,33,10,28,5,36,73,74,7,2,11,30,33,10,13,10,11,35,56,59,13,3,100,7,6,3,13,13,12,14,59,27,67,7,53,8,30,10,45,18,10,5,58,88,5,11,14,32,72,7,19,16,14,27,42,18,18,21,19,100,21,27,6,5,64,24,9,10,8,8,24,4,17,15,29,35,60,21,27,26,17,8,68,14,22,10,4,19,13,6,88,76,13,19,10,3,25,3,22,26,22,8,3,9,100,46,19,49,42,92,100,44,39,100,55,35,23,41,15,13,0,100,25,49,11,6,18,15,21,25,14,6,2,23,16,8,2,31,6,12,100,33,13,93,7,42,34,4,1,100,10,100,12,14,70,20,14,6,65,7,11,29,4,58,49,3,26,10,16,62,14,11,9,11,8,4,82,15,32,23,54,24,42,33,16,9,23,10,47,16,44,22,10,29,30,44,4,26,23,24,7,17,7,28,33,17,90,13,65,25,32,54,19,5,1,14,100,16,4,11,5,21,100,98,16,45,7,10,19,48,5,18,30,17,18,44,1,24,4,10,53,100,1,39,34,15,36,100,12,26,14,3,9,13,43,14,3,4,37,14,25,84,25,46,8,23,21,18,12,4,8,76,20,14,12,41,22,31,13,11,4,3,27,7,33,61,7,8,15,19,9,17,13,100,15,7,10,11,10,22,100,5,3,29,36,10,10,15,30,63,39,16,22,29,16,50,7,1,23,20,6,34,13,10,17,3,43,17,5,72,4,34,6,66,13,95,8,31,5,6,12,53,69,43,50,8,31,17,4,47,63,66,14,6,10,37,15,37,17,17,13,32,92,3,10,93,40,6,6,20,72,9,4,12,13,24,14,16,38,39,4,16,11,11,72,11,70,5,27,18,37,10,100,64,13,100,20,60,47,54,10,5,60,36,15,17,66,29,14,14,10,19,6,17,13,11,92,13,46,7,3,100,12,28,34,27,53,23,41,5,24,5,24,13,36,10,32,10,12,9,5,5,45,17,7,56,20,17,50,36,7,13,6,6,11,12,3,65,16,16,13,3,17,18,88,6,9,23,43,3,19,8,4,13,38,13,24,3,19,44,31,21,13,4,10,15,9,51,43,23,3,49,16,58,14,17,18,20,14,25,12,6,45,4,5,100,13,2,19,23,100,12,35,5,79,33,24,5,19,100,20,3,28,22,42,11,4,4,100,9,27,41,7,24,20,70,9,100,18,20,6,16,74,100,19,10,40,25,15,3,30,44,96,5,37,87,17,67,13,9,100,34,10,13,23,27,22,15,7,100,25,10,50,52,100,9,5,16,2,1,4,9,29,4,23,91,22,43,14,25,29,10,7,7,9,44,100,23,19,27,16,14,12,7,100,20,11,16,64,21,8,18,8,7,20,35,7,10,20,23,32,91,24,33,22,19,17,7,6,11,56,20,78,48,91,37,2,13,100,9,54,7,3,8,32,92,35,32,56,15,21,9,17,22,13,61,7,10,16,4,6,10,13,23,10,75,3,14,18,100,34,4,33,81,81,2,10,25,3,10,21,12,8,100,7,49,39,7,12,13,14,15,23,7,17,5,9,100,49,9,8,30,38,30,18,4,7,14,2,13,57,50,20,14,27,28,45,7,71,18,17,58,6,4,11,33,43,3,58,50,37,100,3,36,40,12,18,48,12,21,6,10,34,19,4,100,26,20,25,5,63,11,24,3,11,11,12,35,16,19,18,2,37,19,74,37,58,4,9,4,2,22,29,19,11,7,45,11,61,9,23,65,24,20,5,45,84,2,35,11,91,30,24,51,100,10,20,11,14,6,100,16,44,76,42,13,96,21,54,29,47,49,12,100,33,11,13,64,22,3,4,13,15,4,100,100,24,95,17,15,13,18,11,30,6,11,12,17,49,36,10,56]},\"selected\":{\"id\":\"9842d7e1-41db-4472-b9cf-19427b72c79c\",\"type\":\"Selection\"},\"selection_policy\":{\"id\":\"69b0e242-12f8-4493-ab66-7e14ccd93b47\",\"type\":\"UnionRenderers\"}},\"id\":\"777a7485-12c5-4186-9d34-272ca698157a\",\"type\":\"ColumnDataSource\"},{\"attributes\":{},\"id\":\"69b0e242-12f8-4493-ab66-7e14ccd93b47\",\"type\":\"UnionRenderers\"},{\"attributes\":{},\"id\":\"9842d7e1-41db-4472-b9cf-19427b72c79c\",\"type\":\"Selection\"},{\"attributes\":{\"callback\":null,\"overlay\":{\"id\":\"0ef4333a-b5bc-4bdf-88da-9ea6a93d819b\",\"type\":\"PolyAnnotation\"}},\"id\":\"938a9839-9ca1-4e0e-9e97-20ef382832b5\",\"type\":\"LassoSelectTool\"},{\"attributes\":{},\"id\":\"42548c64-2773-46ec-8bd7-53828934133a\",\"type\":\"BasicTickFormatter\"},{\"attributes\":{\"callback\":null},\"id\":\"bfe4eea2-6df4-4af3-8876-93edf2376154\",\"type\":\"DataRange1d\"},{\"attributes\":{\"fill_alpha\":{\"value\":0.5},\"fill_color\":{\"value\":\"lightgrey\"},\"level\":\"overlay\",\"line_alpha\":{\"value\":1.0},\"line_color\":{\"value\":\"black\"},\"line_dash\":[4,4],\"line_width\":{\"value\":2},\"plot\":null,\"xs_units\":\"screen\",\"ys_units\":\"screen\"},\"id\":\"0ef4333a-b5bc-4bdf-88da-9ea6a93d819b\",\"type\":\"PolyAnnotation\"},{\"attributes\":{\"fill_alpha\":{\"value\":0.5},\"fill_color\":{\"value\":\"lightgrey\"},\"level\":\"overlay\",\"line_alpha\":{\"value\":1.0},\"line_color\":{\"value\":\"black\"},\"line_dash\":[4,4],\"line_width\":{\"value\":2},\"plot\":null,\"xs_units\":\"screen\",\"ys_units\":\"screen\"},\"id\":\"c84fc604-3779-4ed6-9658-26018bafd8a9\",\"type\":\"PolyAnnotation\"},{\"attributes\":{\"plot\":{\"id\":\"c9e19972-7e0d-454a-a0fe-4f0a9e7a6d7d\",\"subtype\":\"Figure\",\"type\":\"Plot\"},\"ticker\":{\"id\":\"7ce9638c-dd31-4422-9066-5b246c89391e\",\"type\":\"BasicTicker\"}},\"id\":\"f86e3453-dfb4-4ea9-8b78-e69b068eeac7\",\"type\":\"Grid\"},{\"attributes\":{\"callback\":null,\"overlay\":{\"id\":\"c84fc604-3779-4ed6-9658-26018bafd8a9\",\"type\":\"PolyAnnotation\"}},\"id\":\"79969945-bc10-4eba-999d-27ad9061cb4e\",\"type\":\"PolySelectTool\"},{\"attributes\":{\"callback\":null,\"renderers\":\"auto\"},\"id\":\"42abc54d-0c3a-49c5-90d3-d357f417d55f\",\"type\":\"HoverTool\"},{\"attributes\":{\"plot\":null,\"text\":\"\"},\"id\":\"97adf71c-df77-4028-976a-28dcfcc29937\",\"type\":\"Title\"},{\"attributes\":{\"below\":[{\"id\":\"292de608-d208-47df-9c54-f052daa466e5\",\"type\":\"LinearAxis\"}],\"left\":[{\"id\":\"803881c2-b1fa-4560-aad6-8d7d8d51d62b\",\"type\":\"LinearAxis\"}],\"renderers\":[{\"id\":\"292de608-d208-47df-9c54-f052daa466e5\",\"type\":\"LinearAxis\"},{\"id\":\"f86e3453-dfb4-4ea9-8b78-e69b068eeac7\",\"type\":\"Grid\"},{\"id\":\"803881c2-b1fa-4560-aad6-8d7d8d51d62b\",\"type\":\"LinearAxis\"},{\"id\":\"d9e5e064-a6f8-4fbd-b178-1748c51cb1d6\",\"type\":\"Grid\"},{\"id\":\"fb546be3-81e9-4633-b3e3-f0378f4f6890\",\"type\":\"BoxAnnotation\"},{\"id\":\"9194fed3-2ab2-4e15-b20d-63b5c818240f\",\"type\":\"BoxAnnotation\"},{\"id\":\"c84fc604-3779-4ed6-9658-26018bafd8a9\",\"type\":\"PolyAnnotation\"},{\"id\":\"0ef4333a-b5bc-4bdf-88da-9ea6a93d819b\",\"type\":\"PolyAnnotation\"},{\"id\":\"895a03b8-2aa4-4799-983e-7c769a65e9a4\",\"type\":\"GlyphRenderer\"}],\"title\":{\"id\":\"97adf71c-df77-4028-976a-28dcfcc29937\",\"type\":\"Title\"},\"toolbar\":{\"id\":\"80ca1b48-c581-45b0-ad61-ae789258e342\",\"type\":\"Toolbar\"},\"x_range\":{\"id\":\"bfe4eea2-6df4-4af3-8876-93edf2376154\",\"type\":\"DataRange1d\"},\"x_scale\":{\"id\":\"a780f5ae-db52-4945-84eb-f48586d7c581\",\"type\":\"LinearScale\"},\"y_range\":{\"id\":\"a56cbac2-fe3d-4e44-bf94-edd7214701e4\",\"type\":\"DataRange1d\"},\"y_scale\":{\"id\":\"b6317b42-6f0f-4a3d-99de-8e0a442205fc\",\"type\":\"LinearScale\"}},\"id\":\"c9e19972-7e0d-454a-a0fe-4f0a9e7a6d7d\",\"subtype\":\"Figure\",\"type\":\"Plot\"},{\"attributes\":{\"data_source\":{\"id\":\"777a7485-12c5-4186-9d34-272ca698157a\",\"type\":\"ColumnDataSource\"},\"glyph\":{\"id\":\"71628239-f708-4024-b559-12c0881f592c\",\"type\":\"Circle\"},\"hover_glyph\":null,\"muted_glyph\":null,\"nonselection_glyph\":{\"id\":\"a5e23856-2b06-4ce5-b136-7a4833e6a0ea\",\"type\":\"Circle\"},\"selection_glyph\":null,\"view\":{\"id\":\"d36c4886-3273-4544-b112-1b811014304b\",\"type\":\"CDSView\"}},\"id\":\"895a03b8-2aa4-4799-983e-7c769a65e9a4\",\"type\":\"GlyphRenderer\"},{\"attributes\":{\"source\":{\"id\":\"777a7485-12c5-4186-9d34-272ca698157a\",\"type\":\"ColumnDataSource\"}},\"id\":\"d36c4886-3273-4544-b112-1b811014304b\",\"type\":\"CDSView\"},{\"attributes\":{},\"id\":\"d98c1bba-5d88-499f-915a-d823bc558a80\",\"type\":\"ResetTool\"},{\"attributes\":{\"fill_alpha\":{\"value\":0.6},\"fill_color\":{\"value\":\"#1f77b4\"},\"line_color\":{\"value\":null},\"radius\":{\"units\":\"data\",\"value\":200},\"x\":{\"field\":\"x\"},\"y\":{\"field\":\"y\"}},\"id\":\"71628239-f708-4024-b559-12c0881f592c\",\"type\":\"Circle\"},{\"attributes\":{\"fill_alpha\":{\"value\":0.1},\"fill_color\":{\"value\":\"#1f77b4\"},\"line_alpha\":{\"value\":0.1},\"line_color\":{\"value\":\"#1f77b4\"},\"radius\":{\"units\":\"data\",\"value\":200},\"x\":{\"field\":\"x\"},\"y\":{\"field\":\"y\"}},\"id\":\"a5e23856-2b06-4ce5-b136-7a4833e6a0ea\",\"type\":\"Circle\"},{\"attributes\":{},\"id\":\"8fc6db59-f5ba-4df4-acf8-25f2fd8eded6\",\"type\":\"BasicTickFormatter\"},{\"attributes\":{\"dimension\":1,\"plot\":{\"id\":\"c9e19972-7e0d-454a-a0fe-4f0a9e7a6d7d\",\"subtype\":\"Figure\",\"type\":\"Plot\"},\"ticker\":{\"id\":\"19255926-6503-4178-bcfb-9a04e07f3718\",\"type\":\"BasicTicker\"}},\"id\":\"d9e5e064-a6f8-4fbd-b178-1748c51cb1d6\",\"type\":\"Grid\"},{\"attributes\":{},\"id\":\"19255926-6503-4178-bcfb-9a04e07f3718\",\"type\":\"BasicTicker\"},{\"attributes\":{},\"id\":\"7ce9638c-dd31-4422-9066-5b246c89391e\",\"type\":\"BasicTicker\"},{\"attributes\":{\"formatter\":{\"id\":\"8fc6db59-f5ba-4df4-acf8-25f2fd8eded6\",\"type\":\"BasicTickFormatter\"},\"plot\":{\"id\":\"c9e19972-7e0d-454a-a0fe-4f0a9e7a6d7d\",\"subtype\":\"Figure\",\"type\":\"Plot\"},\"ticker\":{\"id\":\"19255926-6503-4178-bcfb-9a04e07f3718\",\"type\":\"BasicTicker\"}},\"id\":\"803881c2-b1fa-4560-aad6-8d7d8d51d62b\",\"type\":\"LinearAxis\"},{\"attributes\":{\"formatter\":{\"id\":\"42548c64-2773-46ec-8bd7-53828934133a\",\"type\":\"BasicTickFormatter\"},\"plot\":{\"id\":\"c9e19972-7e0d-454a-a0fe-4f0a9e7a6d7d\",\"subtype\":\"Figure\",\"type\":\"Plot\"},\"ticker\":{\"id\":\"7ce9638c-dd31-4422-9066-5b246c89391e\",\"type\":\"BasicTicker\"}},\"id\":\"292de608-d208-47df-9c54-f052daa466e5\",\"type\":\"LinearAxis\"},{\"attributes\":{},\"id\":\"98c5c6ed-e33f-4416-a26a-eae35c215bc0\",\"type\":\"CrosshairTool\"},{\"attributes\":{},\"id\":\"71cb84f8-52ae-4683-9260-e3d44bf95121\",\"type\":\"RedoTool\"},{\"attributes\":{\"bottom_units\":\"screen\",\"fill_alpha\":{\"value\":0.5},\"fill_color\":{\"value\":\"lightgrey\"},\"left_units\":\"screen\",\"level\":\"overlay\",\"line_alpha\":{\"value\":1.0},\"line_color\":{\"value\":\"black\"},\"line_dash\":[4,4],\"line_width\":{\"value\":2},\"plot\":null,\"render_mode\":\"css\",\"right_units\":\"screen\",\"top_units\":\"screen\"},\"id\":\"fb546be3-81e9-4633-b3e3-f0378f4f6890\",\"type\":\"BoxAnnotation\"},{\"attributes\":{},\"id\":\"090456fb-fdc6-4c5a-9c05-432c4b5d6b70\",\"type\":\"PanTool\"},{\"attributes\":{\"callback\":null,\"overlay\":{\"id\":\"9194fed3-2ab2-4e15-b20d-63b5c818240f\",\"type\":\"BoxAnnotation\"}},\"id\":\"2d7c45bb-9672-47e4-8190-fa1c37a48894\",\"type\":\"BoxSelectTool\"},{\"attributes\":{\"bottom_units\":\"screen\",\"fill_alpha\":{\"value\":0.5},\"fill_color\":{\"value\":\"lightgrey\"},\"left_units\":\"screen\",\"level\":\"overlay\",\"line_alpha\":{\"value\":1.0},\"line_color\":{\"value\":\"black\"},\"line_dash\":[4,4],\"line_width\":{\"value\":2},\"plot\":null,\"render_mode\":\"css\",\"right_units\":\"screen\",\"top_units\":\"screen\"},\"id\":\"9194fed3-2ab2-4e15-b20d-63b5c818240f\",\"type\":\"BoxAnnotation\"},{\"attributes\":{},\"id\":\"79527e1d-035f-4781-8195-dd0b870ede5c\",\"type\":\"ZoomOutTool\"}],\"root_ids\":[\"c9e19972-7e0d-454a-a0fe-4f0a9e7a6d7d\"]},\"title\":\"Bokeh Application\",\"version\":\"0.13.0\"}};\n",
       "  var render_items = [{\"docid\":\"d7f02b7b-6b35-4ef5-bcb9-cd3f5acc64de\",\"roots\":{\"c9e19972-7e0d-454a-a0fe-4f0a9e7a6d7d\":\"e7464555-2345-477e-84e7-5773bdae7734\"}}];\n",
       "  root.Bokeh.embed.embed_items_notebook(docs_json, render_items);\n",
       "\n",
       "  }\n",
       "  if (root.Bokeh !== undefined) {\n",
       "    embed_document(root);\n",
       "  } else {\n",
       "    var attempts = 0;\n",
       "    var timer = setInterval(function(root) {\n",
       "      if (root.Bokeh !== undefined) {\n",
       "        embed_document(root);\n",
       "        clearInterval(timer);\n",
       "      }\n",
       "      attempts++;\n",
       "      if (attempts > 100) {\n",
       "        console.log(\"Bokeh: ERROR: Unable to run BokehJS code because BokehJS library is missing\")\n",
       "        clearInterval(timer);\n",
       "      }\n",
       "    }, 10, root)\n",
       "  }\n",
       "})(window);"
      ],
      "application/vnd.bokehjs_exec.v0+json": ""
     },
     "metadata": {
      "application/vnd.bokehjs_exec.v0+json": {
       "id": "c9e19972-7e0d-454a-a0fe-4f0a9e7a6d7d"
      }
     },
     "output_type": "display_data"
    }
   ],
   "source": [
    "TOOLS=\"hover,crosshair,pan,wheel_zoom,zoom_in,zoom_out,box_zoom,undo,redo,reset,tap,save,box_select,poly_select,lasso_select,\"\n",
    "sctr = figure(tools=TOOLS)\n",
    "sctr.scatter(data_multi[\"balance\"], data_multi[\"numTrans\"], radius=200, fill_alpha=0.6, line_color=None)\n",
    "#           fill_color=colors, fill_alpha=0.6,\n",
    "#           line_color=None)\n",
    "show(sctr)"
   ]
  },
  {
   "cell_type": "code",
   "execution_count": null,
   "metadata": {},
   "outputs": [],
   "source": []
  }
 ],
 "metadata": {
  "kernelspec": {
   "display_name": "Python 3",
   "language": "python",
   "name": "python3"
  },
  "language_info": {
   "codemirror_mode": {
    "name": "ipython",
    "version": 3
   },
   "file_extension": ".py",
   "mimetype": "text/x-python",
   "name": "python",
   "nbconvert_exporter": "python",
   "pygments_lexer": "ipython3",
   "version": "3.6.6"
  }
 },
 "nbformat": 4,
 "nbformat_minor": 2
}
