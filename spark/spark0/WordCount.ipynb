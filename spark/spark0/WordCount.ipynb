{
 "cells": [
  {
   "cell_type": "code",
   "execution_count": 2,
   "metadata": {},
   "outputs": [],
   "source": [
    "import findspark\n",
    "findspark.init()\n",
    "\n",
    "import pyspark\n",
    "from pyspark.sql import SparkSession\n",
    "import pyspark.sql.types as typ\n",
    "\n",
    "# sc = pyspark.SparkContext(appName=\"chp04\")\n",
    "spark = SparkSession.builder.getOrCreate()\n",
    "sc = spark.sparkContext"
   ]
  },
  {
   "cell_type": "code",
   "execution_count": 13,
   "metadata": {},
   "outputs": [
    {
     "data": {
      "text/plain": [
       "['Apple Apple Orange', 'Banana Grape Grape']"
      ]
     },
     "execution_count": 13,
     "metadata": {},
     "output_type": "execute_result"
    }
   ],
   "source": [
    "textFile = sc.textFile('./test.txt')\n",
    "textFile.collect()"
   ]
  },
  {
   "cell_type": "code",
   "execution_count": 14,
   "metadata": {},
   "outputs": [
    {
     "data": {
      "text/plain": [
       "['Apple', 'Apple', 'Orange', 'Banana', 'Grape', 'Grape']"
      ]
     },
     "execution_count": 14,
     "metadata": {},
     "output_type": "execute_result"
    }
   ],
   "source": [
    "strRDD = textFile.flatMap(lambda line: line.split(' '))\n",
    "strRDD.collect()"
   ]
  },
  {
   "cell_type": "code",
   "execution_count": 15,
   "metadata": {},
   "outputs": [
    {
     "data": {
      "text/plain": [
       "[('Apple', 1),\n",
       " ('Apple', 1),\n",
       " ('Orange', 1),\n",
       " ('Banana', 1),\n",
       " ('Grape', 1),\n",
       " ('Grape', 1)]"
      ]
     },
     "execution_count": 15,
     "metadata": {},
     "output_type": "execute_result"
    }
   ],
   "source": [
    "strRDD.map(lambda word: (word, 1)).collect()"
   ]
  },
  {
   "cell_type": "code",
   "execution_count": 16,
   "metadata": {},
   "outputs": [
    {
     "data": {
      "text/plain": [
       "[('Apple', 2), ('Orange', 1), ('Banana', 1), ('Grape', 2)]"
      ]
     },
     "execution_count": 16,
     "metadata": {},
     "output_type": "execute_result"
    }
   ],
   "source": [
    "strRDD.map(lambda word: (word, 1)).reduceByKey(lambda v1, v2: v1 + v2).collect()"
   ]
  },
  {
   "cell_type": "code",
   "execution_count": 19,
   "metadata": {},
   "outputs": [
    {
     "name": "stdout",
     "output_type": "stream",
     "text": [
      "total 8\r\n",
      "-rw-r--r-- 1 sha 27 Oct 26 09:04 part-00000\r\n",
      "-rw-r--r-- 1 sha 27 Oct 26 09:04 part-00001\r\n",
      "-rw-r--r-- 1 sha  0 Oct 26 09:04 _SUCCESS\r\n"
     ]
    }
   ],
   "source": [
    "%rm -R output\n",
    "countsRDD = strRDD.map(lambda word: (word, 1)).reduceByKey(lambda v1, v2: v1 + v2)\n",
    "countsRDD.saveAsTextFile('./output')\n",
    "%ll output"
   ]
  },
  {
   "cell_type": "code",
   "execution_count": 20,
   "metadata": {},
   "outputs": [
    {
     "name": "stdout",
     "output_type": "stream",
     "text": [
      "('Apple', 2)\r\n",
      "('Orange', 1)\r\n"
     ]
    }
   ],
   "source": [
    "%cat output/part-00000"
   ]
  },
  {
   "cell_type": "code",
   "execution_count": 21,
   "metadata": {},
   "outputs": [
    {
     "name": "stdout",
     "output_type": "stream",
     "text": [
      "('Banana', 1)\r\n",
      "('Grape', 2)\r\n"
     ]
    }
   ],
   "source": [
    "%cat output/part-00001"
   ]
  },
  {
   "cell_type": "code",
   "execution_count": null,
   "metadata": {},
   "outputs": [],
   "source": []
  }
 ],
 "metadata": {
  "kernelspec": {
   "display_name": "Python 3",
   "language": "python",
   "name": "python3"
  },
  "language_info": {
   "codemirror_mode": {
    "name": "ipython",
    "version": 3
   },
   "file_extension": ".py",
   "mimetype": "text/x-python",
   "name": "python",
   "nbconvert_exporter": "python",
   "pygments_lexer": "ipython3",
   "version": "3.6.7"
  }
 },
 "nbformat": 4,
 "nbformat_minor": 2
}
