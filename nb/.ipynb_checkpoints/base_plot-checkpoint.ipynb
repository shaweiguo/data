{
 "cells": [
  {
   "cell_type": "code",
   "execution_count": 3,
   "metadata": {},
   "outputs": [],
   "source": [
    "from bokeh.io import curdoc\n",
    "from bokeh.models import ColumnDataSource\n",
    "from bokeh.plotting import figure\n",
    "import pandas as pd\n",
    "\n",
    "df = pd.read_csv('../lib/bokeh/app/all_stocks_5yr.csv')\n",
    "df['date'] = pd.to_datetime(df['date']).apply(lambda x: x.strftime('%Y'))\n",
    "\n",
    "data = ColumnDataSource(data= {\n",
    "    'high': df[df['date'] == '2013'].high,\n",
    "    'low': df[df['date'] == '2013'].low,\n",
    "    'open': df[df['date'] == '2013'].open,\n",
    "    'close': df[df['date'] == '2013'].close,\n",
    "    'volume': df[df['date'] == '2013'].volume,\n",
    "    'Name': df[df['date'] == '2013'].Name\n",
    "})\n",
    "\n",
    "xmin, xmax = min(df.high), max(df.high)\n",
    "ymin, ymax = max(df.volume), max(df.volume)\n",
    "\n",
    "plot = figure(title='成交量/最高价', plot_height=400, plot_width=700,\n",
    "              x_range=(xmin, xmax), y_range=(ymin, ymax))\n",
    "plot.diamond(x='high', y='volume', source=data)\n",
    "plot.xaxis.axis_label = '2013年最高价'\n",
    "plot.yaxis.axis_label = '2013年成交量'\n",
    "\n",
    "curdoc().add_root(plot)\n",
    "curdoc().title = '股票成交量和最高价'"
   ]
  }
 ],
 "metadata": {
  "kernelspec": {
   "display_name": "Python 3",
   "language": "python",
   "name": "python3"
  },
  "language_info": {
   "codemirror_mode": {
    "name": "ipython",
    "version": 3
   },
   "file_extension": ".py",
   "mimetype": "text/x-python",
   "name": "python",
   "nbconvert_exporter": "python",
   "pygments_lexer": "ipython3",
   "version": "3.6.6"
  }
 },
 "nbformat": 4,
 "nbformat_minor": 2
}
