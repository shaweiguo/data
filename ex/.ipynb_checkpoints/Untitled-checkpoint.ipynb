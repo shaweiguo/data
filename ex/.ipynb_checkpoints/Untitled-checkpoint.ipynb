{
 "cells": [
  {
   "cell_type": "code",
   "execution_count": null,
   "metadata": {},
   "outputs": [],
   "source": [
    "import numpy as np\n",
    "\n",
    "def mult_scalar(m, s):\n",
    "    matrix = np.empty(m.shape)\n",
    "    m_shape = m.shape\n",
    "    for i, v in enumerate(range(m_shape[0])):\n",
    "    result = [x * s for x in m[v]]\n",
    "    x = np.array(result[0])\n",
    "    matrix[i] = x\n",
    "    return matrix\n",
    "\n",
    "def display(m):\n",
    "    s = np.shape(m)\n",
    "    cols = s[1]\n",
    "    for i, row in enumerate(m):\n",
    "        print('row', str(i) + ':', row, 'elements:', end=' ')\n",
    "        for col in range(cols):\n",
    "            print (row[col], end=' ')\n",
    "        print ()"
   ]
  }
 ],
 "metadata": {
  "kernelspec": {
   "display_name": "Python 3",
   "language": "python",
   "name": "python3"
  },
  "language_info": {
   "codemirror_mode": {
    "name": "ipython",
    "version": 3
   },
   "file_extension": ".py",
   "mimetype": "text/x-python",
   "name": "python",
   "nbconvert_exporter": "python",
   "pygments_lexer": "ipython3",
   "version": "3.6.7"
  }
 },
 "nbformat": 4,
 "nbformat_minor": 2
}
