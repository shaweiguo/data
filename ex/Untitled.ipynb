{
 "cells": [
  {
   "cell_type": "code",
   "execution_count": 2,
   "metadata": {},
   "outputs": [],
   "source": [
    "import numpy as np\n",
    "\n",
    "def mult_scalar(m, s):\n",
    "    matrix = np.empty(m.shape)\n",
    "    m_shape = m.shape\n",
    "    for i, v in enumerate(range(m_shape[0])):\n",
    "        result = [x * s for x in m[v]]\n",
    "        x = np.array(result[0])\n",
    "        matrix[i] = x\n",
    "    return matrix\n",
    "\n",
    "def display(m):\n",
    "    s = np.shape(m)\n",
    "    cols = s[1]\n",
    "    for i, row in enumerate(m):\n",
    "        print('row', str(i) + ':', row, 'elements:', end=' ')\n",
    "        for col in range(cols):\n",
    "            print (row[col], end=' ')\n",
    "        print ()"
   ]
  },
  {
   "cell_type": "code",
   "execution_count": 3,
   "metadata": {},
   "outputs": [],
   "source": [
    "v1, v2, v3 = [1, 7, -4], [2, -3, 10], [3, 5, 6]\n",
    "A = np.matrix([v1, v2, v3])"
   ]
  },
  {
   "cell_type": "code",
   "execution_count": 4,
   "metadata": {},
   "outputs": [
    {
     "data": {
      "text/plain": [
       "matrix([[ 1,  7, -4],\n",
       "        [ 2, -3, 10],\n",
       "        [ 3,  5,  6]])"
      ]
     },
     "execution_count": 4,
     "metadata": {},
     "output_type": "execute_result"
    }
   ],
   "source": [
    "A"
   ]
  },
  {
   "cell_type": "code",
   "execution_count": 5,
   "metadata": {},
   "outputs": [
    {
     "data": {
      "text/plain": [
       "array([[ 0.5,  3.5, -2. ],\n",
       "       [ 1. , -1.5,  5. ],\n",
       "       [ 1.5,  2.5,  3. ]])"
      ]
     },
     "execution_count": 5,
     "metadata": {},
     "output_type": "execute_result"
    }
   ],
   "source": [
    "scalar = 0.5\n",
    "B = mult_scalar(A, scalar)\n",
    "B"
   ]
  },
  {
   "cell_type": "code",
   "execution_count": 6,
   "metadata": {},
   "outputs": [
    {
     "data": {
      "text/plain": [
       "matrix([[2., 3., 4.]])"
      ]
     },
     "execution_count": 6,
     "metadata": {},
     "output_type": "execute_result"
    }
   ],
   "source": [
    "mu_col = np.mean(A, axis=0, dtype=np.float64)\n",
    "mu_col"
   ]
  },
  {
   "cell_type": "code",
   "execution_count": 7,
   "metadata": {},
   "outputs": [
    {
     "data": {
      "text/plain": [
       "matrix([[1.33333333],\n",
       "        [3.        ],\n",
       "        [4.66666667]])"
      ]
     },
     "execution_count": 7,
     "metadata": {},
     "output_type": "execute_result"
    }
   ],
   "source": [
    "mu_row = np.mean(A, axis=1, dtype=np.float64)\n",
    "mu_row"
   ]
  },
  {
   "cell_type": "code",
   "execution_count": 8,
   "metadata": {},
   "outputs": [
    {
     "data": {
      "text/plain": [
       "array([[ 2, 14, -8],\n",
       "       [ 4, -6, 20],\n",
       "       [ 6, 10, 12]])"
      ]
     },
     "execution_count": 8,
     "metadata": {},
     "output_type": "execute_result"
    }
   ],
   "source": [
    "C = np.array([[2, 14, -8], [4, -6, 20], [6, 10, 12]])\n",
    "C"
   ]
  },
  {
   "cell_type": "code",
   "execution_count": 9,
   "metadata": {},
   "outputs": [
    {
     "name": "stdout",
     "output_type": "stream",
     "text": [
      "row 0: [ 2 14 -8] elements: 2 14 -8 \n",
      "row 1: [ 4 -6 20] elements: 4 -6 20 \n",
      "row 2: [ 6 10 12] elements: 6 10 12 \n"
     ]
    }
   ],
   "source": [
    "display(C)"
   ]
  },
  {
   "cell_type": "code",
   "execution_count": 10,
   "metadata": {},
   "outputs": [],
   "source": [
    "def sum_cols(matrix):\n",
    "    return np.sum(matrix, axis=0)\n",
    "\n",
    "def sum_rows(matrix):\n",
    "    return np.sum(matrix, axis=1)\n",
    "\n",
    "def dot(v, w):\n",
    "    return np.dot(v, w)"
   ]
  },
  {
   "cell_type": "code",
   "execution_count": 11,
   "metadata": {},
   "outputs": [],
   "source": [
    "v1, v2, v3 = [1, 7, -4], [2, -3, 10], [3, 5, 6]\n",
    "A = np.matrix([v1, v2, v3])"
   ]
  },
  {
   "cell_type": "code",
   "execution_count": 12,
   "metadata": {},
   "outputs": [
    {
     "data": {
      "text/plain": [
       "matrix([[ 1,  7, -4],\n",
       "        [ 2, -3, 10],\n",
       "        [ 3,  5,  6]])"
      ]
     },
     "execution_count": 12,
     "metadata": {},
     "output_type": "execute_result"
    }
   ],
   "source": [
    "A"
   ]
  },
  {
   "cell_type": "code",
   "execution_count": 13,
   "metadata": {},
   "outputs": [],
   "source": [
    "v_cols = sum_cols(A)"
   ]
  },
  {
   "cell_type": "code",
   "execution_count": 14,
   "metadata": {},
   "outputs": [
    {
     "data": {
      "text/plain": [
       "matrix([[ 6,  9, 12]])"
      ]
     },
     "execution_count": 14,
     "metadata": {},
     "output_type": "execute_result"
    }
   ],
   "source": [
    "v_cols"
   ]
  },
  {
   "cell_type": "code",
   "execution_count": 16,
   "metadata": {},
   "outputs": [
    {
     "data": {
      "text/plain": [
       "matrix([[ 4],\n",
       "        [ 9],\n",
       "        [14]])"
      ]
     },
     "execution_count": 16,
     "metadata": {},
     "output_type": "execute_result"
    }
   ],
   "source": [
    "v_rows = sum_rows(A)\n",
    "v_rows"
   ]
  },
  {
   "cell_type": "code",
   "execution_count": 17,
   "metadata": {},
   "outputs": [
    {
     "data": {
      "text/plain": [
       "-59"
      ]
     },
     "execution_count": 17,
     "metadata": {},
     "output_type": "execute_result"
    }
   ],
   "source": [
    "dot_product = dot(v1, v2)\n",
    "dot_product"
   ]
  },
  {
   "cell_type": "code",
   "execution_count": 18,
   "metadata": {},
   "outputs": [],
   "source": [
    "v1, v2, v3 = [-2, 5, 4], [1, 2, 9], [10, -9, 3]\n",
    "B = np.matrix([v1, v2, v3])"
   ]
  },
  {
   "cell_type": "code",
   "execution_count": 19,
   "metadata": {},
   "outputs": [
    {
     "data": {
      "text/plain": [
       "matrix([[-2,  5,  4],\n",
       "        [ 1,  2,  9],\n",
       "        [10, -9,  3]])"
      ]
     },
     "execution_count": 19,
     "metadata": {},
     "output_type": "execute_result"
    }
   ],
   "source": [
    "B"
   ]
  },
  {
   "cell_type": "code",
   "execution_count": 20,
   "metadata": {},
   "outputs": [
    {
     "data": {
      "text/plain": [
       "matrix([[-35,  55,  55],\n",
       "        [ 93, -86,  11],\n",
       "        [ 59, -29,  75]])"
      ]
     },
     "execution_count": 20,
     "metadata": {},
     "output_type": "execute_result"
    }
   ],
   "source": [
    "C = A.dot(B)\n",
    "C"
   ]
  },
  {
   "cell_type": "code",
   "execution_count": 21,
   "metadata": {},
   "outputs": [],
   "source": [
    "def dot(v, w):\n",
    "    return np.dot(v, w)\n",
    "def display(m):\n",
    "    for i, row in enumerate(m):\n",
    "        print ('total sales by day:\\n', end='')\n",
    "        for v in np.nditer(row):\n",
    "            print (v, end=' ')\n",
    "        print()"
   ]
  },
  {
   "cell_type": "code",
   "execution_count": 23,
   "metadata": {},
   "outputs": [
    {
     "data": {
      "text/plain": [
       "matrix([[3, 4, 2]])"
      ]
     },
     "execution_count": 23,
     "metadata": {},
     "output_type": "execute_result"
    }
   ],
   "source": [
    "a = [3, 4, 2]\n",
    "A = np.matrix([a])\n",
    "A"
   ]
  },
  {
   "cell_type": "code",
   "execution_count": 25,
   "metadata": {},
   "outputs": [
    {
     "data": {
      "text/plain": [
       "matrix([[13,  9,  7, 15],\n",
       "        [ 8,  7,  4,  6],\n",
       "        [ 6,  4,  0,  3]])"
      ]
     },
     "execution_count": 25,
     "metadata": {},
     "output_type": "execute_result"
    }
   ],
   "source": [
    "v1, v2, v3 = [13, 9, 7, 15], [8, 7, 4, 6], [6, 4, 0, 3]\n",
    "B = np.matrix([v1, v2, v3])\n",
    "B"
   ]
  },
  {
   "cell_type": "code",
   "execution_count": 26,
   "metadata": {},
   "outputs": [
    {
     "data": {
      "text/plain": [
       "matrix([[83, 63, 37, 75]])"
      ]
     },
     "execution_count": 26,
     "metadata": {},
     "output_type": "execute_result"
    }
   ],
   "source": [
    "C = A.dot(B)\n",
    "C"
   ]
  },
  {
   "cell_type": "code",
   "execution_count": null,
   "metadata": {},
   "outputs": [],
   "source": []
  }
 ],
 "metadata": {
  "kernelspec": {
   "display_name": "Python 3",
   "language": "python",
   "name": "python3"
  },
  "language_info": {
   "codemirror_mode": {
    "name": "ipython",
    "version": 3
   },
   "file_extension": ".py",
   "mimetype": "text/x-python",
   "name": "python",
   "nbconvert_exporter": "python",
   "pygments_lexer": "ipython3",
   "version": "3.6.7"
  }
 },
 "nbformat": 4,
 "nbformat_minor": 2
}
